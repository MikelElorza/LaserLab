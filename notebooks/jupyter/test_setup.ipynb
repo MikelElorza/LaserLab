{
 "cells": [
  {
   "cell_type": "code",
   "execution_count": 62,
   "metadata": {},
   "outputs": [],
   "source": [
    "using Test"
   ]
  },
  {
   "cell_type": "code",
   "execution_count": 63,
   "metadata": {},
   "outputs": [],
   "source": [
    "using Plots\n",
    "using Printf"
   ]
  },
  {
   "cell_type": "code",
   "execution_count": 64,
   "id": "9b46d416",
   "metadata": {},
   "outputs": [],
   "source": [
    "using Unitful"
   ]
  },
  {
   "cell_type": "code",
   "execution_count": 65,
   "id": "319da7e2",
   "metadata": {},
   "outputs": [],
   "source": [
    "using DataFrames"
   ]
  },
  {
   "cell_type": "code",
   "execution_count": 66,
   "id": "cfd553ad",
   "metadata": {},
   "outputs": [],
   "source": [
    "using CSV"
   ]
  },
  {
   "cell_type": "code",
   "execution_count": 67,
   "id": "6679c7f3",
   "metadata": {},
   "outputs": [],
   "source": [
    "import Unitful:\n",
    "    nm, μm, mm, cm, m, km,\n",
    "    mg, g, kg,\n",
    "    ps, ns, μs, ms, s, minute, hr, d, yr, Hz, kHz, MHz, GHz,\n",
    "    eV,\n",
    "    μJ, mJ, J,\n",
    "\tμW, mW, W"
   ]
  },
  {
   "cell_type": "code",
   "execution_count": 68,
   "metadata": {},
   "outputs": [
    {
     "name": "stderr",
     "output_type": "stream",
     "text": [
      "WARNING: replacing module LaserLab.\n"
     ]
    },
    {
     "data": {
      "text/plain": [
       "Main.LaserLab"
      ]
     },
     "metadata": {},
     "output_type": "display_data"
    }
   ],
   "source": [
    "include(\"../src/LaserLab.jl\")"
   ]
  },
  {
   "cell_type": "markdown",
   "metadata": {},
   "source": [
    "# Test setup"
   ]
  },
  {
   "cell_type": "markdown",
   "id": "b8ac2e9b",
   "metadata": {},
   "source": [
    "\tstruct Fov\n",
    "\n",
    "Represent a field of view\n",
    "\n",
    "#### Fields\n",
    "- `d::Unitful.Length`  : diameter of Fov\n",
    "- `z::Unitful.Length`  : thickness\n",
    "- `a::Unitful.Area`    : area (computed)\n",
    "- `v::Unitful.Volume`  : volume (computed)\n"
   ]
  },
  {
   "cell_type": "code",
   "execution_count": 69,
   "metadata": {},
   "outputs": [
    {
     "data": {
      "text/plain": [
       "Main.LaserLab.Fov(1.0 mm, 1.0 mm, 0.7853981633974483 mm², 0.7853981633974483 mm³)"
      ]
     },
     "metadata": {},
     "output_type": "display_data"
    }
   ],
   "source": [
    "fov = LaserLab.Fov(1.0mm,1.0mm)"
   ]
  },
  {
   "cell_type": "code",
   "execution_count": 70,
   "metadata": {},
   "outputs": [
    {
     "data": {
      "text/plain": [
       "\u001b[32m\u001b[1mTest Passed\u001b[22m\u001b[39m"
      ]
     },
     "metadata": {},
     "output_type": "display_data"
    }
   ],
   "source": [
    "@test fov.a ≈ π * (fov.d/2.)^2 \n",
    "@test fov.v ≈ fov.a * fov.z"
   ]
  },
  {
   "cell_type": "markdown",
   "id": "382fd409",
   "metadata": {},
   "source": [
    "\tstruct CLaser <: Laser\n",
    "\n",
    "Simple representation of a continous laser\n",
    "\n",
    "### Fields\n",
    "- `λ::typeof(1.0nm)`  : Laser wavelength\n",
    "- `P::typeof(1.0mW)`  : Power"
   ]
  },
  {
   "cell_type": "code",
   "execution_count": 71,
   "id": "51800f8f",
   "metadata": {},
   "outputs": [
    {
     "data": {
      "text/plain": [
       "Main.LaserLab.CLaser(375.0 nm, 1.0 μW)"
      ]
     },
     "metadata": {},
     "output_type": "display_data"
    }
   ],
   "source": [
    "luv = LaserLab.CLaser(375.0nm, 1.0μW)"
   ]
  },
  {
   "cell_type": "code",
   "execution_count": 72,
   "id": "58b869e8",
   "metadata": {},
   "outputs": [
    {
     "data": {
      "text/plain": [
       "\u001b[32m\u001b[1mTest Passed\u001b[22m\u001b[39m"
      ]
     },
     "metadata": {},
     "output_type": "display_data"
    }
   ],
   "source": [
    "@test luv.P/μW ≈ 1 \n",
    "@test luv.λ/nm ≈ 375.0"
   ]
  },
  {
   "cell_type": "markdown",
   "id": "baccb9d0",
   "metadata": {},
   "source": [
    "\tObjective\n",
    "\n",
    "Simple representation of a microscope objective\n",
    "\n",
    "#### Fields\n",
    "- `name::String`       : identifies the objective\n",
    "- `mode::String`       : `d` if NA and diameter specified `f` if focal and NA specified \n",
    "- `NA::Float64`        : Numerical aperture\n",
    "- `M::Float64`         : Magnification\n",
    "- `f::typeof(1.0mm)`   : focal distance of the lens\n",
    "- `d::typeof(1.0mm)`   : diameter of the lens\n"
   ]
  },
  {
   "cell_type": "code",
   "execution_count": 73,
   "id": "b9acd30d",
   "metadata": {},
   "outputs": [
    {
     "name": "stdout",
     "output_type": "stream",
     "text": [
      "NA =   0.5 M =  40.0 "
     ]
    }
   ],
   "source": [
    "obj = LaserLab.Objective(\"Specify NA & M\", 0.5, 40.0)\n",
    "@printf(\"NA = %5.1f M = %5.1f \", obj.NA, obj.M)"
   ]
  },
  {
   "cell_type": "code",
   "execution_count": 74,
   "id": "a8b55ca8",
   "metadata": {},
   "outputs": [
    {
     "data": {
      "text/plain": [
       "\u001b[32m\u001b[1mTest Passed\u001b[22m\u001b[39m"
      ]
     },
     "metadata": {},
     "output_type": "display_data"
    }
   ],
   "source": [
    "@test obj.NA ≈ 0.5 \n",
    "@test obj.M ≈ 40.0"
   ]
  },
  {
   "cell_type": "code",
   "execution_count": 75,
   "id": "5f8b8167",
   "metadata": {},
   "outputs": [
    {
     "name": "stdout",
     "output_type": "stream",
     "text": [
      "NA =   0.5 M =  40.0 f =   5.0 d =   5.0"
     ]
    }
   ],
   "source": [
    "obj2 = LaserLab.Objective(\"Specify f,d & M\", 5.0mm, 5.0mm, 40.0)\n",
    "@printf(\"NA = %5.1f M = %5.1f f = %5.1f d = %5.1f\", obj2.NA, obj2.M, obj2.f/mm, obj2.d/mm)"
   ]
  },
  {
   "cell_type": "code",
   "execution_count": 76,
   "id": "d752240e",
   "metadata": {},
   "outputs": [
    {
     "data": {
      "text/plain": [
       "\u001b[32m\u001b[1mTest Passed\u001b[22m\u001b[39m"
      ]
     },
     "metadata": {},
     "output_type": "display_data"
    }
   ],
   "source": [
    "@test obj2.NA ≈ 0.5 \n",
    "@test obj2.M ≈ 40.0\n",
    "@test obj2.f/mm ≈ 5.0\n",
    "@test obj2.d/mm ≈ 5.0"
   ]
  },
  {
   "cell_type": "code",
   "execution_count": 77,
   "id": "52c0b669",
   "metadata": {},
   "outputs": [
    {
     "data": {
      "text/plain": [
       "dspot (generic function with 1 method)"
      ]
     },
     "metadata": {},
     "output_type": "display_data"
    }
   ],
   "source": [
    "dspot(λ::Real, NA::Real) = 1.83*λ/(2*NA)"
   ]
  },
  {
   "cell_type": "code",
   "execution_count": 78,
   "id": "7e8db768",
   "metadata": {},
   "outputs": [
    {
     "data": {
      "text/plain": [
       "658.8000000000001"
      ]
     },
     "metadata": {},
     "output_type": "display_data"
    }
   ],
   "source": [
    "dspot(360.0, 0.5) "
   ]
  },
  {
   "cell_type": "code",
   "execution_count": 79,
   "id": "cb73677a",
   "metadata": {},
   "outputs": [
    {
     "data": {
      "text/plain": [
       "915.0"
      ]
     },
     "metadata": {},
     "output_type": "display_data"
    }
   ],
   "source": [
    "dspot(500.0, 0.5) "
   ]
  },
  {
   "cell_type": "code",
   "execution_count": 80,
   "id": "dc6393a8",
   "metadata": {},
   "outputs": [
    {
     "data": {
      "text/plain": [
       "\u001b[32m\u001b[1mTest Passed\u001b[22m\u001b[39m"
      ]
     },
     "metadata": {},
     "output_type": "display_data"
    }
   ],
   "source": [
    "@test LaserLab.lmu_40x_nuv_transmission(0.500μm) ==LaserLab.lmu_40x_nuv_transmission(500nm)"
   ]
  },
  {
   "cell_type": "code",
   "execution_count": 81,
   "id": "f9166fef",
   "metadata": {},
   "outputs": [
    {
     "data": {
      "text/plain": [
       "0.772"
      ]
     },
     "metadata": {},
     "output_type": "display_data"
    }
   ],
   "source": [
    "LaserLab.lmu_40x_nuv_transmission(500nm)"
   ]
  },
  {
   "cell_type": "code",
   "execution_count": 82,
   "id": "a24c756f",
   "metadata": {},
   "outputs": [
    {
     "data": {
      "image/png": "[encoded data removed]",
      "image/svg+xml": "<?xml version=\"1.0\" encoding=\"utf-8\"?>\n<svg xmlns=\"http://www.w3.org/2000/svg\" xmlns:xlink=\"http://www.w3.org/1999/xlink\" width=\"600\" height=\"400\" viewBox=\"0 0 2400 1600\">\n<defs>\n  <clipPath id=\"clip990\">\n    <rect x=\"0\" y=\"0\" width=\"2400\" height=\"1600\"/>\n  </clipPath>\n</defs>\n<path clip-path=\"url(#clip990)\" d=\"\nM0 1600 L2400 1600 L2400 0 L0 0  Z\n  \" fill=\"#ffffff\" fill-rule=\"evenodd\" fill-opacity=\"1\"/>\n<defs>\n  <clipPath id=\"clip991\">\n    <rect x=\"480\" y=\"0\" width=\"1681\" height=\"1600\"/>\n  </clipPath>\n</defs>\n<path clip-path=\"url(#clip990)\" d=\"\nM219.866 1423.18 L2352.76 1423.18 L2352.76 47.2441 L219.866 47.2441  Z\n  \" fill=\"#ffffff\" fill-rule=\"evenodd\" fill-opacity=\"1\"/>\n<defs>\n  <clipPath id=\"clip992\">\n    <rect x=\"219\" y=\"47\" width=\"2134\" height=\"1377\"/>\n  </clipPath>\n</defs>\n<polyline clip-path=\"url(#clip992)\" style=\"stroke:#000000; stroke-linecap:butt; stroke-linejoin:round; stroke-width:2; stroke-opacity:0.1; fill:none\" points=\"\n  280.231,1423.18 280.231,47.2441 \n  \"/>\n<polyline clip-path=\"url(#clip992)\" style=\"stroke:#000000; stroke-linecap:butt; stroke-linejoin:round; stroke-width:2; stroke-opacity:0.1; fill:none\" points=\"\n  615.591,1423.18 615.591,47.2441 \n  \"/>\n<polyline clip-path=\"url(#clip992)\" style=\"stroke:#000000; stroke-linecap:butt; stroke-linejoin:round; stroke-width:2; stroke-opacity:0.1; fill:none\" points=\"\n  950.951,1423.18 950.951,47.2441 \n  \"/>\n<polyline clip-path=\"url(#clip992)\" style=\"stroke:#000000; stroke-linecap:butt; stroke-linejoin:round; stroke-width:2; stroke-opacity:0.1; fill:none\" points=\"\n  1286.31,1423.18 1286.31,47.2441 \n  \"/>\n<polyline clip-path=\"url(#clip992)\" style=\"stroke:#000000; stroke-linecap:butt; stroke-linejoin:round; stroke-width:2; stroke-opacity:0.1; fill:none\" points=\"\n  1621.67,1423.18 1621.67,47.2441 \n  \"/>\n<polyline clip-path=\"url(#clip992)\" style=\"stroke:#000000; stroke-linecap:butt; stroke-linejoin:round; stroke-width:2; stroke-opacity:0.1; fill:none\" points=\"\n  1957.03,1423.18 1957.03,47.2441 \n  \"/>\n<polyline clip-path=\"url(#clip992)\" style=\"stroke:#000000; stroke-linecap:butt; stroke-linejoin:round; stroke-width:2; stroke-opacity:0.1; fill:none\" points=\"\n  2292.39,1423.18 2292.39,47.2441 \n  \"/>\n<polyline clip-path=\"url(#clip990)\" style=\"stroke:#000000; stroke-linecap:butt; stroke-linejoin:round; stroke-width:4; stroke-opacity:1; fill:none\" points=\"\n  219.866,1423.18 2352.76,1423.18 \n  \"/>\n<polyline clip-path=\"url(#clip990)\" style=\"stroke:#000000; stroke-linecap:butt; stroke-linejoin:round; stroke-width:4; stroke-opacity:1; fill:none\" points=\"\n  280.231,1423.18 280.231,1404.28 \n  \"/>\n<polyline clip-path=\"url(#clip990)\" style=\"stroke:#000000; stroke-linecap:butt; stroke-linejoin:round; stroke-width:4; stroke-opacity:1; fill:none\" points=\"\n  615.591,1423.18 615.591,1404.28 \n  \"/>\n<polyline clip-path=\"url(#clip990)\" style=\"stroke:#000000; stroke-linecap:butt; stroke-linejoin:round; stroke-width:4; stroke-opacity:1; fill:none\" points=\"\n  950.951,1423.18 950.951,1404.28 \n  \"/>\n<polyline clip-path=\"url(#clip990)\" style=\"stroke:#000000; stroke-linecap:butt; stroke-linejoin:round; stroke-width:4; stroke-opacity:1; fill:none\" points=\"\n  1286.31,1423.18 1286.31,1404.28 \n  \"/>\n<polyline clip-path=\"url(#clip990)\" style=\"stroke:#000000; stroke-linecap:butt; stroke-linejoin:round; stroke-width:4; stroke-opacity:1; fill:none\" points=\"\n  1621.67,1423.18 1621.67,1404.28 \n  \"/>\n<polyline clip-path=\"url(#clip990)\" style=\"stroke:#000000; stroke-linecap:butt; stroke-linejoin:round; stroke-width:4; stroke-opacity:1; fill:none\" points=\"\n  1957.03,1423.18 1957.03,1404.28 \n  \"/>\n<polyline clip-path=\"url(#clip990)\" style=\"stroke:#000000; stroke-linecap:butt; stroke-linejoin:round; stroke-width:4; stroke-opacity:1; fill:none\" points=\"\n  2292.39,1423.18 2292.39,1404.28 \n  \"/>\n<path clip-path=\"url(#clip990)\" d=\"M243.923 1481.64 L260.243 1481.64 L260.243 1485.58 L238.298 1485.58 L238.298 1481.64 Q240.96 1478.89 245.544 1474.26 Q250.15 1469.61 251.331 1468.27 Q253.576 1465.74 254.456 1464.01 Q255.359 1462.25 255.359 1460.56 Q255.359 1457.8 253.414 1456.07 Q251.493 1454.33 248.391 1454.33 Q246.192 1454.33 243.738 1455.09 Q241.308 1455.86 238.53 1457.41 L238.53 1452.69 Q241.354 1451.55 243.808 1450.97 Q246.261 1450.39 248.298 1450.39 Q253.669 1450.39 256.863 1453.08 Q260.058 1455.77 260.058 1460.26 Q260.058 1462.39 259.247 1464.31 Q258.46 1466.2 256.354 1468.8 Q255.775 1469.47 252.673 1472.69 Q249.572 1475.88 243.923 1481.64 Z\" fill=\"#000000\" fill-rule=\"evenodd\" fill-opacity=\"1\" /><path clip-path=\"url(#clip990)\" d=\"M280.057 1454.1 Q276.446 1454.1 274.618 1457.66 Q272.812 1461.2 272.812 1468.33 Q272.812 1475.44 274.618 1479.01 Q276.446 1482.55 280.057 1482.55 Q283.692 1482.55 285.497 1479.01 Q287.326 1475.44 287.326 1468.33 Q287.326 1461.2 285.497 1457.66 Q283.692 1454.1 280.057 1454.1 M280.057 1450.39 Q285.868 1450.39 288.923 1455 Q292.002 1459.58 292.002 1468.33 Q292.002 1477.06 288.923 1481.67 Q285.868 1486.25 280.057 1486.25 Q274.247 1486.25 271.169 1481.67 Q268.113 1477.06 268.113 1468.33 Q268.113 1459.58 271.169 1455 Q274.247 1450.39 280.057 1450.39 Z\" fill=\"#000000\" fill-rule=\"evenodd\" fill-opacity=\"1\" /><path clip-path=\"url(#clip990)\" d=\"M310.219 1454.1 Q306.608 1454.1 304.78 1457.66 Q302.974 1461.2 302.974 1468.33 Q302.974 1475.44 304.78 1479.01 Q306.608 1482.55 310.219 1482.55 Q313.854 1482.55 315.659 1479.01 Q317.488 1475.44 317.488 1468.33 Q317.488 1461.2 315.659 1457.66 Q313.854 1454.1 310.219 1454.1 M310.219 1450.39 Q316.029 1450.39 319.085 1455 Q322.164 1459.58 322.164 1468.33 Q322.164 1477.06 319.085 1481.67 Q316.029 1486.25 310.219 1486.25 Q304.409 1486.25 301.33 1481.67 Q298.275 1477.06 298.275 1468.33 Q298.275 1459.58 301.33 1455 Q304.409 1450.39 310.219 1450.39 Z\" fill=\"#000000\" fill-rule=\"evenodd\" fill-opacity=\"1\" /><path clip-path=\"url(#clip990)\" d=\"M589.353 1466.95 Q592.709 1467.66 594.584 1469.93 Q596.482 1472.2 596.482 1475.53 Q596.482 1480.65 592.964 1483.45 Q589.445 1486.25 582.964 1486.25 Q580.788 1486.25 578.473 1485.81 Q576.182 1485.39 573.728 1484.54 L573.728 1480.02 Q575.672 1481.16 577.987 1481.74 Q580.302 1482.32 582.825 1482.32 Q587.223 1482.32 589.515 1480.58 Q591.83 1478.84 591.83 1475.53 Q591.83 1472.48 589.677 1470.77 Q587.547 1469.03 583.728 1469.03 L579.7 1469.03 L579.7 1465.19 L583.913 1465.19 Q587.362 1465.19 589.191 1463.82 Q591.019 1462.43 591.019 1459.84 Q591.019 1457.18 589.121 1455.77 Q587.246 1454.33 583.728 1454.33 Q581.807 1454.33 579.607 1454.75 Q577.408 1455.16 574.77 1456.04 L574.77 1451.88 Q577.432 1451.14 579.746 1450.77 Q582.084 1450.39 584.144 1450.39 Q589.469 1450.39 592.57 1452.83 Q595.672 1455.23 595.672 1459.35 Q595.672 1462.22 594.029 1464.21 Q592.385 1466.18 589.353 1466.95 Z\" fill=\"#000000\" fill-rule=\"evenodd\" fill-opacity=\"1\" /><path clip-path=\"url(#clip990)\" d=\"M615.348 1454.1 Q611.737 1454.1 609.908 1457.66 Q608.103 1461.2 608.103 1468.33 Q608.103 1475.44 609.908 1479.01 Q611.737 1482.55 615.348 1482.55 Q618.982 1482.55 620.788 1479.01 Q622.616 1475.44 622.616 1468.33 Q622.616 1461.2 620.788 1457.66 Q618.982 1454.1 615.348 1454.1 M615.348 1450.39 Q621.158 1450.39 624.214 1455 Q627.292 1459.58 627.292 1468.33 Q627.292 1477.06 624.214 1481.67 Q621.158 1486.25 615.348 1486.25 Q609.538 1486.25 606.459 1481.67 Q603.404 1477.06 603.404 1468.33 Q603.404 1459.58 606.459 1455 Q609.538 1450.39 615.348 1450.39 Z\" fill=\"#000000\" fill-rule=\"evenodd\" fill-opacity=\"1\" /><path clip-path=\"url(#clip990)\" d=\"M645.51 1454.1 Q641.899 1454.1 640.07 1457.66 Q638.265 1461.2 638.265 1468.33 Q638.265 1475.44 640.07 1479.01 Q641.899 1482.55 645.51 1482.55 Q649.144 1482.55 650.95 1479.01 Q652.778 1475.44 652.778 1468.33 Q652.778 1461.2 650.95 1457.66 Q649.144 1454.1 645.51 1454.1 M645.51 1450.39 Q651.32 1450.39 654.376 1455 Q657.454 1459.58 657.454 1468.33 Q657.454 1477.06 654.376 1481.67 Q651.32 1486.25 645.51 1486.25 Q639.7 1486.25 636.621 1481.67 Q633.566 1477.06 633.566 1468.33 Q633.566 1459.58 636.621 1455 Q639.7 1450.39 645.51 1450.39 Z\" fill=\"#000000\" fill-rule=\"evenodd\" fill-opacity=\"1\" /><path clip-path=\"url(#clip990)\" d=\"M924.042 1455.09 L912.236 1473.54 L924.042 1473.54 L924.042 1455.09 M922.815 1451.02 L928.694 1451.02 L928.694 1473.54 L933.625 1473.54 L933.625 1477.43 L928.694 1477.43 L928.694 1485.58 L924.042 1485.58 L924.042 1477.43 L908.44 1477.43 L908.44 1472.92 L922.815 1451.02 Z\" fill=\"#000000\" fill-rule=\"evenodd\" fill-opacity=\"1\" /><path clip-path=\"url(#clip990)\" d=\"M951.356 1454.1 Q947.745 1454.1 945.916 1457.66 Q944.111 1461.2 944.111 1468.33 Q944.111 1475.44 945.916 1479.01 Q947.745 1482.55 951.356 1482.55 Q954.99 1482.55 956.796 1479.01 Q958.625 1475.44 958.625 1468.33 Q958.625 1461.2 956.796 1457.66 Q954.99 1454.1 951.356 1454.1 M951.356 1450.39 Q957.166 1450.39 960.222 1455 Q963.301 1459.58 963.301 1468.33 Q963.301 1477.06 960.222 1481.67 Q957.166 1486.25 951.356 1486.25 Q945.546 1486.25 942.467 1481.67 Q939.412 1477.06 939.412 1468.33 Q939.412 1459.58 942.467 1455 Q945.546 1450.39 951.356 1450.39 Z\" fill=\"#000000\" fill-rule=\"evenodd\" fill-opacity=\"1\" /><path clip-path=\"url(#clip990)\" d=\"M981.518 1454.1 Q977.907 1454.1 976.078 1457.66 Q974.273 1461.2 974.273 1468.33 Q974.273 1475.44 976.078 1479.01 Q977.907 1482.55 981.518 1482.55 Q985.152 1482.55 986.958 1479.01 Q988.787 1475.44 988.787 1468.33 Q988.787 1461.2 986.958 1457.66 Q985.152 1454.1 981.518 1454.1 M981.518 1450.39 Q987.328 1450.39 990.384 1455 Q993.462 1459.58 993.462 1468.33 Q993.462 1477.06 990.384 1481.67 Q987.328 1486.25 981.518 1486.25 Q975.708 1486.25 972.629 1481.67 Q969.574 1477.06 969.574 1468.33 Q969.574 1459.58 972.629 1455 Q975.708 1450.39 981.518 1450.39 Z\" fill=\"#000000\" fill-rule=\"evenodd\" fill-opacity=\"1\" /><path clip-path=\"url(#clip990)\" d=\"M1245.93 1451.02 L1264.29 1451.02 L1264.29 1454.96 L1250.21 1454.96 L1250.21 1463.43 Q1251.23 1463.08 1252.25 1462.92 Q1253.27 1462.73 1254.29 1462.73 Q1260.07 1462.73 1263.45 1465.9 Q1266.83 1469.08 1266.83 1474.49 Q1266.83 1480.07 1263.36 1483.17 Q1259.89 1486.25 1253.57 1486.25 Q1251.39 1486.25 1249.12 1485.88 Q1246.88 1485.51 1244.47 1484.77 L1244.47 1480.07 Q1246.55 1481.2 1248.78 1481.76 Q1251 1482.32 1253.48 1482.32 Q1257.48 1482.32 1259.82 1480.21 Q1262.16 1478.1 1262.16 1474.49 Q1262.16 1470.88 1259.82 1468.77 Q1257.48 1466.67 1253.48 1466.67 Q1251.6 1466.67 1249.73 1467.08 Q1247.87 1467.5 1245.93 1468.38 L1245.93 1451.02 Z\" fill=\"#000000\" fill-rule=\"evenodd\" fill-opacity=\"1\" /><path clip-path=\"url(#clip990)\" d=\"M1286.04 1454.1 Q1282.43 1454.1 1280.61 1457.66 Q1278.8 1461.2 1278.8 1468.33 Q1278.8 1475.44 1280.61 1479.01 Q1282.43 1482.55 1286.04 1482.55 Q1289.68 1482.55 1291.48 1479.01 Q1293.31 1475.44 1293.31 1468.33 Q1293.31 1461.2 1291.48 1457.66 Q1289.68 1454.1 1286.04 1454.1 M1286.04 1450.39 Q1291.86 1450.39 1294.91 1455 Q1297.99 1459.58 1297.99 1468.33 Q1297.99 1477.06 1294.91 1481.67 Q1291.86 1486.25 1286.04 1486.25 Q1280.23 1486.25 1277.16 1481.67 Q1274.1 1477.06 1274.1 1468.33 Q1274.1 1459.58 1277.16 1455 Q1280.23 1450.39 1286.04 1450.39 Z\" fill=\"#000000\" fill-rule=\"evenodd\" fill-opacity=\"1\" /><path clip-path=\"url(#clip990)\" d=\"M1316.21 1454.1 Q1312.6 1454.1 1310.77 1457.66 Q1308.96 1461.2 1308.96 1468.33 Q1308.96 1475.44 1310.77 1479.01 Q1312.6 1482.55 1316.21 1482.55 Q1319.84 1482.55 1321.65 1479.01 Q1323.48 1475.44 1323.48 1468.33 Q1323.48 1461.2 1321.65 1457.66 Q1319.84 1454.1 1316.21 1454.1 M1316.21 1450.39 Q1322.02 1450.39 1325.07 1455 Q1328.15 1459.58 1328.15 1468.33 Q1328.15 1477.06 1325.07 1481.67 Q1322.02 1486.25 1316.21 1486.25 Q1310.4 1486.25 1307.32 1481.67 Q1304.26 1477.06 1304.26 1468.33 Q1304.26 1459.58 1307.32 1455 Q1310.4 1450.39 1316.21 1450.39 Z\" fill=\"#000000\" fill-rule=\"evenodd\" fill-opacity=\"1\" /><path clip-path=\"url(#clip990)\" d=\"M1592 1466.44 Q1588.85 1466.44 1587 1468.59 Q1585.17 1470.74 1585.17 1474.49 Q1585.17 1478.22 1587 1480.39 Q1588.85 1482.55 1592 1482.55 Q1595.14 1482.55 1596.97 1480.39 Q1598.82 1478.22 1598.82 1474.49 Q1598.82 1470.74 1596.97 1468.59 Q1595.14 1466.44 1592 1466.44 M1601.28 1451.78 L1601.28 1456.04 Q1599.52 1455.21 1597.71 1454.77 Q1595.93 1454.33 1594.17 1454.33 Q1589.54 1454.33 1587.09 1457.45 Q1584.66 1460.58 1584.31 1466.9 Q1585.68 1464.89 1587.74 1463.82 Q1589.8 1462.73 1592.27 1462.73 Q1597.48 1462.73 1600.49 1465.9 Q1603.52 1469.05 1603.52 1474.49 Q1603.52 1479.82 1600.37 1483.03 Q1597.23 1486.25 1592 1486.25 Q1586 1486.25 1582.83 1481.67 Q1579.66 1477.06 1579.66 1468.33 Q1579.66 1460.14 1583.55 1455.28 Q1587.44 1450.39 1593.99 1450.39 Q1595.75 1450.39 1597.53 1450.74 Q1599.33 1451.09 1601.28 1451.78 Z\" fill=\"#000000\" fill-rule=\"evenodd\" fill-opacity=\"1\" /><path clip-path=\"url(#clip990)\" d=\"M1621.58 1454.1 Q1617.97 1454.1 1616.14 1457.66 Q1614.33 1461.2 1614.33 1468.33 Q1614.33 1475.44 1616.14 1479.01 Q1617.97 1482.55 1621.58 1482.55 Q1625.21 1482.55 1627.02 1479.01 Q1628.85 1475.44 1628.85 1468.33 Q1628.85 1461.2 1627.02 1457.66 Q1625.21 1454.1 1621.58 1454.1 M1621.58 1450.39 Q1627.39 1450.39 1630.44 1455 Q1633.52 1459.58 1633.52 1468.33 Q1633.52 1477.06 1630.44 1481.67 Q1627.39 1486.25 1621.58 1486.25 Q1615.77 1486.25 1612.69 1481.67 Q1609.63 1477.06 1609.63 1468.33 Q1609.63 1459.58 1612.69 1455 Q1615.77 1450.39 1621.58 1450.39 Z\" fill=\"#000000\" fill-rule=\"evenodd\" fill-opacity=\"1\" /><path clip-path=\"url(#clip990)\" d=\"M1651.74 1454.1 Q1648.13 1454.1 1646.3 1457.66 Q1644.5 1461.2 1644.5 1468.33 Q1644.5 1475.44 1646.3 1479.01 Q1648.13 1482.55 1651.74 1482.55 Q1655.37 1482.55 1657.18 1479.01 Q1659.01 1475.44 1659.01 1468.33 Q1659.01 1461.2 1657.18 1457.66 Q1655.37 1454.1 1651.74 1454.1 M1651.74 1450.39 Q1657.55 1450.39 1660.61 1455 Q1663.68 1459.58 1663.68 1468.33 Q1663.68 1477.06 1660.61 1481.67 Q1657.55 1486.25 1651.74 1486.25 Q1645.93 1486.25 1642.85 1481.67 Q1639.8 1477.06 1639.8 1468.33 Q1639.8 1459.58 1642.85 1455 Q1645.93 1450.39 1651.74 1450.39 Z\" fill=\"#000000\" fill-rule=\"evenodd\" fill-opacity=\"1\" /><path clip-path=\"url(#clip990)\" d=\"M1915.31 1451.02 L1937.53 1451.02 L1937.53 1453.01 L1924.98 1485.58 L1920.1 1485.58 L1931.9 1454.96 L1915.31 1454.96 L1915.31 1451.02 Z\" fill=\"#000000\" fill-rule=\"evenodd\" fill-opacity=\"1\" /><path clip-path=\"url(#clip990)\" d=\"M1956.65 1454.1 Q1953.04 1454.1 1951.21 1457.66 Q1949.4 1461.2 1949.4 1468.33 Q1949.4 1475.44 1951.21 1479.01 Q1953.04 1482.55 1956.65 1482.55 Q1960.28 1482.55 1962.09 1479.01 Q1963.92 1475.44 1963.92 1468.33 Q1963.92 1461.2 1962.09 1457.66 Q1960.28 1454.1 1956.65 1454.1 M1956.65 1450.39 Q1962.46 1450.39 1965.51 1455 Q1968.59 1459.58 1968.59 1468.33 Q1968.59 1477.06 1965.51 1481.67 Q1962.46 1486.25 1956.65 1486.25 Q1950.84 1486.25 1947.76 1481.67 Q1944.7 1477.06 1944.7 1468.33 Q1944.7 1459.58 1947.76 1455 Q1950.84 1450.39 1956.65 1450.39 Z\" fill=\"#000000\" fill-rule=\"evenodd\" fill-opacity=\"1\" /><path clip-path=\"url(#clip990)\" d=\"M1986.81 1454.1 Q1983.2 1454.1 1981.37 1457.66 Q1979.57 1461.2 1979.57 1468.33 Q1979.57 1475.44 1981.37 1479.01 Q1983.2 1482.55 1986.81 1482.55 Q1990.45 1482.55 1992.25 1479.01 Q1994.08 1475.44 1994.08 1468.33 Q1994.08 1461.2 1992.25 1457.66 Q1990.45 1454.1 1986.81 1454.1 M1986.81 1450.39 Q1992.62 1450.39 1995.68 1455 Q1998.76 1459.58 1998.76 1468.33 Q1998.76 1477.06 1995.68 1481.67 Q1992.62 1486.25 1986.81 1486.25 Q1981 1486.25 1977.92 1481.67 Q1974.87 1477.06 1974.87 1468.33 Q1974.87 1459.58 1977.92 1455 Q1981 1450.39 1986.81 1450.39 Z\" fill=\"#000000\" fill-rule=\"evenodd\" fill-opacity=\"1\" /><path clip-path=\"url(#clip990)\" d=\"M2262.18 1469.17 Q2258.85 1469.17 2256.93 1470.95 Q2255.03 1472.73 2255.03 1475.86 Q2255.03 1478.98 2256.93 1480.77 Q2258.85 1482.55 2262.18 1482.55 Q2265.52 1482.55 2267.44 1480.77 Q2269.36 1478.96 2269.36 1475.86 Q2269.36 1472.73 2267.44 1470.95 Q2265.54 1469.17 2262.18 1469.17 M2257.51 1467.18 Q2254.5 1466.44 2252.81 1464.38 Q2251.14 1462.32 2251.14 1459.35 Q2251.14 1455.21 2254.08 1452.8 Q2257.04 1450.39 2262.18 1450.39 Q2267.34 1450.39 2270.28 1452.8 Q2273.22 1455.21 2273.22 1459.35 Q2273.22 1462.32 2271.53 1464.38 Q2269.87 1466.44 2266.88 1467.18 Q2270.26 1467.96 2272.14 1470.26 Q2274.03 1472.55 2274.03 1475.86 Q2274.03 1480.88 2270.96 1483.57 Q2267.9 1486.25 2262.18 1486.25 Q2256.47 1486.25 2253.39 1483.57 Q2250.33 1480.88 2250.33 1475.86 Q2250.33 1472.55 2252.23 1470.26 Q2254.13 1467.96 2257.51 1467.18 M2255.79 1459.79 Q2255.79 1462.48 2257.46 1463.98 Q2259.15 1465.49 2262.18 1465.49 Q2265.19 1465.49 2266.88 1463.98 Q2268.59 1462.48 2268.59 1459.79 Q2268.59 1457.11 2266.88 1455.6 Q2265.19 1454.1 2262.18 1454.1 Q2259.15 1454.1 2257.46 1455.6 Q2255.79 1457.11 2255.79 1459.79 Z\" fill=\"#000000\" fill-rule=\"evenodd\" fill-opacity=\"1\" /><path clip-path=\"url(#clip990)\" d=\"M2292.34 1454.1 Q2288.73 1454.1 2286.91 1457.66 Q2285.1 1461.2 2285.1 1468.33 Q2285.1 1475.44 2286.91 1479.01 Q2288.73 1482.55 2292.34 1482.55 Q2295.98 1482.55 2297.78 1479.01 Q2299.61 1475.44 2299.61 1468.33 Q2299.61 1461.2 2297.78 1457.66 Q2295.98 1454.1 2292.34 1454.1 M2292.34 1450.39 Q2298.15 1450.39 2301.21 1455 Q2304.29 1459.58 2304.29 1468.33 Q2304.29 1477.06 2301.21 1481.67 Q2298.15 1486.25 2292.34 1486.25 Q2286.53 1486.25 2283.46 1481.67 Q2280.4 1477.06 2280.4 1468.33 Q2280.4 1459.58 2283.46 1455 Q2286.53 1450.39 2292.34 1450.39 Z\" fill=\"#000000\" fill-rule=\"evenodd\" fill-opacity=\"1\" /><path clip-path=\"url(#clip990)\" d=\"M2322.51 1454.1 Q2318.9 1454.1 2317.07 1457.66 Q2315.26 1461.2 2315.26 1468.33 Q2315.26 1475.44 2317.07 1479.01 Q2318.9 1482.55 2322.51 1482.55 Q2326.14 1482.55 2327.95 1479.01 Q2329.78 1475.44 2329.78 1468.33 Q2329.78 1461.2 2327.95 1457.66 Q2326.14 1454.1 2322.51 1454.1 M2322.51 1450.39 Q2328.32 1450.39 2331.37 1455 Q2334.45 1459.58 2334.45 1468.33 Q2334.45 1477.06 2331.37 1481.67 Q2328.32 1486.25 2322.51 1486.25 Q2316.7 1486.25 2313.62 1481.67 Q2310.56 1477.06 2310.56 1468.33 Q2310.56 1459.58 2313.62 1455 Q2316.7 1450.39 2322.51 1450.39 Z\" fill=\"#000000\" fill-rule=\"evenodd\" fill-opacity=\"1\" /><path clip-path=\"url(#clip990)\" d=\"M1287.2 1524.09 L1303.66 1568.04 L1297.45 1568.04 L1287.46 1541.69 L1275.17 1568.04 L1268.96 1568.04 L1284.59 1533.86 L1282.24 1527.56 Q1280.74 1523.55 1277.34 1523.55 L1274.28 1523.55 L1274.28 1518.52 L1278 1518.58 Q1285.2 1518.68 1287.2 1524.09 Z\" fill=\"#000000\" fill-rule=\"evenodd\" fill-opacity=\"1\" /><polyline clip-path=\"url(#clip992)\" style=\"stroke:#000000; stroke-linecap:butt; stroke-linejoin:round; stroke-width:2; stroke-opacity:0.1; fill:none\" points=\"\n  219.866,1150.87 2352.76,1150.87 \n  \"/>\n<polyline clip-path=\"url(#clip992)\" style=\"stroke:#000000; stroke-linecap:butt; stroke-linejoin:round; stroke-width:2; stroke-opacity:0.1; fill:none\" points=\"\n  219.866,857.326 2352.76,857.326 \n  \"/>\n<polyline clip-path=\"url(#clip992)\" style=\"stroke:#000000; stroke-linecap:butt; stroke-linejoin:round; stroke-width:2; stroke-opacity:0.1; fill:none\" points=\"\n  219.866,563.782 2352.76,563.782 \n  \"/>\n<polyline clip-path=\"url(#clip992)\" style=\"stroke:#000000; stroke-linecap:butt; stroke-linejoin:round; stroke-width:2; stroke-opacity:0.1; fill:none\" points=\"\n  219.866,270.238 2352.76,270.238 \n  \"/>\n<polyline clip-path=\"url(#clip990)\" style=\"stroke:#000000; stroke-linecap:butt; stroke-linejoin:round; stroke-width:4; stroke-opacity:1; fill:none\" points=\"\n  219.866,1423.18 219.866,47.2441 \n  \"/>\n<polyline clip-path=\"url(#clip990)\" style=\"stroke:#000000; stroke-linecap:butt; stroke-linejoin:round; stroke-width:4; stroke-opacity:1; fill:none\" points=\"\n  219.866,1150.87 238.764,1150.87 \n  \"/>\n<polyline clip-path=\"url(#clip990)\" style=\"stroke:#000000; stroke-linecap:butt; stroke-linejoin:round; stroke-width:4; stroke-opacity:1; fill:none\" points=\"\n  219.866,857.326 238.764,857.326 \n  \"/>\n<polyline clip-path=\"url(#clip990)\" style=\"stroke:#000000; stroke-linecap:butt; stroke-linejoin:round; stroke-width:4; stroke-opacity:1; fill:none\" points=\"\n  219.866,563.782 238.764,563.782 \n  \"/>\n<polyline clip-path=\"url(#clip990)\" style=\"stroke:#000000; stroke-linecap:butt; stroke-linejoin:round; stroke-width:4; stroke-opacity:1; fill:none\" points=\"\n  219.866,270.238 238.764,270.238 \n  \"/>\n<path clip-path=\"url(#clip990)\" d=\"M128.288 1136.67 Q124.677 1136.67 122.848 1140.23 Q121.043 1143.78 121.043 1150.91 Q121.043 1158.01 122.848 1161.58 Q124.677 1165.12 128.288 1165.12 Q131.922 1165.12 133.728 1161.58 Q135.556 1158.01 135.556 1150.91 Q135.556 1143.78 133.728 1140.23 Q131.922 1136.67 128.288 1136.67 M128.288 1132.97 Q134.098 1132.97 137.154 1137.57 Q140.232 1142.16 140.232 1150.91 Q140.232 1159.63 137.154 1164.24 Q134.098 1168.82 128.288 1168.82 Q122.478 1168.82 119.399 1164.24 Q116.343 1159.63 116.343 1150.91 Q116.343 1142.16 119.399 1137.57 Q122.478 1132.97 128.288 1132.97 Z\" fill=\"#000000\" fill-rule=\"evenodd\" fill-opacity=\"1\" /><path clip-path=\"url(#clip990)\" d=\"M148.45 1162.27 L153.334 1162.27 L153.334 1168.15 L148.45 1168.15 L148.45 1162.27 Z\" fill=\"#000000\" fill-rule=\"evenodd\" fill-opacity=\"1\" /><path clip-path=\"url(#clip990)\" d=\"M167.547 1164.22 L183.866 1164.22 L183.866 1168.15 L161.922 1168.15 L161.922 1164.22 Q164.584 1161.46 169.167 1156.83 Q173.774 1152.18 174.954 1150.84 Q177.2 1148.31 178.079 1146.58 Q178.982 1144.82 178.982 1143.13 Q178.982 1140.37 177.038 1138.64 Q175.116 1136.9 172.014 1136.9 Q169.815 1136.9 167.362 1137.66 Q164.931 1138.43 162.153 1139.98 L162.153 1135.26 Q164.977 1134.12 167.431 1133.54 Q169.885 1132.97 171.922 1132.97 Q177.292 1132.97 180.487 1135.65 Q183.681 1138.34 183.681 1142.83 Q183.681 1144.96 182.871 1146.88 Q182.084 1148.78 179.977 1151.37 Q179.399 1152.04 176.297 1155.26 Q173.195 1158.45 167.547 1164.22 Z\" fill=\"#000000\" fill-rule=\"evenodd\" fill-opacity=\"1\" /><path clip-path=\"url(#clip990)\" d=\"M126.205 843.125 Q122.593 843.125 120.765 846.69 Q118.959 850.231 118.959 857.361 Q118.959 864.468 120.765 868.032 Q122.593 871.574 126.205 871.574 Q129.839 871.574 131.644 868.032 Q133.473 864.468 133.473 857.361 Q133.473 850.231 131.644 846.69 Q129.839 843.125 126.205 843.125 M126.205 839.421 Q132.015 839.421 135.07 844.028 Q138.149 848.611 138.149 857.361 Q138.149 866.088 135.07 870.694 Q132.015 875.278 126.205 875.278 Q120.394 875.278 117.316 870.694 Q114.26 866.088 114.26 857.361 Q114.26 848.611 117.316 844.028 Q120.394 839.421 126.205 839.421 Z\" fill=\"#000000\" fill-rule=\"evenodd\" fill-opacity=\"1\" /><path clip-path=\"url(#clip990)\" d=\"M146.366 868.727 L151.251 868.727 L151.251 874.606 L146.366 874.606 L146.366 868.727 Z\" fill=\"#000000\" fill-rule=\"evenodd\" fill-opacity=\"1\" /><path clip-path=\"url(#clip990)\" d=\"M174.283 844.12 L162.477 862.569 L174.283 862.569 L174.283 844.12 M173.056 840.046 L178.936 840.046 L178.936 862.569 L183.866 862.569 L183.866 866.458 L178.936 866.458 L178.936 874.606 L174.283 874.606 L174.283 866.458 L158.681 866.458 L158.681 861.944 L173.056 840.046 Z\" fill=\"#000000\" fill-rule=\"evenodd\" fill-opacity=\"1\" /><path clip-path=\"url(#clip990)\" d=\"M126.529 549.581 Q122.918 549.581 121.089 553.146 Q119.283 556.687 119.283 563.817 Q119.283 570.923 121.089 574.488 Q122.918 578.03 126.529 578.03 Q130.163 578.03 131.968 574.488 Q133.797 570.923 133.797 563.817 Q133.797 556.687 131.968 553.146 Q130.163 549.581 126.529 549.581 M126.529 545.877 Q132.339 545.877 135.394 550.484 Q138.473 555.067 138.473 563.817 Q138.473 572.544 135.394 577.15 Q132.339 581.733 126.529 581.733 Q120.718 581.733 117.64 577.15 Q114.584 572.544 114.584 563.817 Q114.584 555.067 117.64 550.484 Q120.718 545.877 126.529 545.877 Z\" fill=\"#000000\" fill-rule=\"evenodd\" fill-opacity=\"1\" /><path clip-path=\"url(#clip990)\" d=\"M146.691 575.183 L151.575 575.183 L151.575 581.062 L146.691 581.062 L146.691 575.183 Z\" fill=\"#000000\" fill-rule=\"evenodd\" fill-opacity=\"1\" /><path clip-path=\"url(#clip990)\" d=\"M172.339 561.919 Q169.19 561.919 167.339 564.071 Q165.51 566.224 165.51 569.974 Q165.51 573.701 167.339 575.877 Q169.19 578.03 172.339 578.03 Q175.487 578.03 177.315 575.877 Q179.167 573.701 179.167 569.974 Q179.167 566.224 177.315 564.071 Q175.487 561.919 172.339 561.919 M181.621 547.266 L181.621 551.525 Q179.862 550.692 178.056 550.252 Q176.274 549.812 174.514 549.812 Q169.885 549.812 167.431 552.937 Q165.001 556.062 164.653 562.382 Q166.019 560.368 168.079 559.303 Q170.139 558.215 172.616 558.215 Q177.825 558.215 180.834 561.386 Q183.866 564.534 183.866 569.974 Q183.866 575.298 180.718 578.516 Q177.57 581.733 172.339 581.733 Q166.343 581.733 163.172 577.15 Q160.001 572.544 160.001 563.817 Q160.001 555.622 163.89 550.761 Q167.778 545.877 174.329 545.877 Q176.089 545.877 177.871 546.224 Q179.676 546.572 181.621 547.266 Z\" fill=\"#000000\" fill-rule=\"evenodd\" fill-opacity=\"1\" /><path clip-path=\"url(#clip990)\" d=\"M126.783 256.037 Q123.172 256.037 121.343 259.601 Q119.538 263.143 119.538 270.273 Q119.538 277.379 121.343 280.944 Q123.172 284.486 126.783 284.486 Q130.417 284.486 132.223 280.944 Q134.052 277.379 134.052 270.273 Q134.052 263.143 132.223 259.601 Q130.417 256.037 126.783 256.037 M126.783 252.333 Q132.593 252.333 135.649 256.939 Q138.728 261.523 138.728 270.273 Q138.728 278.999 135.649 283.606 Q132.593 288.189 126.783 288.189 Q120.973 288.189 117.894 283.606 Q114.839 278.999 114.839 270.273 Q114.839 261.523 117.894 256.939 Q120.973 252.333 126.783 252.333 Z\" fill=\"#000000\" fill-rule=\"evenodd\" fill-opacity=\"1\" /><path clip-path=\"url(#clip990)\" d=\"M146.945 281.638 L151.829 281.638 L151.829 287.518 L146.945 287.518 L146.945 281.638 Z\" fill=\"#000000\" fill-rule=\"evenodd\" fill-opacity=\"1\" /><path clip-path=\"url(#clip990)\" d=\"M172.014 271.106 Q168.681 271.106 166.76 272.888 Q164.862 274.671 164.862 277.796 Q164.862 280.921 166.76 282.703 Q168.681 284.486 172.014 284.486 Q175.348 284.486 177.269 282.703 Q179.19 280.898 179.19 277.796 Q179.19 274.671 177.269 272.888 Q175.371 271.106 172.014 271.106 M167.339 269.115 Q164.329 268.374 162.64 266.314 Q160.973 264.254 160.973 261.291 Q160.973 257.148 163.913 254.74 Q166.876 252.333 172.014 252.333 Q177.176 252.333 180.116 254.74 Q183.056 257.148 183.056 261.291 Q183.056 264.254 181.366 266.314 Q179.7 268.374 176.714 269.115 Q180.093 269.902 181.968 272.194 Q183.866 274.486 183.866 277.796 Q183.866 282.819 180.788 285.504 Q177.732 288.189 172.014 288.189 Q166.297 288.189 163.218 285.504 Q160.163 282.819 160.163 277.796 Q160.163 274.486 162.061 272.194 Q163.959 269.902 167.339 269.115 M165.626 261.731 Q165.626 264.416 167.292 265.921 Q168.982 267.425 172.014 267.425 Q175.024 267.425 176.714 265.921 Q178.426 264.416 178.426 261.731 Q178.426 259.046 176.714 257.541 Q175.024 256.037 172.014 256.037 Q168.982 256.037 167.292 257.541 Q165.626 259.046 165.626 261.731 Z\" fill=\"#000000\" fill-rule=\"evenodd\" fill-opacity=\"1\" /><path clip-path=\"url(#clip990)\" d=\"M16.4842 755.312 L16.4842 715.112 L21.895 715.112 L21.895 731.981 L64.0042 731.981 L64.0042 738.443 L21.895 738.443 L21.895 755.312 L16.4842 755.312 Z\" fill=\"#000000\" fill-rule=\"evenodd\" fill-opacity=\"1\" /><polyline clip-path=\"url(#clip992)\" style=\"stroke:#009af9; stroke-linecap:butt; stroke-linejoin:round; stroke-width:4; stroke-opacity:1; fill:none\" points=\"\n  280.231,1384.24 347.303,1324.21 414.375,1211.93 481.447,1008.06 548.519,682.227 615.591,296.51 682.663,114.806 749.735,88.3873 816.807,92.2033 883.879,86.1857 \n  950.951,129.924 1018.02,166.617 1085.1,200.228 1152.17,233.251 1219.24,265.248 1286.31,311.334 1353.38,370.19 1420.46,424.642 1487.53,478.654 1554.6,512.118 \n  1621.67,559.085 1688.74,622.491 1755.82,681.2 1822.89,783.94 1889.96,857.326 1957.03,901.652 2024.1,945.683 2091.18,974.744 2158.25,989.421 2225.32,989.421 \n  2292.39,1004.1 \n  \"/>\n<path clip-path=\"url(#clip990)\" d=\"\nM1717.45 196.789 L2281.66 196.789 L2281.66 93.1086 L1717.45 93.1086  Z\n  \" fill=\"#ffffff\" fill-rule=\"evenodd\" fill-opacity=\"1\"/>\n<polyline clip-path=\"url(#clip990)\" style=\"stroke:#000000; stroke-linecap:butt; stroke-linejoin:round; stroke-width:4; stroke-opacity:1; fill:none\" points=\"\n  1717.45,196.789 2281.66,196.789 2281.66,93.1086 1717.45,93.1086 1717.45,196.789 \n  \"/>\n<polyline clip-path=\"url(#clip990)\" style=\"stroke:#009af9; stroke-linecap:butt; stroke-linejoin:round; stroke-width:4; stroke-opacity:1; fill:none\" points=\"\n  1741.45,144.949 1885.45,144.949 \n  \"/>\n<path clip-path=\"url(#clip990)\" d=\"M1909.45 127.669 L1914.12 127.669 L1914.12 158.293 L1930.95 158.293 L1930.95 162.229 L1909.45 162.229 L1909.45 127.669 Z\" fill=\"#000000\" fill-rule=\"evenodd\" fill-opacity=\"1\" /><path clip-path=\"url(#clip990)\" d=\"M1935.86 127.669 L1942.83 127.669 L1951.65 151.187 L1960.51 127.669 L1967.48 127.669 L1967.48 162.229 L1962.92 162.229 L1962.92 131.882 L1954.01 155.585 L1949.31 155.585 L1940.4 131.882 L1940.4 162.229 L1935.86 162.229 L1935.86 127.669 Z\" fill=\"#000000\" fill-rule=\"evenodd\" fill-opacity=\"1\" /><path clip-path=\"url(#clip990)\" d=\"M1976.23 127.669 L1980.93 127.669 L1980.93 148.664 Q1980.93 154.219 1982.94 156.673 Q1984.96 159.104 1989.47 159.104 Q1993.96 159.104 1995.98 156.673 Q1997.99 154.219 1997.99 148.664 L1997.99 127.669 L2002.69 127.669 L2002.69 149.243 Q2002.69 156.002 1999.33 159.451 Q1996 162.9 1989.47 162.9 Q1982.92 162.9 1979.56 159.451 Q1976.23 156.002 1976.23 149.243 L1976.23 127.669 Z\" fill=\"#000000\" fill-rule=\"evenodd\" fill-opacity=\"1\" /><path clip-path=\"url(#clip990)\" d=\"M2009.12 147.344 L2021.6 147.344 L2021.6 151.141 L2009.12 151.141 L2009.12 147.344 Z\" fill=\"#000000\" fill-rule=\"evenodd\" fill-opacity=\"1\" /><path clip-path=\"url(#clip990)\" d=\"M2041.83 131.743 L2030.03 150.192 L2041.83 150.192 L2041.83 131.743 M2040.61 127.669 L2046.48 127.669 L2046.48 150.192 L2051.42 150.192 L2051.42 154.081 L2046.48 154.081 L2046.48 162.229 L2041.83 162.229 L2041.83 154.081 L2026.23 154.081 L2026.23 149.567 L2040.61 127.669 Z\" fill=\"#000000\" fill-rule=\"evenodd\" fill-opacity=\"1\" /><path clip-path=\"url(#clip990)\" d=\"M2069.15 130.747 Q2065.54 130.747 2063.71 134.312 Q2061.9 137.854 2061.9 144.983 Q2061.9 152.09 2063.71 155.655 Q2065.54 159.196 2069.15 159.196 Q2072.78 159.196 2074.59 155.655 Q2076.42 152.09 2076.42 144.983 Q2076.42 137.854 2074.59 134.312 Q2072.78 130.747 2069.15 130.747 M2069.15 127.044 Q2074.96 127.044 2078.01 131.65 Q2081.09 136.233 2081.09 144.983 Q2081.09 153.71 2078.01 158.317 Q2074.96 162.9 2069.15 162.9 Q2063.34 162.9 2060.26 158.317 Q2057.2 153.71 2057.2 144.983 Q2057.2 136.233 2060.26 131.65 Q2063.34 127.044 2069.15 127.044 Z\" fill=\"#000000\" fill-rule=\"evenodd\" fill-opacity=\"1\" /><path clip-path=\"url(#clip990)\" d=\"M2087.23 127.669 L2092.25 127.669 L2100.84 140.516 L2109.47 127.669 L2114.49 127.669 L2103.38 144.266 L2115.23 162.229 L2110.21 162.229 L2100.49 147.53 L2090.7 162.229 L2085.65 162.229 L2097.99 143.78 L2087.23 127.669 Z\" fill=\"#000000\" fill-rule=\"evenodd\" fill-opacity=\"1\" /><path clip-path=\"url(#clip990)\" d=\"M2116.67 147.344 L2129.15 147.344 L2129.15 151.141 L2116.67 151.141 L2116.67 147.344 Z\" fill=\"#000000\" fill-rule=\"evenodd\" fill-opacity=\"1\" /><path clip-path=\"url(#clip990)\" d=\"M2136.11 127.669 L2142.41 127.669 L2157.73 156.581 L2157.73 127.669 L2162.27 127.669 L2162.27 162.229 L2155.97 162.229 L2140.65 133.317 L2140.65 162.229 L2136.11 162.229 L2136.11 127.669 Z\" fill=\"#000000\" fill-rule=\"evenodd\" fill-opacity=\"1\" /><path clip-path=\"url(#clip990)\" d=\"M2171.04 127.669 L2175.74 127.669 L2175.74 148.664 Q2175.74 154.219 2177.76 156.673 Q2179.77 159.104 2184.28 159.104 Q2188.78 159.104 2190.79 156.673 Q2192.8 154.219 2192.8 148.664 L2192.8 127.669 L2197.5 127.669 L2197.5 149.243 Q2197.5 156.002 2194.15 159.451 Q2190.81 162.9 2184.28 162.9 Q2177.73 162.9 2174.38 159.451 Q2171.04 156.002 2171.04 149.243 L2171.04 127.669 Z\" fill=\"#000000\" fill-rule=\"evenodd\" fill-opacity=\"1\" /><path clip-path=\"url(#clip990)\" d=\"M2215.19 162.229 L2201.99 127.669 L2206.88 127.669 L2217.83 156.766 L2228.8 127.669 L2233.66 127.669 L2220.49 162.229 L2215.19 162.229 Z\" fill=\"#000000\" fill-rule=\"evenodd\" fill-opacity=\"1\" /></svg>\n",
      "text/html": [
       "<?xml version=\"1.0\" encoding=\"utf-8\"?>\n",
       "<svg xmlns=\"http://www.w3.org/2000/svg\" xmlns:xlink=\"http://www.w3.org/1999/xlink\" width=\"600\" height=\"400\" viewBox=\"0 0 2400 1600\">\n",
       "<defs>\n",
       "  <clipPath id=\"clip040\">\n",
       "    <rect x=\"0\" y=\"0\" width=\"2400\" height=\"1600\"/>\n",
       "  </clipPath>\n",
       "</defs>\n",
       "<path clip-path=\"url(#clip040)\" d=\"\n",
       "M0 1600 L2400 1600 L2400 0 L0 0  Z\n",
       "  \" fill=\"#ffffff\" fill-rule=\"evenodd\" fill-opacity=\"1\"/>\n",
       "<defs>\n",
       "  <clipPath id=\"clip041\">\n",
       "    <rect x=\"480\" y=\"0\" width=\"1681\" height=\"1600\"/>\n",
       "  </clipPath>\n",
       "</defs>\n",
       "<path clip-path=\"url(#clip040)\" d=\"\n",
       "M219.866 1423.18 L2352.76 1423.18 L2352.76 47.2441 L219.866 47.2441  Z\n",
       "  \" fill=\"#ffffff\" fill-rule=\"evenodd\" fill-opacity=\"1\"/>\n",
       "<defs>\n",
       "  <clipPath id=\"clip042\">\n",
       "    <rect x=\"219\" y=\"47\" width=\"2134\" height=\"1377\"/>\n",
       "  </clipPath>\n",
       "</defs>\n",
       "<polyline clip-path=\"url(#clip042)\" style=\"stroke:#000000; stroke-linecap:butt; stroke-linejoin:round; stroke-width:2; stroke-opacity:0.1; fill:none\" points=\"\n",
       "  280.231,1423.18 280.231,47.2441 \n",
       "  \"/>\n",
       "<polyline clip-path=\"url(#clip042)\" style=\"stroke:#000000; stroke-linecap:butt; stroke-linejoin:round; stroke-width:2; stroke-opacity:0.1; fill:none\" points=\"\n",
       "  615.591,1423.18 615.591,47.2441 \n",
       "  \"/>\n",
       "<polyline clip-path=\"url(#clip042)\" style=\"stroke:#000000; stroke-linecap:butt; stroke-linejoin:round; stroke-width:2; stroke-opacity:0.1; fill:none\" points=\"\n",
       "  950.951,1423.18 950.951,47.2441 \n",
       "  \"/>\n",
       "<polyline clip-path=\"url(#clip042)\" style=\"stroke:#000000; stroke-linecap:butt; stroke-linejoin:round; stroke-width:2; stroke-opacity:0.1; fill:none\" points=\"\n",
       "  1286.31,1423.18 1286.31,47.2441 \n",
       "  \"/>\n",
       "<polyline clip-path=\"url(#clip042)\" style=\"stroke:#000000; stroke-linecap:butt; stroke-linejoin:round; stroke-width:2; stroke-opacity:0.1; fill:none\" points=\"\n",
       "  1621.67,1423.18 1621.67,47.2441 \n",
       "  \"/>\n",
       "<polyline clip-path=\"url(#clip042)\" style=\"stroke:#000000; stroke-linecap:butt; stroke-linejoin:round; stroke-width:2; stroke-opacity:0.1; fill:none\" points=\"\n",
       "  1957.03,1423.18 1957.03,47.2441 \n",
       "  \"/>\n",
       "<polyline clip-path=\"url(#clip042)\" style=\"stroke:#000000; stroke-linecap:butt; stroke-linejoin:round; stroke-width:2; stroke-opacity:0.1; fill:none\" points=\"\n",
       "  2292.39,1423.18 2292.39,47.2441 \n",
       "  \"/>\n",
       "<polyline clip-path=\"url(#clip040)\" style=\"stroke:#000000; stroke-linecap:butt; stroke-linejoin:round; stroke-width:4; stroke-opacity:1; fill:none\" points=\"\n",
       "  219.866,1423.18 2352.76,1423.18 \n",
       "  \"/>\n",
       "<polyline clip-path=\"url(#clip040)\" style=\"stroke:#000000; stroke-linecap:butt; stroke-linejoin:round; stroke-width:4; stroke-opacity:1; fill:none\" points=\"\n",
       "  280.231,1423.18 280.231,1404.28 \n",
       "  \"/>\n",
       "<polyline clip-path=\"url(#clip040)\" style=\"stroke:#000000; stroke-linecap:butt; stroke-linejoin:round; stroke-width:4; stroke-opacity:1; fill:none\" points=\"\n",
       "  615.591,1423.18 615.591,1404.28 \n",
       "  \"/>\n",
       "<polyline clip-path=\"url(#clip040)\" style=\"stroke:#000000; stroke-linecap:butt; stroke-linejoin:round; stroke-width:4; stroke-opacity:1; fill:none\" points=\"\n",
       "  950.951,1423.18 950.951,1404.28 \n",
       "  \"/>\n",
       "<polyline clip-path=\"url(#clip040)\" style=\"stroke:#000000; stroke-linecap:butt; stroke-linejoin:round; stroke-width:4; stroke-opacity:1; fill:none\" points=\"\n",
       "  1286.31,1423.18 1286.31,1404.28 \n",
       "  \"/>\n",
       "<polyline clip-path=\"url(#clip040)\" style=\"stroke:#000000; stroke-linecap:butt; stroke-linejoin:round; stroke-width:4; stroke-opacity:1; fill:none\" points=\"\n",
       "  1621.67,1423.18 1621.67,1404.28 \n",
       "  \"/>\n",
       "<polyline clip-path=\"url(#clip040)\" style=\"stroke:#000000; stroke-linecap:butt; stroke-linejoin:round; stroke-width:4; stroke-opacity:1; fill:none\" points=\"\n",
       "  1957.03,1423.18 1957.03,1404.28 \n",
       "  \"/>\n",
       "<polyline clip-path=\"url(#clip040)\" style=\"stroke:#000000; stroke-linecap:butt; stroke-linejoin:round; stroke-width:4; stroke-opacity:1; fill:none\" points=\"\n",
       "  2292.39,1423.18 2292.39,1404.28 \n",
       "  \"/>\n",
       "<path clip-path=\"url(#clip040)\" d=\"M243.923 1481.64 L260.243 1481.64 L260.243 1485.58 L238.298 1485.58 L238.298 1481.64 Q240.96 1478.89 245.544 1474.26 Q250.15 1469.61 251.331 1468.27 Q253.576 1465.74 254.456 1464.01 Q255.359 1462.25 255.359 1460.56 Q255.359 1457.8 253.414 1456.07 Q251.493 1454.33 248.391 1454.33 Q246.192 1454.33 243.738 1455.09 Q241.308 1455.86 238.53 1457.41 L238.53 1452.69 Q241.354 1451.55 243.808 1450.97 Q246.261 1450.39 248.298 1450.39 Q253.669 1450.39 256.863 1453.08 Q260.058 1455.77 260.058 1460.26 Q260.058 1462.39 259.247 1464.31 Q258.46 1466.2 256.354 1468.8 Q255.775 1469.47 252.673 1472.69 Q249.572 1475.88 243.923 1481.64 Z\" fill=\"#000000\" fill-rule=\"evenodd\" fill-opacity=\"1\" /><path clip-path=\"url(#clip040)\" d=\"M280.057 1454.1 Q276.446 1454.1 274.618 1457.66 Q272.812 1461.2 272.812 1468.33 Q272.812 1475.44 274.618 1479.01 Q276.446 1482.55 280.057 1482.55 Q283.692 1482.55 285.497 1479.01 Q287.326 1475.44 287.326 1468.33 Q287.326 1461.2 285.497 1457.66 Q283.692 1454.1 280.057 1454.1 M280.057 1450.39 Q285.868 1450.39 288.923 1455 Q292.002 1459.58 292.002 1468.33 Q292.002 1477.06 288.923 1481.67 Q285.868 1486.25 280.057 1486.25 Q274.247 1486.25 271.169 1481.67 Q268.113 1477.06 268.113 1468.33 Q268.113 1459.58 271.169 1455 Q274.247 1450.39 280.057 1450.39 Z\" fill=\"#000000\" fill-rule=\"evenodd\" fill-opacity=\"1\" /><path clip-path=\"url(#clip040)\" d=\"M310.219 1454.1 Q306.608 1454.1 304.78 1457.66 Q302.974 1461.2 302.974 1468.33 Q302.974 1475.44 304.78 1479.01 Q306.608 1482.55 310.219 1482.55 Q313.854 1482.55 315.659 1479.01 Q317.488 1475.44 317.488 1468.33 Q317.488 1461.2 315.659 1457.66 Q313.854 1454.1 310.219 1454.1 M310.219 1450.39 Q316.029 1450.39 319.085 1455 Q322.164 1459.58 322.164 1468.33 Q322.164 1477.06 319.085 1481.67 Q316.029 1486.25 310.219 1486.25 Q304.409 1486.25 301.33 1481.67 Q298.275 1477.06 298.275 1468.33 Q298.275 1459.58 301.33 1455 Q304.409 1450.39 310.219 1450.39 Z\" fill=\"#000000\" fill-rule=\"evenodd\" fill-opacity=\"1\" /><path clip-path=\"url(#clip040)\" d=\"M589.353 1466.95 Q592.709 1467.66 594.584 1469.93 Q596.482 1472.2 596.482 1475.53 Q596.482 1480.65 592.964 1483.45 Q589.445 1486.25 582.964 1486.25 Q580.788 1486.25 578.473 1485.81 Q576.182 1485.39 573.728 1484.54 L573.728 1480.02 Q575.672 1481.16 577.987 1481.74 Q580.302 1482.32 582.825 1482.32 Q587.223 1482.32 589.515 1480.58 Q591.83 1478.84 591.83 1475.53 Q591.83 1472.48 589.677 1470.77 Q587.547 1469.03 583.728 1469.03 L579.7 1469.03 L579.7 1465.19 L583.913 1465.19 Q587.362 1465.19 589.191 1463.82 Q591.019 1462.43 591.019 1459.84 Q591.019 1457.18 589.121 1455.77 Q587.246 1454.33 583.728 1454.33 Q581.807 1454.33 579.607 1454.75 Q577.408 1455.16 574.77 1456.04 L574.77 1451.88 Q577.432 1451.14 579.746 1450.77 Q582.084 1450.39 584.144 1450.39 Q589.469 1450.39 592.57 1452.83 Q595.672 1455.23 595.672 1459.35 Q595.672 1462.22 594.029 1464.21 Q592.385 1466.18 589.353 1466.95 Z\" fill=\"#000000\" fill-rule=\"evenodd\" fill-opacity=\"1\" /><path clip-path=\"url(#clip040)\" d=\"M615.348 1454.1 Q611.737 1454.1 609.908 1457.66 Q608.103 1461.2 608.103 1468.33 Q608.103 1475.44 609.908 1479.01 Q611.737 1482.55 615.348 1482.55 Q618.982 1482.55 620.788 1479.01 Q622.616 1475.44 622.616 1468.33 Q622.616 1461.2 620.788 1457.66 Q618.982 1454.1 615.348 1454.1 M615.348 1450.39 Q621.158 1450.39 624.214 1455 Q627.292 1459.58 627.292 1468.33 Q627.292 1477.06 624.214 1481.67 Q621.158 1486.25 615.348 1486.25 Q609.538 1486.25 606.459 1481.67 Q603.404 1477.06 603.404 1468.33 Q603.404 1459.58 606.459 1455 Q609.538 1450.39 615.348 1450.39 Z\" fill=\"#000000\" fill-rule=\"evenodd\" fill-opacity=\"1\" /><path clip-path=\"url(#clip040)\" d=\"M645.51 1454.1 Q641.899 1454.1 640.07 1457.66 Q638.265 1461.2 638.265 1468.33 Q638.265 1475.44 640.07 1479.01 Q641.899 1482.55 645.51 1482.55 Q649.144 1482.55 650.95 1479.01 Q652.778 1475.44 652.778 1468.33 Q652.778 1461.2 650.95 1457.66 Q649.144 1454.1 645.51 1454.1 M645.51 1450.39 Q651.32 1450.39 654.376 1455 Q657.454 1459.58 657.454 1468.33 Q657.454 1477.06 654.376 1481.67 Q651.32 1486.25 645.51 1486.25 Q639.7 1486.25 636.621 1481.67 Q633.566 1477.06 633.566 1468.33 Q633.566 1459.58 636.621 1455 Q639.7 1450.39 645.51 1450.39 Z\" fill=\"#000000\" fill-rule=\"evenodd\" fill-opacity=\"1\" /><path clip-path=\"url(#clip040)\" d=\"M924.042 1455.09 L912.236 1473.54 L924.042 1473.54 L924.042 1455.09 M922.815 1451.02 L928.694 1451.02 L928.694 1473.54 L933.625 1473.54 L933.625 1477.43 L928.694 1477.43 L928.694 1485.58 L924.042 1485.58 L924.042 1477.43 L908.44 1477.43 L908.44 1472.92 L922.815 1451.02 Z\" fill=\"#000000\" fill-rule=\"evenodd\" fill-opacity=\"1\" /><path clip-path=\"url(#clip040)\" d=\"M951.356 1454.1 Q947.745 1454.1 945.916 1457.66 Q944.111 1461.2 944.111 1468.33 Q944.111 1475.44 945.916 1479.01 Q947.745 1482.55 951.356 1482.55 Q954.99 1482.55 956.796 1479.01 Q958.625 1475.44 958.625 1468.33 Q958.625 1461.2 956.796 1457.66 Q954.99 1454.1 951.356 1454.1 M951.356 1450.39 Q957.166 1450.39 960.222 1455 Q963.301 1459.58 963.301 1468.33 Q963.301 1477.06 960.222 1481.67 Q957.166 1486.25 951.356 1486.25 Q945.546 1486.25 942.467 1481.67 Q939.412 1477.06 939.412 1468.33 Q939.412 1459.58 942.467 1455 Q945.546 1450.39 951.356 1450.39 Z\" fill=\"#000000\" fill-rule=\"evenodd\" fill-opacity=\"1\" /><path clip-path=\"url(#clip040)\" d=\"M981.518 1454.1 Q977.907 1454.1 976.078 1457.66 Q974.273 1461.2 974.273 1468.33 Q974.273 1475.44 976.078 1479.01 Q977.907 1482.55 981.518 1482.55 Q985.152 1482.55 986.958 1479.01 Q988.787 1475.44 988.787 1468.33 Q988.787 1461.2 986.958 1457.66 Q985.152 1454.1 981.518 1454.1 M981.518 1450.39 Q987.328 1450.39 990.384 1455 Q993.462 1459.58 993.462 1468.33 Q993.462 1477.06 990.384 1481.67 Q987.328 1486.25 981.518 1486.25 Q975.708 1486.25 972.629 1481.67 Q969.574 1477.06 969.574 1468.33 Q969.574 1459.58 972.629 1455 Q975.708 1450.39 981.518 1450.39 Z\" fill=\"#000000\" fill-rule=\"evenodd\" fill-opacity=\"1\" /><path clip-path=\"url(#clip040)\" d=\"M1245.93 1451.02 L1264.29 1451.02 L1264.29 1454.96 L1250.21 1454.96 L1250.21 1463.43 Q1251.23 1463.08 1252.25 1462.92 Q1253.27 1462.73 1254.29 1462.73 Q1260.07 1462.73 1263.45 1465.9 Q1266.83 1469.08 1266.83 1474.49 Q1266.83 1480.07 1263.36 1483.17 Q1259.89 1486.25 1253.57 1486.25 Q1251.39 1486.25 1249.12 1485.88 Q1246.88 1485.51 1244.47 1484.77 L1244.47 1480.07 Q1246.55 1481.2 1248.78 1481.76 Q1251 1482.32 1253.48 1482.32 Q1257.48 1482.32 1259.82 1480.21 Q1262.16 1478.1 1262.16 1474.49 Q1262.16 1470.88 1259.82 1468.77 Q1257.48 1466.67 1253.48 1466.67 Q1251.6 1466.67 1249.73 1467.08 Q1247.87 1467.5 1245.93 1468.38 L1245.93 1451.02 Z\" fill=\"#000000\" fill-rule=\"evenodd\" fill-opacity=\"1\" /><path clip-path=\"url(#clip040)\" d=\"M1286.04 1454.1 Q1282.43 1454.1 1280.61 1457.66 Q1278.8 1461.2 1278.8 1468.33 Q1278.8 1475.44 1280.61 1479.01 Q1282.43 1482.55 1286.04 1482.55 Q1289.68 1482.55 1291.48 1479.01 Q1293.31 1475.44 1293.31 1468.33 Q1293.31 1461.2 1291.48 1457.66 Q1289.68 1454.1 1286.04 1454.1 M1286.04 1450.39 Q1291.86 1450.39 1294.91 1455 Q1297.99 1459.58 1297.99 1468.33 Q1297.99 1477.06 1294.91 1481.67 Q1291.86 1486.25 1286.04 1486.25 Q1280.23 1486.25 1277.16 1481.67 Q1274.1 1477.06 1274.1 1468.33 Q1274.1 1459.58 1277.16 1455 Q1280.23 1450.39 1286.04 1450.39 Z\" fill=\"#000000\" fill-rule=\"evenodd\" fill-opacity=\"1\" /><path clip-path=\"url(#clip040)\" d=\"M1316.21 1454.1 Q1312.6 1454.1 1310.77 1457.66 Q1308.96 1461.2 1308.96 1468.33 Q1308.96 1475.44 1310.77 1479.01 Q1312.6 1482.55 1316.21 1482.55 Q1319.84 1482.55 1321.65 1479.01 Q1323.48 1475.44 1323.48 1468.33 Q1323.48 1461.2 1321.65 1457.66 Q1319.84 1454.1 1316.21 1454.1 M1316.21 1450.39 Q1322.02 1450.39 1325.07 1455 Q1328.15 1459.58 1328.15 1468.33 Q1328.15 1477.06 1325.07 1481.67 Q1322.02 1486.25 1316.21 1486.25 Q1310.4 1486.25 1307.32 1481.67 Q1304.26 1477.06 1304.26 1468.33 Q1304.26 1459.58 1307.32 1455 Q1310.4 1450.39 1316.21 1450.39 Z\" fill=\"#000000\" fill-rule=\"evenodd\" fill-opacity=\"1\" /><path clip-path=\"url(#clip040)\" d=\"M1592 1466.44 Q1588.85 1466.44 1587 1468.59 Q1585.17 1470.74 1585.17 1474.49 Q1585.17 1478.22 1587 1480.39 Q1588.85 1482.55 1592 1482.55 Q1595.14 1482.55 1596.97 1480.39 Q1598.82 1478.22 1598.82 1474.49 Q1598.82 1470.74 1596.97 1468.59 Q1595.14 1466.44 1592 1466.44 M1601.28 1451.78 L1601.28 1456.04 Q1599.52 1455.21 1597.71 1454.77 Q1595.93 1454.33 1594.17 1454.33 Q1589.54 1454.33 1587.09 1457.45 Q1584.66 1460.58 1584.31 1466.9 Q1585.68 1464.89 1587.74 1463.82 Q1589.8 1462.73 1592.27 1462.73 Q1597.48 1462.73 1600.49 1465.9 Q1603.52 1469.05 1603.52 1474.49 Q1603.52 1479.82 1600.37 1483.03 Q1597.23 1486.25 1592 1486.25 Q1586 1486.25 1582.83 1481.67 Q1579.66 1477.06 1579.66 1468.33 Q1579.66 1460.14 1583.55 1455.28 Q1587.44 1450.39 1593.99 1450.39 Q1595.75 1450.39 1597.53 1450.74 Q1599.33 1451.09 1601.28 1451.78 Z\" fill=\"#000000\" fill-rule=\"evenodd\" fill-opacity=\"1\" /><path clip-path=\"url(#clip040)\" d=\"M1621.58 1454.1 Q1617.97 1454.1 1616.14 1457.66 Q1614.33 1461.2 1614.33 1468.33 Q1614.33 1475.44 1616.14 1479.01 Q1617.97 1482.55 1621.58 1482.55 Q1625.21 1482.55 1627.02 1479.01 Q1628.85 1475.44 1628.85 1468.33 Q1628.85 1461.2 1627.02 1457.66 Q1625.21 1454.1 1621.58 1454.1 M1621.58 1450.39 Q1627.39 1450.39 1630.44 1455 Q1633.52 1459.58 1633.52 1468.33 Q1633.52 1477.06 1630.44 1481.67 Q1627.39 1486.25 1621.58 1486.25 Q1615.77 1486.25 1612.69 1481.67 Q1609.63 1477.06 1609.63 1468.33 Q1609.63 1459.58 1612.69 1455 Q1615.77 1450.39 1621.58 1450.39 Z\" fill=\"#000000\" fill-rule=\"evenodd\" fill-opacity=\"1\" /><path clip-path=\"url(#clip040)\" d=\"M1651.74 1454.1 Q1648.13 1454.1 1646.3 1457.66 Q1644.5 1461.2 1644.5 1468.33 Q1644.5 1475.44 1646.3 1479.01 Q1648.13 1482.55 1651.74 1482.55 Q1655.37 1482.55 1657.18 1479.01 Q1659.01 1475.44 1659.01 1468.33 Q1659.01 1461.2 1657.18 1457.66 Q1655.37 1454.1 1651.74 1454.1 M1651.74 1450.39 Q1657.55 1450.39 1660.61 1455 Q1663.68 1459.58 1663.68 1468.33 Q1663.68 1477.06 1660.61 1481.67 Q1657.55 1486.25 1651.74 1486.25 Q1645.93 1486.25 1642.85 1481.67 Q1639.8 1477.06 1639.8 1468.33 Q1639.8 1459.58 1642.85 1455 Q1645.93 1450.39 1651.74 1450.39 Z\" fill=\"#000000\" fill-rule=\"evenodd\" fill-opacity=\"1\" /><path clip-path=\"url(#clip040)\" d=\"M1915.31 1451.02 L1937.53 1451.02 L1937.53 1453.01 L1924.98 1485.58 L1920.1 1485.58 L1931.9 1454.96 L1915.31 1454.96 L1915.31 1451.02 Z\" fill=\"#000000\" fill-rule=\"evenodd\" fill-opacity=\"1\" /><path clip-path=\"url(#clip040)\" d=\"M1956.65 1454.1 Q1953.04 1454.1 1951.21 1457.66 Q1949.4 1461.2 1949.4 1468.33 Q1949.4 1475.44 1951.21 1479.01 Q1953.04 1482.55 1956.65 1482.55 Q1960.28 1482.55 1962.09 1479.01 Q1963.92 1475.44 1963.92 1468.33 Q1963.92 1461.2 1962.09 1457.66 Q1960.28 1454.1 1956.65 1454.1 M1956.65 1450.39 Q1962.46 1450.39 1965.51 1455 Q1968.59 1459.58 1968.59 1468.33 Q1968.59 1477.06 1965.51 1481.67 Q1962.46 1486.25 1956.65 1486.25 Q1950.84 1486.25 1947.76 1481.67 Q1944.7 1477.06 1944.7 1468.33 Q1944.7 1459.58 1947.76 1455 Q1950.84 1450.39 1956.65 1450.39 Z\" fill=\"#000000\" fill-rule=\"evenodd\" fill-opacity=\"1\" /><path clip-path=\"url(#clip040)\" d=\"M1986.81 1454.1 Q1983.2 1454.1 1981.37 1457.66 Q1979.57 1461.2 1979.57 1468.33 Q1979.57 1475.44 1981.37 1479.01 Q1983.2 1482.55 1986.81 1482.55 Q1990.45 1482.55 1992.25 1479.01 Q1994.08 1475.44 1994.08 1468.33 Q1994.08 1461.2 1992.25 1457.66 Q1990.45 1454.1 1986.81 1454.1 M1986.81 1450.39 Q1992.62 1450.39 1995.68 1455 Q1998.76 1459.58 1998.76 1468.33 Q1998.76 1477.06 1995.68 1481.67 Q1992.62 1486.25 1986.81 1486.25 Q1981 1486.25 1977.92 1481.67 Q1974.87 1477.06 1974.87 1468.33 Q1974.87 1459.58 1977.92 1455 Q1981 1450.39 1986.81 1450.39 Z\" fill=\"#000000\" fill-rule=\"evenodd\" fill-opacity=\"1\" /><path clip-path=\"url(#clip040)\" d=\"M2262.18 1469.17 Q2258.85 1469.17 2256.93 1470.95 Q2255.03 1472.73 2255.03 1475.86 Q2255.03 1478.98 2256.93 1480.77 Q2258.85 1482.55 2262.18 1482.55 Q2265.52 1482.55 2267.44 1480.77 Q2269.36 1478.96 2269.36 1475.86 Q2269.36 1472.73 2267.44 1470.95 Q2265.54 1469.17 2262.18 1469.17 M2257.51 1467.18 Q2254.5 1466.44 2252.81 1464.38 Q2251.14 1462.32 2251.14 1459.35 Q2251.14 1455.21 2254.08 1452.8 Q2257.04 1450.39 2262.18 1450.39 Q2267.34 1450.39 2270.28 1452.8 Q2273.22 1455.21 2273.22 1459.35 Q2273.22 1462.32 2271.53 1464.38 Q2269.87 1466.44 2266.88 1467.18 Q2270.26 1467.96 2272.14 1470.26 Q2274.03 1472.55 2274.03 1475.86 Q2274.03 1480.88 2270.96 1483.57 Q2267.9 1486.25 2262.18 1486.25 Q2256.47 1486.25 2253.39 1483.57 Q2250.33 1480.88 2250.33 1475.86 Q2250.33 1472.55 2252.23 1470.26 Q2254.13 1467.96 2257.51 1467.18 M2255.79 1459.79 Q2255.79 1462.48 2257.46 1463.98 Q2259.15 1465.49 2262.18 1465.49 Q2265.19 1465.49 2266.88 1463.98 Q2268.59 1462.48 2268.59 1459.79 Q2268.59 1457.11 2266.88 1455.6 Q2265.19 1454.1 2262.18 1454.1 Q2259.15 1454.1 2257.46 1455.6 Q2255.79 1457.11 2255.79 1459.79 Z\" fill=\"#000000\" fill-rule=\"evenodd\" fill-opacity=\"1\" /><path clip-path=\"url(#clip040)\" d=\"M2292.34 1454.1 Q2288.73 1454.1 2286.91 1457.66 Q2285.1 1461.2 2285.1 1468.33 Q2285.1 1475.44 2286.91 1479.01 Q2288.73 1482.55 2292.34 1482.55 Q2295.98 1482.55 2297.78 1479.01 Q2299.61 1475.44 2299.61 1468.33 Q2299.61 1461.2 2297.78 1457.66 Q2295.98 1454.1 2292.34 1454.1 M2292.34 1450.39 Q2298.15 1450.39 2301.21 1455 Q2304.29 1459.58 2304.29 1468.33 Q2304.29 1477.06 2301.21 1481.67 Q2298.15 1486.25 2292.34 1486.25 Q2286.53 1486.25 2283.46 1481.67 Q2280.4 1477.06 2280.4 1468.33 Q2280.4 1459.58 2283.46 1455 Q2286.53 1450.39 2292.34 1450.39 Z\" fill=\"#000000\" fill-rule=\"evenodd\" fill-opacity=\"1\" /><path clip-path=\"url(#clip040)\" d=\"M2322.51 1454.1 Q2318.9 1454.1 2317.07 1457.66 Q2315.26 1461.2 2315.26 1468.33 Q2315.26 1475.44 2317.07 1479.01 Q2318.9 1482.55 2322.51 1482.55 Q2326.14 1482.55 2327.95 1479.01 Q2329.78 1475.44 2329.78 1468.33 Q2329.78 1461.2 2327.95 1457.66 Q2326.14 1454.1 2322.51 1454.1 M2322.51 1450.39 Q2328.32 1450.39 2331.37 1455 Q2334.45 1459.58 2334.45 1468.33 Q2334.45 1477.06 2331.37 1481.67 Q2328.32 1486.25 2322.51 1486.25 Q2316.7 1486.25 2313.62 1481.67 Q2310.56 1477.06 2310.56 1468.33 Q2310.56 1459.58 2313.62 1455 Q2316.7 1450.39 2322.51 1450.39 Z\" fill=\"#000000\" fill-rule=\"evenodd\" fill-opacity=\"1\" /><path clip-path=\"url(#clip040)\" d=\"M1287.2 1524.09 L1303.66 1568.04 L1297.45 1568.04 L1287.46 1541.69 L1275.17 1568.04 L1268.96 1568.04 L1284.59 1533.86 L1282.24 1527.56 Q1280.74 1523.55 1277.34 1523.55 L1274.28 1523.55 L1274.28 1518.52 L1278 1518.58 Q1285.2 1518.68 1287.2 1524.09 Z\" fill=\"#000000\" fill-rule=\"evenodd\" fill-opacity=\"1\" /><polyline clip-path=\"url(#clip042)\" style=\"stroke:#000000; stroke-linecap:butt; stroke-linejoin:round; stroke-width:2; stroke-opacity:0.1; fill:none\" points=\"\n",
       "  219.866,1150.87 2352.76,1150.87 \n",
       "  \"/>\n",
       "<polyline clip-path=\"url(#clip042)\" style=\"stroke:#000000; stroke-linecap:butt; stroke-linejoin:round; stroke-width:2; stroke-opacity:0.1; fill:none\" points=\"\n",
       "  219.866,857.326 2352.76,857.326 \n",
       "  \"/>\n",
       "<polyline clip-path=\"url(#clip042)\" style=\"stroke:#000000; stroke-linecap:butt; stroke-linejoin:round; stroke-width:2; stroke-opacity:0.1; fill:none\" points=\"\n",
       "  219.866,563.782 2352.76,563.782 \n",
       "  \"/>\n",
       "<polyline clip-path=\"url(#clip042)\" style=\"stroke:#000000; stroke-linecap:butt; stroke-linejoin:round; stroke-width:2; stroke-opacity:0.1; fill:none\" points=\"\n",
       "  219.866,270.238 2352.76,270.238 \n",
       "  \"/>\n",
       "<polyline clip-path=\"url(#clip040)\" style=\"stroke:#000000; stroke-linecap:butt; stroke-linejoin:round; stroke-width:4; stroke-opacity:1; fill:none\" points=\"\n",
       "  219.866,1423.18 219.866,47.2441 \n",
       "  \"/>\n",
       "<polyline clip-path=\"url(#clip040)\" style=\"stroke:#000000; stroke-linecap:butt; stroke-linejoin:round; stroke-width:4; stroke-opacity:1; fill:none\" points=\"\n",
       "  219.866,1150.87 238.764,1150.87 \n",
       "  \"/>\n",
       "<polyline clip-path=\"url(#clip040)\" style=\"stroke:#000000; stroke-linecap:butt; stroke-linejoin:round; stroke-width:4; stroke-opacity:1; fill:none\" points=\"\n",
       "  219.866,857.326 238.764,857.326 \n",
       "  \"/>\n",
       "<polyline clip-path=\"url(#clip040)\" style=\"stroke:#000000; stroke-linecap:butt; stroke-linejoin:round; stroke-width:4; stroke-opacity:1; fill:none\" points=\"\n",
       "  219.866,563.782 238.764,563.782 \n",
       "  \"/>\n",
       "<polyline clip-path=\"url(#clip040)\" style=\"stroke:#000000; stroke-linecap:butt; stroke-linejoin:round; stroke-width:4; stroke-opacity:1; fill:none\" points=\"\n",
       "  219.866,270.238 238.764,270.238 \n",
       "  \"/>\n",
       "<path clip-path=\"url(#clip040)\" d=\"M128.288 1136.67 Q124.677 1136.67 122.848 1140.23 Q121.043 1143.78 121.043 1150.91 Q121.043 1158.01 122.848 1161.58 Q124.677 1165.12 128.288 1165.12 Q131.922 1165.12 133.728 1161.58 Q135.556 1158.01 135.556 1150.91 Q135.556 1143.78 133.728 1140.23 Q131.922 1136.67 128.288 1136.67 M128.288 1132.97 Q134.098 1132.97 137.154 1137.57 Q140.232 1142.16 140.232 1150.91 Q140.232 1159.63 137.154 1164.24 Q134.098 1168.82 128.288 1168.82 Q122.478 1168.82 119.399 1164.24 Q116.343 1159.63 116.343 1150.91 Q116.343 1142.16 119.399 1137.57 Q122.478 1132.97 128.288 1132.97 Z\" fill=\"#000000\" fill-rule=\"evenodd\" fill-opacity=\"1\" /><path clip-path=\"url(#clip040)\" d=\"M148.45 1162.27 L153.334 1162.27 L153.334 1168.15 L148.45 1168.15 L148.45 1162.27 Z\" fill=\"#000000\" fill-rule=\"evenodd\" fill-opacity=\"1\" /><path clip-path=\"url(#clip040)\" d=\"M167.547 1164.22 L183.866 1164.22 L183.866 1168.15 L161.922 1168.15 L161.922 1164.22 Q164.584 1161.46 169.167 1156.83 Q173.774 1152.18 174.954 1150.84 Q177.2 1148.31 178.079 1146.58 Q178.982 1144.82 178.982 1143.13 Q178.982 1140.37 177.038 1138.64 Q175.116 1136.9 172.014 1136.9 Q169.815 1136.9 167.362 1137.66 Q164.931 1138.43 162.153 1139.98 L162.153 1135.26 Q164.977 1134.12 167.431 1133.54 Q169.885 1132.97 171.922 1132.97 Q177.292 1132.97 180.487 1135.65 Q183.681 1138.34 183.681 1142.83 Q183.681 1144.96 182.871 1146.88 Q182.084 1148.78 179.977 1151.37 Q179.399 1152.04 176.297 1155.26 Q173.195 1158.45 167.547 1164.22 Z\" fill=\"#000000\" fill-rule=\"evenodd\" fill-opacity=\"1\" /><path clip-path=\"url(#clip040)\" d=\"M126.205 843.125 Q122.593 843.125 120.765 846.69 Q118.959 850.231 118.959 857.361 Q118.959 864.468 120.765 868.032 Q122.593 871.574 126.205 871.574 Q129.839 871.574 131.644 868.032 Q133.473 864.468 133.473 857.361 Q133.473 850.231 131.644 846.69 Q129.839 843.125 126.205 843.125 M126.205 839.421 Q132.015 839.421 135.07 844.028 Q138.149 848.611 138.149 857.361 Q138.149 866.088 135.07 870.694 Q132.015 875.278 126.205 875.278 Q120.394 875.278 117.316 870.694 Q114.26 866.088 114.26 857.361 Q114.26 848.611 117.316 844.028 Q120.394 839.421 126.205 839.421 Z\" fill=\"#000000\" fill-rule=\"evenodd\" fill-opacity=\"1\" /><path clip-path=\"url(#clip040)\" d=\"M146.366 868.727 L151.251 868.727 L151.251 874.606 L146.366 874.606 L146.366 868.727 Z\" fill=\"#000000\" fill-rule=\"evenodd\" fill-opacity=\"1\" /><path clip-path=\"url(#clip040)\" d=\"M174.283 844.12 L162.477 862.569 L174.283 862.569 L174.283 844.12 M173.056 840.046 L178.936 840.046 L178.936 862.569 L183.866 862.569 L183.866 866.458 L178.936 866.458 L178.936 874.606 L174.283 874.606 L174.283 866.458 L158.681 866.458 L158.681 861.944 L173.056 840.046 Z\" fill=\"#000000\" fill-rule=\"evenodd\" fill-opacity=\"1\" /><path clip-path=\"url(#clip040)\" d=\"M126.529 549.581 Q122.918 549.581 121.089 553.146 Q119.283 556.687 119.283 563.817 Q119.283 570.923 121.089 574.488 Q122.918 578.03 126.529 578.03 Q130.163 578.03 131.968 574.488 Q133.797 570.923 133.797 563.817 Q133.797 556.687 131.968 553.146 Q130.163 549.581 126.529 549.581 M126.529 545.877 Q132.339 545.877 135.394 550.484 Q138.473 555.067 138.473 563.817 Q138.473 572.544 135.394 577.15 Q132.339 581.733 126.529 581.733 Q120.718 581.733 117.64 577.15 Q114.584 572.544 114.584 563.817 Q114.584 555.067 117.64 550.484 Q120.718 545.877 126.529 545.877 Z\" fill=\"#000000\" fill-rule=\"evenodd\" fill-opacity=\"1\" /><path clip-path=\"url(#clip040)\" d=\"M146.691 575.183 L151.575 575.183 L151.575 581.062 L146.691 581.062 L146.691 575.183 Z\" fill=\"#000000\" fill-rule=\"evenodd\" fill-opacity=\"1\" /><path clip-path=\"url(#clip040)\" d=\"M172.339 561.919 Q169.19 561.919 167.339 564.071 Q165.51 566.224 165.51 569.974 Q165.51 573.701 167.339 575.877 Q169.19 578.03 172.339 578.03 Q175.487 578.03 177.315 575.877 Q179.167 573.701 179.167 569.974 Q179.167 566.224 177.315 564.071 Q175.487 561.919 172.339 561.919 M181.621 547.266 L181.621 551.525 Q179.862 550.692 178.056 550.252 Q176.274 549.812 174.514 549.812 Q169.885 549.812 167.431 552.937 Q165.001 556.062 164.653 562.382 Q166.019 560.368 168.079 559.303 Q170.139 558.215 172.616 558.215 Q177.825 558.215 180.834 561.386 Q183.866 564.534 183.866 569.974 Q183.866 575.298 180.718 578.516 Q177.57 581.733 172.339 581.733 Q166.343 581.733 163.172 577.15 Q160.001 572.544 160.001 563.817 Q160.001 555.622 163.89 550.761 Q167.778 545.877 174.329 545.877 Q176.089 545.877 177.871 546.224 Q179.676 546.572 181.621 547.266 Z\" fill=\"#000000\" fill-rule=\"evenodd\" fill-opacity=\"1\" /><path clip-path=\"url(#clip040)\" d=\"M126.783 256.037 Q123.172 256.037 121.343 259.601 Q119.538 263.143 119.538 270.273 Q119.538 277.379 121.343 280.944 Q123.172 284.486 126.783 284.486 Q130.417 284.486 132.223 280.944 Q134.052 277.379 134.052 270.273 Q134.052 263.143 132.223 259.601 Q130.417 256.037 126.783 256.037 M126.783 252.333 Q132.593 252.333 135.649 256.939 Q138.728 261.523 138.728 270.273 Q138.728 278.999 135.649 283.606 Q132.593 288.189 126.783 288.189 Q120.973 288.189 117.894 283.606 Q114.839 278.999 114.839 270.273 Q114.839 261.523 117.894 256.939 Q120.973 252.333 126.783 252.333 Z\" fill=\"#000000\" fill-rule=\"evenodd\" fill-opacity=\"1\" /><path clip-path=\"url(#clip040)\" d=\"M146.945 281.638 L151.829 281.638 L151.829 287.518 L146.945 287.518 L146.945 281.638 Z\" fill=\"#000000\" fill-rule=\"evenodd\" fill-opacity=\"1\" /><path clip-path=\"url(#clip040)\" d=\"M172.014 271.106 Q168.681 271.106 166.76 272.888 Q164.862 274.671 164.862 277.796 Q164.862 280.921 166.76 282.703 Q168.681 284.486 172.014 284.486 Q175.348 284.486 177.269 282.703 Q179.19 280.898 179.19 277.796 Q179.19 274.671 177.269 272.888 Q175.371 271.106 172.014 271.106 M167.339 269.115 Q164.329 268.374 162.64 266.314 Q160.973 264.254 160.973 261.291 Q160.973 257.148 163.913 254.74 Q166.876 252.333 172.014 252.333 Q177.176 252.333 180.116 254.74 Q183.056 257.148 183.056 261.291 Q183.056 264.254 181.366 266.314 Q179.7 268.374 176.714 269.115 Q180.093 269.902 181.968 272.194 Q183.866 274.486 183.866 277.796 Q183.866 282.819 180.788 285.504 Q177.732 288.189 172.014 288.189 Q166.297 288.189 163.218 285.504 Q160.163 282.819 160.163 277.796 Q160.163 274.486 162.061 272.194 Q163.959 269.902 167.339 269.115 M165.626 261.731 Q165.626 264.416 167.292 265.921 Q168.982 267.425 172.014 267.425 Q175.024 267.425 176.714 265.921 Q178.426 264.416 178.426 261.731 Q178.426 259.046 176.714 257.541 Q175.024 256.037 172.014 256.037 Q168.982 256.037 167.292 257.541 Q165.626 259.046 165.626 261.731 Z\" fill=\"#000000\" fill-rule=\"evenodd\" fill-opacity=\"1\" /><path clip-path=\"url(#clip040)\" d=\"M16.4842 755.312 L16.4842 715.112 L21.895 715.112 L21.895 731.981 L64.0042 731.981 L64.0042 738.443 L21.895 738.443 L21.895 755.312 L16.4842 755.312 Z\" fill=\"#000000\" fill-rule=\"evenodd\" fill-opacity=\"1\" /><polyline clip-path=\"url(#clip042)\" style=\"stroke:#009af9; stroke-linecap:butt; stroke-linejoin:round; stroke-width:4; stroke-opacity:1; fill:none\" points=\"\n",
       "  280.231,1384.24 347.303,1324.21 414.375,1211.93 481.447,1008.06 548.519,682.227 615.591,296.51 682.663,114.806 749.735,88.3873 816.807,92.2033 883.879,86.1857 \n",
       "  950.951,129.924 1018.02,166.617 1085.1,200.228 1152.17,233.251 1219.24,265.248 1286.31,311.334 1353.38,370.19 1420.46,424.642 1487.53,478.654 1554.6,512.118 \n",
       "  1621.67,559.085 1688.74,622.491 1755.82,681.2 1822.89,783.94 1889.96,857.326 1957.03,901.652 2024.1,945.683 2091.18,974.744 2158.25,989.421 2225.32,989.421 \n",
       "  2292.39,1004.1 \n",
       "  \"/>\n",
       "<path clip-path=\"url(#clip040)\" d=\"\n",
       "M1717.45 196.789 L2281.66 196.789 L2281.66 93.1086 L1717.45 93.1086  Z\n",
       "  \" fill=\"#ffffff\" fill-rule=\"evenodd\" fill-opacity=\"1\"/>\n",
       "<polyline clip-path=\"url(#clip040)\" style=\"stroke:#000000; stroke-linecap:butt; stroke-linejoin:round; stroke-width:4; stroke-opacity:1; fill:none\" points=\"\n",
       "  1717.45,196.789 2281.66,196.789 2281.66,93.1086 1717.45,93.1086 1717.45,196.789 \n",
       "  \"/>\n",
       "<polyline clip-path=\"url(#clip040)\" style=\"stroke:#009af9; stroke-linecap:butt; stroke-linejoin:round; stroke-width:4; stroke-opacity:1; fill:none\" points=\"\n",
       "  1741.45,144.949 1885.45,144.949 \n",
       "  \"/>\n",
       "<path clip-path=\"url(#clip040)\" d=\"M1909.45 127.669 L1914.12 127.669 L1914.12 158.293 L1930.95 158.293 L1930.95 162.229 L1909.45 162.229 L1909.45 127.669 Z\" fill=\"#000000\" fill-rule=\"evenodd\" fill-opacity=\"1\" /><path clip-path=\"url(#clip040)\" d=\"M1935.86 127.669 L1942.83 127.669 L1951.65 151.187 L1960.51 127.669 L1967.48 127.669 L1967.48 162.229 L1962.92 162.229 L1962.92 131.882 L1954.01 155.585 L1949.31 155.585 L1940.4 131.882 L1940.4 162.229 L1935.86 162.229 L1935.86 127.669 Z\" fill=\"#000000\" fill-rule=\"evenodd\" fill-opacity=\"1\" /><path clip-path=\"url(#clip040)\" d=\"M1976.23 127.669 L1980.93 127.669 L1980.93 148.664 Q1980.93 154.219 1982.94 156.673 Q1984.96 159.104 1989.47 159.104 Q1993.96 159.104 1995.98 156.673 Q1997.99 154.219 1997.99 148.664 L1997.99 127.669 L2002.69 127.669 L2002.69 149.243 Q2002.69 156.002 1999.33 159.451 Q1996 162.9 1989.47 162.9 Q1982.92 162.9 1979.56 159.451 Q1976.23 156.002 1976.23 149.243 L1976.23 127.669 Z\" fill=\"#000000\" fill-rule=\"evenodd\" fill-opacity=\"1\" /><path clip-path=\"url(#clip040)\" d=\"M2009.12 147.344 L2021.6 147.344 L2021.6 151.141 L2009.12 151.141 L2009.12 147.344 Z\" fill=\"#000000\" fill-rule=\"evenodd\" fill-opacity=\"1\" /><path clip-path=\"url(#clip040)\" d=\"M2041.83 131.743 L2030.03 150.192 L2041.83 150.192 L2041.83 131.743 M2040.61 127.669 L2046.48 127.669 L2046.48 150.192 L2051.42 150.192 L2051.42 154.081 L2046.48 154.081 L2046.48 162.229 L2041.83 162.229 L2041.83 154.081 L2026.23 154.081 L2026.23 149.567 L2040.61 127.669 Z\" fill=\"#000000\" fill-rule=\"evenodd\" fill-opacity=\"1\" /><path clip-path=\"url(#clip040)\" d=\"M2069.15 130.747 Q2065.54 130.747 2063.71 134.312 Q2061.9 137.854 2061.9 144.983 Q2061.9 152.09 2063.71 155.655 Q2065.54 159.196 2069.15 159.196 Q2072.78 159.196 2074.59 155.655 Q2076.42 152.09 2076.42 144.983 Q2076.42 137.854 2074.59 134.312 Q2072.78 130.747 2069.15 130.747 M2069.15 127.044 Q2074.96 127.044 2078.01 131.65 Q2081.09 136.233 2081.09 144.983 Q2081.09 153.71 2078.01 158.317 Q2074.96 162.9 2069.15 162.9 Q2063.34 162.9 2060.26 158.317 Q2057.2 153.71 2057.2 144.983 Q2057.2 136.233 2060.26 131.65 Q2063.34 127.044 2069.15 127.044 Z\" fill=\"#000000\" fill-rule=\"evenodd\" fill-opacity=\"1\" /><path clip-path=\"url(#clip040)\" d=\"M2087.23 127.669 L2092.25 127.669 L2100.84 140.516 L2109.47 127.669 L2114.49 127.669 L2103.38 144.266 L2115.23 162.229 L2110.21 162.229 L2100.49 147.53 L2090.7 162.229 L2085.65 162.229 L2097.99 143.78 L2087.23 127.669 Z\" fill=\"#000000\" fill-rule=\"evenodd\" fill-opacity=\"1\" /><path clip-path=\"url(#clip040)\" d=\"M2116.67 147.344 L2129.15 147.344 L2129.15 151.141 L2116.67 151.141 L2116.67 147.344 Z\" fill=\"#000000\" fill-rule=\"evenodd\" fill-opacity=\"1\" /><path clip-path=\"url(#clip040)\" d=\"M2136.11 127.669 L2142.41 127.669 L2157.73 156.581 L2157.73 127.669 L2162.27 127.669 L2162.27 162.229 L2155.97 162.229 L2140.65 133.317 L2140.65 162.229 L2136.11 162.229 L2136.11 127.669 Z\" fill=\"#000000\" fill-rule=\"evenodd\" fill-opacity=\"1\" /><path clip-path=\"url(#clip040)\" d=\"M2171.04 127.669 L2175.74 127.669 L2175.74 148.664 Q2175.74 154.219 2177.76 156.673 Q2179.77 159.104 2184.28 159.104 Q2188.78 159.104 2190.79 156.673 Q2192.8 154.219 2192.8 148.664 L2192.8 127.669 L2197.5 127.669 L2197.5 149.243 Q2197.5 156.002 2194.15 159.451 Q2190.81 162.9 2184.28 162.9 Q2177.73 162.9 2174.38 159.451 Q2171.04 156.002 2171.04 149.243 L2171.04 127.669 Z\" fill=\"#000000\" fill-rule=\"evenodd\" fill-opacity=\"1\" /><path clip-path=\"url(#clip040)\" d=\"M2215.19 162.229 L2201.99 127.669 L2206.88 127.669 L2217.83 156.766 L2228.8 127.669 L2233.66 127.669 L2220.49 162.229 L2215.19 162.229 Z\" fill=\"#000000\" fill-rule=\"evenodd\" fill-opacity=\"1\" /></svg>\n"
      ]
     },
     "metadata": {},
     "output_type": "display_data"
    }
   ],
   "source": [
    "wl=200.0:20:800.0\n",
    "plot(wl, LaserLab.lmu_40x_nuv_transmission.(wl*nm), label=\"LMU-40X-NUV\")\n",
    "xlabel!(\"λ\")\n",
    "ylabel!(\"T\")"
   ]
  },
  {
   "cell_type": "markdown",
   "id": "c8d00191",
   "metadata": {},
   "source": [
    "\tstruct PulsedLaser\n",
    "\n",
    "Simple representation of a pulsed laser\n",
    "\n",
    "#### Fields\n",
    "- `λ::Unitful.Length`  : Laser wavelength\n",
    "- `Pk::Unitful.Power`  : peak Power\n",
    "- `P::Unitful.Power`  : average power\n",
    "- `f::Unitful.Frequency`  : laser frequency\n",
    "- `w::Unitful.Time` : pulse width "
   ]
  },
  {
   "cell_type": "code",
   "execution_count": 83,
   "id": "b5c2e523",
   "metadata": {},
   "outputs": [
    {
     "data": {
      "text/plain": [
       "Main.LaserLab.PulsedLaser(375.0 nm, 140.0 mW, 1.0 MHz, 0.0091 mW, 65.0 ps)"
      ]
     },
     "metadata": {},
     "output_type": "display_data"
    }
   ],
   "source": [
    "epl375 = LaserLab.PulsedLaser(375.0nm, 140.0mW, 1.0MHz, 65.0ps)"
   ]
  },
  {
   "cell_type": "code",
   "execution_count": 84,
   "id": "c8fb16e7",
   "metadata": {},
   "outputs": [
    {
     "data": {
      "text/plain": [
       "Main.LaserLab.Objective(\"LMU-40X-NUV\", 0.48113207547169806, 40.0, 5.3 mm, 5.1 mm)"
      ]
     },
     "metadata": {},
     "output_type": "display_data"
    }
   ],
   "source": [
    "lmu_40x_nuv = LaserLab.Objective(\"LMU-40X-NUV\", 5.3mm, 5.1mm, 40.0)"
   ]
  },
  {
   "cell_type": "code",
   "execution_count": 85,
   "id": "f5079c99",
   "metadata": {},
   "outputs": [
    {
     "data": {
      "text/plain": [
       "\u001b[32m\u001b[1mTest Passed\u001b[22m\u001b[39m"
      ]
     },
     "metadata": {},
     "output_type": "display_data"
    }
   ],
   "source": [
    "@test lmu_40x_nuv.NA  ≈ lmu_40x_nuv.d / (2.0*lmu_40x_nuv.f)"
   ]
  },
  {
   "cell_type": "code",
   "execution_count": 86,
   "id": "9874bea4",
   "metadata": {},
   "outputs": [
    {
     "data": {
      "text/plain": [
       "\u001b[32m\u001b[1mTest Passed\u001b[22m\u001b[39m"
      ]
     },
     "metadata": {},
     "output_type": "display_data"
    }
   ],
   "source": [
    "@test epl375.P == epl375.Pk * epl375.w * epl375.f"
   ]
  },
  {
   "cell_type": "markdown",
   "id": "7d7d6567",
   "metadata": {},
   "source": [
    "\n",
    "\tphoton_energy(λ::Unitful.Length)\n",
    "\n",
    "Given wavelength of photon return its energy.\n",
    "#### Fields\n",
    "\n",
    "- `λ::Unitful.Length`  : Photon wavelength\n"
   ]
  },
  {
   "cell_type": "code",
   "execution_count": 87,
   "id": "ea146d06",
   "metadata": {},
   "outputs": [
    {
     "data": {
      "text/plain": [
       "2.4796839686640055 eV"
      ]
     },
     "metadata": {},
     "output_type": "display_data"
    }
   ],
   "source": [
    "LaserLab.photon_energy(500.0nm)"
   ]
  },
  {
   "cell_type": "code",
   "execution_count": 88,
   "id": "a557eab8",
   "metadata": {},
   "outputs": [
    {
     "data": {
      "text/plain": [
       "hnu_eV (generic function with 1 method)"
      ]
     },
     "metadata": {},
     "output_type": "display_data"
    }
   ],
   "source": [
    "function hnu_eV(lambda_nm)\n",
    "    return 1240.0 * (1.0/lambda_nm)\n",
    "end\n"
   ]
  },
  {
   "cell_type": "code",
   "execution_count": 89,
   "id": "fcbb999b",
   "metadata": {},
   "outputs": [
    {
     "data": {
      "text/plain": [
       "\u001b[32m\u001b[1mTest Passed\u001b[22m\u001b[39m"
      ]
     },
     "metadata": {},
     "output_type": "display_data"
    }
   ],
   "source": [
    "@test isapprox(LaserLab.photon_energy(500.0nm)/eV, hnu_eV(500.0), rtol=0.01)"
   ]
  },
  {
   "cell_type": "markdown",
   "id": "ceab17c6",
   "metadata": {},
   "source": [
    "\tdelivered_energy(laser::Laser, t::Unitful.Time)\n",
    "\n",
    "Delivered energy of a laser in a given time.\n",
    "#### Fields\n",
    "\n",
    "- `laser::Laser`     : Laser\n",
    "- `t::Unitful.Time`  : Time in which target is illuminated\n"
   ]
  },
  {
   "cell_type": "code",
   "execution_count": 90,
   "metadata": {},
   "outputs": [
    {
     "data": {
      "text/plain": [
       "true"
      ]
     },
     "metadata": {},
     "output_type": "display_data"
    }
   ],
   "source": [
    "uconvert(J, LaserLab.delivered_energy(luv, 1*s)) ≈ 1.0μJ"
   ]
  },
  {
   "cell_type": "markdown",
   "id": "9bef163e",
   "metadata": {},
   "source": [
    "\tn_photons(laser::Laser)\n",
    "\n",
    "Rate of photons (number of photons per unit time) produced by a laser\n",
    "#### Fields\n",
    "\n",
    "- `laser::Laser`     : Laser\n",
    "- `t::Unitful.Time`  : Time in which target is illuminated\n"
   ]
  },
  {
   "cell_type": "code",
   "execution_count": 91,
   "id": "698309c6",
   "metadata": {},
   "outputs": [
    {
     "data": {
      "text/plain": [
       "1.887793712828516e12 Hz"
      ]
     },
     "metadata": {},
     "output_type": "display_data"
    }
   ],
   "source": [
    "LaserLab.n_photons(luv)"
   ]
  },
  {
   "cell_type": "markdown",
   "id": "c60055e8",
   "metadata": {},
   "source": [
    "    n_photons(λ::Unitful.Length, p::Unitful.Power)\n",
    "\n",
    "Rate of photons (number of photons per unit time) corresponding to a wavelength\n",
    "λ and a power P\n",
    "\n",
    "#### Fields\n",
    "\n",
    "- `λ::Unitful.Length` : photon wavelength\n",
    "- `p::Unitful.Power`  : Power"
   ]
  },
  {
   "cell_type": "code",
   "execution_count": 92,
   "id": "40c3dc28",
   "metadata": {},
   "outputs": [
    {
     "data": {
      "text/plain": [
       "true"
      ]
     },
     "metadata": {},
     "output_type": "display_data"
    }
   ],
   "source": [
    "LaserLab.n_photons(luv) ≈ LaserLab.n_photons(375.0nm, 1.0μW)"
   ]
  },
  {
   "cell_type": "markdown",
   "id": "73b67983",
   "metadata": {},
   "source": [
    "\tn_photons_int(laser::Laser, t::Unitful.Time)\n",
    "\n",
    "Integrated number of photons in a given time emitted by a laser\n",
    "\n",
    "#### Fields\n",
    "\n",
    "- `laser::Laser`    : Laser\n",
    "- `t::Unitful.Time` : time of measurement"
   ]
  },
  {
   "cell_type": "code",
   "execution_count": 93,
   "id": "033efea9",
   "metadata": {},
   "outputs": [
    {
     "data": {
      "text/plain": [
       "true"
      ]
     },
     "metadata": {},
     "output_type": "display_data"
    }
   ],
   "source": [
    "LaserLab.n_photons_int(luv, 1.0s) ≈ LaserLab.n_photons(luv)/Hz"
   ]
  },
  {
   "cell_type": "markdown",
   "id": "19b959b2",
   "metadata": {},
   "source": [
    "    photon_density(λ::Unitful.Length, p::Unitful.Power, a::Unitful.Area)\n",
    "\n",
    "number of photons per unit time per unit area\n",
    "\n",
    "#### Fields\n",
    "\n",
    "- `λ::Unitful.Length` : photon wavelength\n",
    "- `p::Unitful.Power`  : Power\n",
    "- `a::Unitful.Area`   : Area"
   ]
  },
  {
   "cell_type": "code",
   "execution_count": 94,
   "id": "5883e388",
   "metadata": {},
   "outputs": [
    {
     "data": {
      "text/plain": [
       "2.4036136074756826e12 Hz mm⁻²"
      ]
     },
     "metadata": {},
     "output_type": "display_data"
    }
   ],
   "source": [
    "LaserLab.photon_density(375.0nm, 1.0μW, fov.a)"
   ]
  },
  {
   "cell_type": "markdown",
   "id": "ba2411c4",
   "metadata": {},
   "source": [
    "\tphoton_density(l::Laser, fov::Fov)\n",
    "\n",
    "number of photons per unit time per unit area, in a Fov illuminated by a laser\n",
    "\n",
    "#### Fields\n",
    "\n",
    "- `laser::Laser` : Laser\n",
    "- `fov::Fov`     : Field of view\n"
   ]
  },
  {
   "cell_type": "code",
   "execution_count": 95,
   "metadata": {},
   "outputs": [
    {
     "data": {
      "text/plain": [
       "\u001b[32m\u001b[1mTest Passed\u001b[22m\u001b[39m"
      ]
     },
     "metadata": {},
     "output_type": "display_data"
    }
   ],
   "source": [
    "@test LaserLab.photon_density(375.0nm, 1.0μW, fov.a) ≈ LaserLab.photon_density(luv, fov)"
   ]
  }
 ],
 "metadata": {
  "kernelspec": {
   "display_name": "Julia 1.6.1",
   "language": "julia",
   "name": "julia-1.6"
  },
  "language_info": {
   "file_extension": ".jl",
   "mimetype": "application/julia",
   "name": "julia",
   "version": "1.6.1"
  }
 },
 "nbformat": 4,
 "nbformat_minor": 5
}
