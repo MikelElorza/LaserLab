{
 "cells": [
  {
   "cell_type": "code",
   "execution_count": 1,
   "metadata": {},
   "outputs": [],
   "source": [
    "using Test"
   ]
  },
  {
   "cell_type": "code",
   "execution_count": 2,
   "metadata": {},
   "outputs": [],
   "source": [
    "using Plots\n",
    "using Printf"
   ]
  },
  {
   "cell_type": "code",
   "execution_count": 3,
   "id": "9b46d416",
   "metadata": {},
   "outputs": [],
   "source": [
    "using Unitful"
   ]
  },
  {
   "cell_type": "code",
   "execution_count": 4,
   "id": "319da7e2",
   "metadata": {},
   "outputs": [],
   "source": [
    "using DataFrames"
   ]
  },
  {
   "cell_type": "code",
   "execution_count": 5,
   "id": "cfd553ad",
   "metadata": {},
   "outputs": [],
   "source": [
    "using CSV"
   ]
  },
  {
   "cell_type": "code",
   "execution_count": 6,
   "id": "6679c7f3",
   "metadata": {},
   "outputs": [],
   "source": [
    "import Unitful:\n",
    "    nm, μm, mm, cm, m, km,\n",
    "    mg, g, kg,\n",
    "    ps, ns, μs, ms, s, minute, hr, d, yr, Hz, kHz, MHz, GHz,\n",
    "    eV,\n",
    "    μJ, mJ, J,\n",
    "\tμW, mW, W"
   ]
  },
  {
   "cell_type": "code",
   "execution_count": 7,
   "metadata": {},
   "outputs": [
    {
     "data": {
      "text/plain": [
       "Main.LaserLab"
      ]
     },
     "metadata": {},
     "output_type": "display_data"
    }
   ],
   "source": [
    "include(\"../src/LaserLab.jl\")"
   ]
  },
  {
   "cell_type": "markdown",
   "metadata": {},
   "source": [
    "# Test setup"
   ]
  },
  {
   "cell_type": "markdown",
   "id": "b8ac2e9b",
   "metadata": {},
   "source": [
    "\tstruct Fov\n",
    "\n",
    "Represent a field of view\n",
    "\n",
    "#### Fields\n",
    "- `d::Unitful.Length`  : diameter of Fov\n",
    "- `z::Unitful.Length`  : thickness\n",
    "- `a::Unitful.Area`    : area (computed)\n",
    "- `v::Unitful.Volume`  : volume (computed)\n"
   ]
  },
  {
   "cell_type": "code",
   "execution_count": 8,
   "metadata": {},
   "outputs": [
    {
     "data": {
      "text/plain": [
       "Main.LaserLab.Fov(1.0 mm, 1.0 mm, 0.7853981633974483 mm², 0.7853981633974483 mm³)"
      ]
     },
     "metadata": {},
     "output_type": "display_data"
    }
   ],
   "source": [
    "fov = LaserLab.Fov(1.0mm,1.0mm)"
   ]
  },
  {
   "cell_type": "code",
   "execution_count": 9,
   "metadata": {},
   "outputs": [
    {
     "data": {
      "text/plain": [
       "\u001b[32m\u001b[1mTest Passed\u001b[22m\u001b[39m"
      ]
     },
     "metadata": {},
     "output_type": "display_data"
    }
   ],
   "source": [
    "@test fov.a ≈ π * (fov.d/2.)^2 \n",
    "@test fov.v ≈ fov.a * fov.z"
   ]
  },
  {
   "cell_type": "markdown",
   "id": "382fd409",
   "metadata": {},
   "source": [
    "\tstruct CLaser <: Laser\n",
    "\n",
    "Simple representation of a continous laser\n",
    "\n",
    "### Fields\n",
    "- `λ::typeof(1.0nm)`  : Laser wavelength\n",
    "- `P::typeof(1.0mW)`  : Power"
   ]
  },
  {
   "cell_type": "code",
   "execution_count": 10,
   "id": "51800f8f",
   "metadata": {},
   "outputs": [
    {
     "data": {
      "text/plain": [
       "Main.LaserLab.CLaser(375.0 nm, 1.0 μW)"
      ]
     },
     "metadata": {},
     "output_type": "display_data"
    }
   ],
   "source": [
    "luv = LaserLab.CLaser(375.0nm, 1.0μW)"
   ]
  },
  {
   "cell_type": "code",
   "execution_count": 12,
   "id": "58b869e8",
   "metadata": {},
   "outputs": [
    {
     "data": {
      "text/plain": [
       "\u001b[32m\u001b[1mTest Passed\u001b[22m\u001b[39m"
      ]
     },
     "metadata": {},
     "output_type": "display_data"
    }
   ],
   "source": [
    "@test luv.P/μW ≈ 1 \n",
    "@test luv.λ/nm ≈ 375.0"
   ]
  },
  {
   "cell_type": "markdown",
   "id": "baccb9d0",
   "metadata": {},
   "source": [
    "\tObjective\n",
    "\n",
    "Simple representation of a microscope objective\n",
    "\n",
    "#### Fields\n",
    "- `name::String`       : identifies the objective\n",
    "- `mode::String`       : `d` if NA and diameter specified `f` if focal and NA specified \n",
    "- `NA::Float64`        : Numerical aperture\n",
    "- `M::Float64`         : Magnification\n",
    "- `f::typeof(1.0mm)`   : focal distance of the lens\n",
    "- `d::typeof(1.0mm)`   : diameter of the lens\n"
   ]
  },
  {
   "cell_type": "code",
   "execution_count": 14,
   "id": "b9acd30d",
   "metadata": {},
   "outputs": [
    {
     "name": "stdout",
     "output_type": "stream",
     "text": [
      "NA =   0.5 M =  40.0 "
     ]
    }
   ],
   "source": [
    "obj = LaserLab.Objective(\"Specify NA & M\", 0.5, 40.0)\n",
    "@printf(\"NA = %5.1f M = %5.1f \", obj.NA, obj.M)"
   ]
  },
  {
   "cell_type": "code",
   "execution_count": 15,
   "id": "a8b55ca8",
   "metadata": {},
   "outputs": [
    {
     "data": {
      "text/plain": [
       "\u001b[32m\u001b[1mTest Passed\u001b[22m\u001b[39m"
      ]
     },
     "metadata": {},
     "output_type": "display_data"
    }
   ],
   "source": [
    "@test obj.NA ≈ 0.5 \n",
    "@test obj.M ≈ 40.0"
   ]
  },
  {
   "cell_type": "code",
   "execution_count": 17,
   "id": "5f8b8167",
   "metadata": {},
   "outputs": [
    {
     "name": "stdout",
     "output_type": "stream",
     "text": [
      "NA =   0.5 M =  40.0 f =   5.0 d =   5.0"
     ]
    }
   ],
   "source": [
    "obj2 = LaserLab.Objective(\"Specify f,d & M\", 5.0mm, 5.0mm, 40.0)\n",
    "@printf(\"NA = %5.1f M = %5.1f f = %5.1f d = %5.1f\", obj2.NA, obj2.M, obj2.f/mm, obj2.d/mm)"
   ]
  },
  {
   "cell_type": "code",
   "execution_count": 18,
   "id": "d752240e",
   "metadata": {},
   "outputs": [
    {
     "data": {
      "text/plain": [
       "\u001b[32m\u001b[1mTest Passed\u001b[22m\u001b[39m"
      ]
     },
     "metadata": {},
     "output_type": "display_data"
    }
   ],
   "source": [
    "@test obj2.NA ≈ 0.5 \n",
    "@test obj2.M ≈ 40.0\n",
    "@test obj2.f/mm ≈ 5.0\n",
    "@test obj2.d/mm ≈ 5.0"
   ]
  },
  {
   "cell_type": "code",
   "execution_count": 19,
   "id": "52c0b669",
   "metadata": {},
   "outputs": [
    {
     "data": {
      "text/plain": [
       "dspot (generic function with 1 method)"
      ]
     },
     "metadata": {},
     "output_type": "display_data"
    }
   ],
   "source": [
    "dspot(λ::Real, NA::Real) = 1.83*λ/(2*NA)"
   ]
  },
  {
   "cell_type": "code",
   "execution_count": 20,
   "id": "7e8db768",
   "metadata": {},
   "outputs": [
    {
     "data": {
      "text/plain": [
       "658.8000000000001"
      ]
     },
     "metadata": {},
     "output_type": "display_data"
    }
   ],
   "source": [
    "dspot(360.0, 0.5) "
   ]
  },
  {
   "cell_type": "code",
   "execution_count": 21,
   "id": "cb73677a",
   "metadata": {},
   "outputs": [
    {
     "data": {
      "text/plain": [
       "915.0"
      ]
     },
     "metadata": {},
     "output_type": "display_data"
    }
   ],
   "source": [
    "dspot(500.0, 0.5) "
   ]
  },
  {
   "cell_type": "code",
   "execution_count": null,
   "id": "dca8dd7c",
   "metadata": {},
   "outputs": [],
   "source": []
  },
  {
   "cell_type": "code",
   "execution_count": 22,
   "id": "dc6393a8",
   "metadata": {},
   "outputs": [
    {
     "data": {
      "text/plain": [
       "\u001b[32m\u001b[1mTest Passed\u001b[22m\u001b[39m"
      ]
     },
     "metadata": {},
     "output_type": "display_data"
    }
   ],
   "source": [
    "@test LaserLab.lmu_40x_nuv_transmission(0.500μm) ==LaserLab.lmu_40x_nuv_transmission(500nm)"
   ]
  },
  {
   "cell_type": "code",
   "execution_count": 23,
   "id": "f9166fef",
   "metadata": {},
   "outputs": [
    {
     "data": {
      "text/plain": [
       "0.772"
      ]
     },
     "metadata": {},
     "output_type": "display_data"
    }
   ],
   "source": [
    "LaserLab.lmu_40x_nuv_transmission(500nm)"
   ]
  },
  {
   "cell_type": "code",
   "execution_count": 25,
   "id": "a24c756f",
   "metadata": {},
   "outputs": [
    {
     "data": {
      "image/png": "[encoded data removed]",
      "image/svg+xml": "<?xml version=\"1.0\" encoding=\"utf-8\"?>\n<svg xmlns=\"http://www.w3.org/2000/svg\" xmlns:xlink=\"http://www.w3.org/1999/xlink\" width=\"600\" height=\"400\" viewBox=\"0 0 2400 1600\">\n<defs>\n  <clipPath id=\"clip260\">\n    <rect x=\"0\" y=\"0\" width=\"2400\" height=\"1600\"/>\n  </clipPath>\n</defs>\n<path clip-path=\"url(#clip260)\" d=\"\nM0 1600 L2400 1600 L2400 0 L0 0  Z\n  \" fill=\"#ffffff\" fill-rule=\"evenodd\" fill-opacity=\"1\"/>\n<defs>\n  <clipPath id=\"clip261\">\n    <rect x=\"480\" y=\"0\" width=\"1681\" height=\"1600\"/>\n  </clipPath>\n</defs>\n<path clip-path=\"url(#clip260)\" d=\"\nM156.598 1486.45 L2352.76 1486.45 L2352.76 47.2441 L156.598 47.2441  Z\n  \" fill=\"#ffffff\" fill-rule=\"evenodd\" fill-opacity=\"1\"/>\n<defs>\n  <clipPath id=\"clip262\">\n    <rect x=\"156\" y=\"47\" width=\"2197\" height=\"1440\"/>\n  </clipPath>\n</defs>\n<polyline clip-path=\"url(#clip262)\" style=\"stroke:#000000; stroke-linecap:butt; stroke-linejoin:round; stroke-width:2; stroke-opacity:0.1; fill:none\" points=\"\n  218.754,1486.45 218.754,47.2441 \n  \"/>\n<polyline clip-path=\"url(#clip262)\" style=\"stroke:#000000; stroke-linecap:butt; stroke-linejoin:round; stroke-width:2; stroke-opacity:0.1; fill:none\" points=\"\n  564.061,1486.45 564.061,47.2441 \n  \"/>\n<polyline clip-path=\"url(#clip262)\" style=\"stroke:#000000; stroke-linecap:butt; stroke-linejoin:round; stroke-width:2; stroke-opacity:0.1; fill:none\" points=\"\n  909.369,1486.45 909.369,47.2441 \n  \"/>\n<polyline clip-path=\"url(#clip262)\" style=\"stroke:#000000; stroke-linecap:butt; stroke-linejoin:round; stroke-width:2; stroke-opacity:0.1; fill:none\" points=\"\n  1254.68,1486.45 1254.68,47.2441 \n  \"/>\n<polyline clip-path=\"url(#clip262)\" style=\"stroke:#000000; stroke-linecap:butt; stroke-linejoin:round; stroke-width:2; stroke-opacity:0.1; fill:none\" points=\"\n  1599.98,1486.45 1599.98,47.2441 \n  \"/>\n<polyline clip-path=\"url(#clip262)\" style=\"stroke:#000000; stroke-linecap:butt; stroke-linejoin:round; stroke-width:2; stroke-opacity:0.1; fill:none\" points=\"\n  1945.29,1486.45 1945.29,47.2441 \n  \"/>\n<polyline clip-path=\"url(#clip262)\" style=\"stroke:#000000; stroke-linecap:butt; stroke-linejoin:round; stroke-width:2; stroke-opacity:0.1; fill:none\" points=\"\n  2290.6,1486.45 2290.6,47.2441 \n  \"/>\n<polyline clip-path=\"url(#clip260)\" style=\"stroke:#000000; stroke-linecap:butt; stroke-linejoin:round; stroke-width:4; stroke-opacity:1; fill:none\" points=\"\n  156.598,1486.45 2352.76,1486.45 \n  \"/>\n<polyline clip-path=\"url(#clip260)\" style=\"stroke:#000000; stroke-linecap:butt; stroke-linejoin:round; stroke-width:4; stroke-opacity:1; fill:none\" points=\"\n  218.754,1486.45 218.754,1467.55 \n  \"/>\n<polyline clip-path=\"url(#clip260)\" style=\"stroke:#000000; stroke-linecap:butt; stroke-linejoin:round; stroke-width:4; stroke-opacity:1; fill:none\" points=\"\n  564.061,1486.45 564.061,1467.55 \n  \"/>\n<polyline clip-path=\"url(#clip260)\" style=\"stroke:#000000; stroke-linecap:butt; stroke-linejoin:round; stroke-width:4; stroke-opacity:1; fill:none\" points=\"\n  909.369,1486.45 909.369,1467.55 \n  \"/>\n<polyline clip-path=\"url(#clip260)\" style=\"stroke:#000000; stroke-linecap:butt; stroke-linejoin:round; stroke-width:4; stroke-opacity:1; fill:none\" points=\"\n  1254.68,1486.45 1254.68,1467.55 \n  \"/>\n<polyline clip-path=\"url(#clip260)\" style=\"stroke:#000000; stroke-linecap:butt; stroke-linejoin:round; stroke-width:4; stroke-opacity:1; fill:none\" points=\"\n  1599.98,1486.45 1599.98,1467.55 \n  \"/>\n<polyline clip-path=\"url(#clip260)\" style=\"stroke:#000000; stroke-linecap:butt; stroke-linejoin:round; stroke-width:4; stroke-opacity:1; fill:none\" points=\"\n  1945.29,1486.45 1945.29,1467.55 \n  \"/>\n<polyline clip-path=\"url(#clip260)\" style=\"stroke:#000000; stroke-linecap:butt; stroke-linejoin:round; stroke-width:4; stroke-opacity:1; fill:none\" points=\"\n  2290.6,1486.45 2290.6,1467.55 \n  \"/>\n<path clip-path=\"url(#clip260)\" d=\"M182.446 1544.91 L198.765 1544.91 L198.765 1548.85 L176.821 1548.85 L176.821 1544.91 Q179.483 1542.16 184.066 1537.53 Q188.673 1532.88 189.853 1531.53 Q192.099 1529.01 192.978 1527.27 Q193.881 1525.51 193.881 1523.82 Q193.881 1521.07 191.937 1519.33 Q190.015 1517.6 186.914 1517.6 Q184.714 1517.6 182.261 1518.36 Q179.83 1519.13 177.052 1520.68 L177.052 1515.95 Q179.877 1514.82 182.33 1514.24 Q184.784 1513.66 186.821 1513.66 Q192.191 1513.66 195.386 1516.35 Q198.58 1519.03 198.58 1523.52 Q198.58 1525.65 197.77 1527.57 Q196.983 1529.47 194.876 1532.07 Q194.298 1532.74 191.196 1535.95 Q188.094 1539.15 182.446 1544.91 Z\" fill=\"#000000\" fill-rule=\"evenodd\" fill-opacity=\"1\" /><path clip-path=\"url(#clip260)\" d=\"M218.58 1517.37 Q214.969 1517.37 213.14 1520.93 Q211.335 1524.47 211.335 1531.6 Q211.335 1538.71 213.14 1542.27 Q214.969 1545.82 218.58 1545.82 Q222.214 1545.82 224.02 1542.27 Q225.849 1538.71 225.849 1531.6 Q225.849 1524.47 224.02 1520.93 Q222.214 1517.37 218.58 1517.37 M218.58 1513.66 Q224.39 1513.66 227.446 1518.27 Q230.524 1522.85 230.524 1531.6 Q230.524 1540.33 227.446 1544.94 Q224.39 1549.52 218.58 1549.52 Q212.77 1549.52 209.691 1544.94 Q206.636 1540.33 206.636 1531.6 Q206.636 1522.85 209.691 1518.27 Q212.77 1513.66 218.58 1513.66 Z\" fill=\"#000000\" fill-rule=\"evenodd\" fill-opacity=\"1\" /><path clip-path=\"url(#clip260)\" d=\"M248.742 1517.37 Q245.131 1517.37 243.302 1520.93 Q241.497 1524.47 241.497 1531.6 Q241.497 1538.71 243.302 1542.27 Q245.131 1545.82 248.742 1545.82 Q252.376 1545.82 254.182 1542.27 Q256.01 1538.71 256.01 1531.6 Q256.01 1524.47 254.182 1520.93 Q252.376 1517.37 248.742 1517.37 M248.742 1513.66 Q254.552 1513.66 257.608 1518.27 Q260.686 1522.85 260.686 1531.6 Q260.686 1540.33 257.608 1544.94 Q254.552 1549.52 248.742 1549.52 Q242.932 1549.52 239.853 1544.94 Q236.798 1540.33 236.798 1531.6 Q236.798 1522.85 239.853 1518.27 Q242.932 1513.66 248.742 1513.66 Z\" fill=\"#000000\" fill-rule=\"evenodd\" fill-opacity=\"1\" /><path clip-path=\"url(#clip260)\" d=\"M537.823 1530.21 Q541.18 1530.93 543.055 1533.2 Q544.953 1535.47 544.953 1538.8 Q544.953 1543.92 541.434 1546.72 Q537.916 1549.52 531.434 1549.52 Q529.258 1549.52 526.944 1549.08 Q524.652 1548.66 522.198 1547.81 L522.198 1543.29 Q524.143 1544.43 526.457 1545.01 Q528.772 1545.58 531.295 1545.58 Q535.694 1545.58 537.985 1543.85 Q540.3 1542.11 540.3 1538.8 Q540.3 1535.75 538.147 1534.03 Q536.018 1532.3 532.198 1532.3 L528.17 1532.3 L528.17 1528.45 L532.383 1528.45 Q535.832 1528.45 537.661 1527.09 Q539.49 1525.7 539.49 1523.11 Q539.49 1520.45 537.592 1519.03 Q535.717 1517.6 532.198 1517.6 Q530.277 1517.6 528.078 1518.01 Q525.879 1518.43 523.24 1519.31 L523.24 1515.14 Q525.902 1514.4 528.217 1514.03 Q530.555 1513.66 532.615 1513.66 Q537.939 1513.66 541.041 1516.09 Q544.143 1518.5 544.143 1522.62 Q544.143 1525.49 542.499 1527.48 Q540.856 1529.45 537.823 1530.21 Z\" fill=\"#000000\" fill-rule=\"evenodd\" fill-opacity=\"1\" /><path clip-path=\"url(#clip260)\" d=\"M563.818 1517.37 Q560.207 1517.37 558.379 1520.93 Q556.573 1524.47 556.573 1531.6 Q556.573 1538.71 558.379 1542.27 Q560.207 1545.82 563.818 1545.82 Q567.453 1545.82 569.258 1542.27 Q571.087 1538.71 571.087 1531.6 Q571.087 1524.47 569.258 1520.93 Q567.453 1517.37 563.818 1517.37 M563.818 1513.66 Q569.629 1513.66 572.684 1518.27 Q575.763 1522.85 575.763 1531.6 Q575.763 1540.33 572.684 1544.94 Q569.629 1549.52 563.818 1549.52 Q558.008 1549.52 554.93 1544.94 Q551.874 1540.33 551.874 1531.6 Q551.874 1522.85 554.93 1518.27 Q558.008 1513.66 563.818 1513.66 Z\" fill=\"#000000\" fill-rule=\"evenodd\" fill-opacity=\"1\" /><path clip-path=\"url(#clip260)\" d=\"M593.98 1517.37 Q590.369 1517.37 588.54 1520.93 Q586.735 1524.47 586.735 1531.6 Q586.735 1538.71 588.54 1542.27 Q590.369 1545.82 593.98 1545.82 Q597.615 1545.82 599.42 1542.27 Q601.249 1538.71 601.249 1531.6 Q601.249 1524.47 599.42 1520.93 Q597.615 1517.37 593.98 1517.37 M593.98 1513.66 Q599.79 1513.66 602.846 1518.27 Q605.925 1522.85 605.925 1531.6 Q605.925 1540.33 602.846 1544.94 Q599.79 1549.52 593.98 1549.52 Q588.17 1549.52 585.091 1544.94 Q582.036 1540.33 582.036 1531.6 Q582.036 1522.85 585.091 1518.27 Q588.17 1513.66 593.98 1513.66 Z\" fill=\"#000000\" fill-rule=\"evenodd\" fill-opacity=\"1\" /><path clip-path=\"url(#clip260)\" d=\"M882.46 1518.36 L870.654 1536.81 L882.46 1536.81 L882.46 1518.36 M881.233 1514.29 L887.112 1514.29 L887.112 1536.81 L892.043 1536.81 L892.043 1540.7 L887.112 1540.7 L887.112 1548.85 L882.46 1548.85 L882.46 1540.7 L866.858 1540.7 L866.858 1536.19 L881.233 1514.29 Z\" fill=\"#000000\" fill-rule=\"evenodd\" fill-opacity=\"1\" /><path clip-path=\"url(#clip260)\" d=\"M909.774 1517.37 Q906.163 1517.37 904.335 1520.93 Q902.529 1524.47 902.529 1531.6 Q902.529 1538.71 904.335 1542.27 Q906.163 1545.82 909.774 1545.82 Q913.409 1545.82 915.214 1542.27 Q917.043 1538.71 917.043 1531.6 Q917.043 1524.47 915.214 1520.93 Q913.409 1517.37 909.774 1517.37 M909.774 1513.66 Q915.585 1513.66 918.64 1518.27 Q921.719 1522.85 921.719 1531.6 Q921.719 1540.33 918.64 1544.94 Q915.585 1549.52 909.774 1549.52 Q903.964 1549.52 900.886 1544.94 Q897.83 1540.33 897.83 1531.6 Q897.83 1522.85 900.886 1518.27 Q903.964 1513.66 909.774 1513.66 Z\" fill=\"#000000\" fill-rule=\"evenodd\" fill-opacity=\"1\" /><path clip-path=\"url(#clip260)\" d=\"M939.936 1517.37 Q936.325 1517.37 934.496 1520.93 Q932.691 1524.47 932.691 1531.6 Q932.691 1538.71 934.496 1542.27 Q936.325 1545.82 939.936 1545.82 Q943.57 1545.82 945.376 1542.27 Q947.205 1538.71 947.205 1531.6 Q947.205 1524.47 945.376 1520.93 Q943.57 1517.37 939.936 1517.37 M939.936 1513.66 Q945.746 1513.66 948.802 1518.27 Q951.881 1522.85 951.881 1531.6 Q951.881 1540.33 948.802 1544.94 Q945.746 1549.52 939.936 1549.52 Q934.126 1549.52 931.047 1544.94 Q927.992 1540.33 927.992 1531.6 Q927.992 1522.85 931.047 1518.27 Q934.126 1513.66 939.936 1513.66 Z\" fill=\"#000000\" fill-rule=\"evenodd\" fill-opacity=\"1\" /><path clip-path=\"url(#clip260)\" d=\"M1214.3 1514.29 L1232.65 1514.29 L1232.65 1518.22 L1218.58 1518.22 L1218.58 1526.7 Q1219.6 1526.35 1220.61 1526.19 Q1221.63 1526 1222.65 1526 Q1228.44 1526 1231.82 1529.17 Q1235.2 1532.34 1235.2 1537.76 Q1235.2 1543.34 1231.73 1546.44 Q1228.25 1549.52 1221.93 1549.52 Q1219.76 1549.52 1217.49 1549.15 Q1215.24 1548.78 1212.84 1548.04 L1212.84 1543.34 Q1214.92 1544.47 1217.14 1545.03 Q1219.36 1545.58 1221.84 1545.58 Q1225.85 1545.58 1228.18 1543.48 Q1230.52 1541.37 1230.52 1537.76 Q1230.52 1534.15 1228.18 1532.04 Q1225.85 1529.94 1221.84 1529.94 Q1219.97 1529.94 1218.09 1530.35 Q1216.24 1530.77 1214.3 1531.65 L1214.3 1514.29 Z\" fill=\"#000000\" fill-rule=\"evenodd\" fill-opacity=\"1\" /><path clip-path=\"url(#clip260)\" d=\"M1254.41 1517.37 Q1250.8 1517.37 1248.97 1520.93 Q1247.17 1524.47 1247.17 1531.6 Q1247.17 1538.71 1248.97 1542.27 Q1250.8 1545.82 1254.41 1545.82 Q1258.05 1545.82 1259.85 1542.27 Q1261.68 1538.71 1261.68 1531.6 Q1261.68 1524.47 1259.85 1520.93 Q1258.05 1517.37 1254.41 1517.37 M1254.41 1513.66 Q1260.22 1513.66 1263.28 1518.27 Q1266.36 1522.85 1266.36 1531.6 Q1266.36 1540.33 1263.28 1544.94 Q1260.22 1549.52 1254.41 1549.52 Q1248.6 1549.52 1245.52 1544.94 Q1242.47 1540.33 1242.47 1531.6 Q1242.47 1522.85 1245.52 1518.27 Q1248.6 1513.66 1254.41 1513.66 Z\" fill=\"#000000\" fill-rule=\"evenodd\" fill-opacity=\"1\" /><path clip-path=\"url(#clip260)\" d=\"M1284.57 1517.37 Q1280.96 1517.37 1279.13 1520.93 Q1277.33 1524.47 1277.33 1531.6 Q1277.33 1538.71 1279.13 1542.27 Q1280.96 1545.82 1284.57 1545.82 Q1288.21 1545.82 1290.01 1542.27 Q1291.84 1538.71 1291.84 1531.6 Q1291.84 1524.47 1290.01 1520.93 Q1288.21 1517.37 1284.57 1517.37 M1284.57 1513.66 Q1290.38 1513.66 1293.44 1518.27 Q1296.52 1522.85 1296.52 1531.6 Q1296.52 1540.33 1293.44 1544.94 Q1290.38 1549.52 1284.57 1549.52 Q1278.76 1549.52 1275.68 1544.94 Q1272.63 1540.33 1272.63 1531.6 Q1272.63 1522.85 1275.68 1518.27 Q1278.76 1513.66 1284.57 1513.66 Z\" fill=\"#000000\" fill-rule=\"evenodd\" fill-opacity=\"1\" /><path clip-path=\"url(#clip260)\" d=\"M1570.31 1529.7 Q1567.16 1529.7 1565.31 1531.86 Q1563.48 1534.01 1563.48 1537.76 Q1563.48 1541.49 1565.31 1543.66 Q1567.16 1545.82 1570.31 1545.82 Q1573.46 1545.82 1575.29 1543.66 Q1577.14 1541.49 1577.14 1537.76 Q1577.14 1534.01 1575.29 1531.86 Q1573.46 1529.7 1570.31 1529.7 M1579.59 1515.05 L1579.59 1519.31 Q1577.83 1518.48 1576.03 1518.04 Q1574.24 1517.6 1572.49 1517.6 Q1567.86 1517.6 1565.4 1520.72 Q1562.97 1523.85 1562.62 1530.17 Q1563.99 1528.15 1566.05 1527.09 Q1568.11 1526 1570.59 1526 Q1575.8 1526 1578.8 1529.17 Q1581.84 1532.32 1581.84 1537.76 Q1581.84 1543.08 1578.69 1546.3 Q1575.54 1549.52 1570.31 1549.52 Q1564.31 1549.52 1561.14 1544.94 Q1557.97 1540.33 1557.97 1531.6 Q1557.97 1523.41 1561.86 1518.55 Q1565.75 1513.66 1572.3 1513.66 Q1574.06 1513.66 1575.84 1514.01 Q1577.65 1514.36 1579.59 1515.05 Z\" fill=\"#000000\" fill-rule=\"evenodd\" fill-opacity=\"1\" /><path clip-path=\"url(#clip260)\" d=\"M1599.89 1517.37 Q1596.28 1517.37 1594.45 1520.93 Q1592.65 1524.47 1592.65 1531.6 Q1592.65 1538.71 1594.45 1542.27 Q1596.28 1545.82 1599.89 1545.82 Q1603.53 1545.82 1605.33 1542.27 Q1607.16 1538.71 1607.16 1531.6 Q1607.16 1524.47 1605.33 1520.93 Q1603.53 1517.37 1599.89 1517.37 M1599.89 1513.66 Q1605.7 1513.66 1608.76 1518.27 Q1611.84 1522.85 1611.84 1531.6 Q1611.84 1540.33 1608.76 1544.94 Q1605.7 1549.52 1599.89 1549.52 Q1594.08 1549.52 1591 1544.94 Q1587.95 1540.33 1587.95 1531.6 Q1587.95 1522.85 1591 1518.27 Q1594.08 1513.66 1599.89 1513.66 Z\" fill=\"#000000\" fill-rule=\"evenodd\" fill-opacity=\"1\" /><path clip-path=\"url(#clip260)\" d=\"M1630.05 1517.37 Q1626.44 1517.37 1624.61 1520.93 Q1622.81 1524.47 1622.81 1531.6 Q1622.81 1538.71 1624.61 1542.27 Q1626.44 1545.82 1630.05 1545.82 Q1633.69 1545.82 1635.49 1542.27 Q1637.32 1538.71 1637.32 1531.6 Q1637.32 1524.47 1635.49 1520.93 Q1633.69 1517.37 1630.05 1517.37 M1630.05 1513.66 Q1635.86 1513.66 1638.92 1518.27 Q1642 1522.85 1642 1531.6 Q1642 1540.33 1638.92 1544.94 Q1635.86 1549.52 1630.05 1549.52 Q1624.24 1549.52 1621.17 1544.94 Q1618.11 1540.33 1618.11 1531.6 Q1618.11 1522.85 1621.17 1518.27 Q1624.24 1513.66 1630.05 1513.66 Z\" fill=\"#000000\" fill-rule=\"evenodd\" fill-opacity=\"1\" /><path clip-path=\"url(#clip260)\" d=\"M1903.57 1514.29 L1925.79 1514.29 L1925.79 1516.28 L1913.24 1548.85 L1908.36 1548.85 L1920.17 1518.22 L1903.57 1518.22 L1903.57 1514.29 Z\" fill=\"#000000\" fill-rule=\"evenodd\" fill-opacity=\"1\" /><path clip-path=\"url(#clip260)\" d=\"M1944.91 1517.37 Q1941.3 1517.37 1939.47 1520.93 Q1937.67 1524.47 1937.67 1531.6 Q1937.67 1538.71 1939.47 1542.27 Q1941.3 1545.82 1944.91 1545.82 Q1948.54 1545.82 1950.35 1542.27 Q1952.18 1538.71 1952.18 1531.6 Q1952.18 1524.47 1950.35 1520.93 Q1948.54 1517.37 1944.91 1517.37 M1944.91 1513.66 Q1950.72 1513.66 1953.78 1518.27 Q1956.86 1522.85 1956.86 1531.6 Q1956.86 1540.33 1953.78 1544.94 Q1950.72 1549.52 1944.91 1549.52 Q1939.1 1549.52 1936.02 1544.94 Q1932.97 1540.33 1932.97 1531.6 Q1932.97 1522.85 1936.02 1518.27 Q1939.1 1513.66 1944.91 1513.66 Z\" fill=\"#000000\" fill-rule=\"evenodd\" fill-opacity=\"1\" /><path clip-path=\"url(#clip260)\" d=\"M1975.07 1517.37 Q1971.46 1517.37 1969.63 1520.93 Q1967.83 1524.47 1967.83 1531.6 Q1967.83 1538.71 1969.63 1542.27 Q1971.46 1545.82 1975.07 1545.82 Q1978.71 1545.82 1980.51 1542.27 Q1982.34 1538.71 1982.34 1531.6 Q1982.34 1524.47 1980.51 1520.93 Q1978.71 1517.37 1975.07 1517.37 M1975.07 1513.66 Q1980.88 1513.66 1983.94 1518.27 Q1987.02 1522.85 1987.02 1531.6 Q1987.02 1540.33 1983.94 1544.94 Q1980.88 1549.52 1975.07 1549.52 Q1969.26 1549.52 1966.18 1544.94 Q1963.13 1540.33 1963.13 1531.6 Q1963.13 1522.85 1966.18 1518.27 Q1969.26 1513.66 1975.07 1513.66 Z\" fill=\"#000000\" fill-rule=\"evenodd\" fill-opacity=\"1\" /><path clip-path=\"url(#clip260)\" d=\"M2260.39 1532.44 Q2257.06 1532.44 2255.14 1534.22 Q2253.24 1536 2253.24 1539.13 Q2253.24 1542.25 2255.14 1544.03 Q2257.06 1545.82 2260.39 1545.82 Q2263.73 1545.82 2265.65 1544.03 Q2267.57 1542.23 2267.57 1539.13 Q2267.57 1536 2265.65 1534.22 Q2263.75 1532.44 2260.39 1532.44 M2255.72 1530.45 Q2252.71 1529.7 2251.02 1527.64 Q2249.35 1525.58 2249.35 1522.62 Q2249.35 1518.48 2252.29 1516.07 Q2255.25 1513.66 2260.39 1513.66 Q2265.55 1513.66 2268.49 1516.07 Q2271.43 1518.48 2271.43 1522.62 Q2271.43 1525.58 2269.74 1527.64 Q2268.08 1529.7 2265.09 1530.45 Q2268.47 1531.23 2270.35 1533.52 Q2272.24 1535.82 2272.24 1539.13 Q2272.24 1544.15 2269.17 1546.83 Q2266.11 1549.52 2260.39 1549.52 Q2254.67 1549.52 2251.6 1546.83 Q2248.54 1544.15 2248.54 1539.13 Q2248.54 1535.82 2250.44 1533.52 Q2252.34 1531.23 2255.72 1530.45 M2254 1523.06 Q2254 1525.75 2255.67 1527.25 Q2257.36 1528.76 2260.39 1528.76 Q2263.4 1528.76 2265.09 1527.25 Q2266.8 1525.75 2266.8 1523.06 Q2266.8 1520.38 2265.09 1518.87 Q2263.4 1517.37 2260.39 1517.37 Q2257.36 1517.37 2255.67 1518.87 Q2254 1520.38 2254 1523.06 Z\" fill=\"#000000\" fill-rule=\"evenodd\" fill-opacity=\"1\" /><path clip-path=\"url(#clip260)\" d=\"M2290.55 1517.37 Q2286.94 1517.37 2285.11 1520.93 Q2283.31 1524.47 2283.31 1531.6 Q2283.31 1538.71 2285.11 1542.27 Q2286.94 1545.82 2290.55 1545.82 Q2294.19 1545.82 2295.99 1542.27 Q2297.82 1538.71 2297.82 1531.6 Q2297.82 1524.47 2295.99 1520.93 Q2294.19 1517.37 2290.55 1517.37 M2290.55 1513.66 Q2296.36 1513.66 2299.42 1518.27 Q2302.5 1522.85 2302.5 1531.6 Q2302.5 1540.33 2299.42 1544.94 Q2296.36 1549.52 2290.55 1549.52 Q2284.74 1549.52 2281.67 1544.94 Q2278.61 1540.33 2278.61 1531.6 Q2278.61 1522.85 2281.67 1518.27 Q2284.74 1513.66 2290.55 1513.66 Z\" fill=\"#000000\" fill-rule=\"evenodd\" fill-opacity=\"1\" /><path clip-path=\"url(#clip260)\" d=\"M2320.72 1517.37 Q2317.1 1517.37 2315.28 1520.93 Q2313.47 1524.47 2313.47 1531.6 Q2313.47 1538.71 2315.28 1542.27 Q2317.1 1545.82 2320.72 1545.82 Q2324.35 1545.82 2326.16 1542.27 Q2327.98 1538.71 2327.98 1531.6 Q2327.98 1524.47 2326.16 1520.93 Q2324.35 1517.37 2320.72 1517.37 M2320.72 1513.66 Q2326.53 1513.66 2329.58 1518.27 Q2332.66 1522.85 2332.66 1531.6 Q2332.66 1540.33 2329.58 1544.94 Q2326.53 1549.52 2320.72 1549.52 Q2314.91 1549.52 2311.83 1544.94 Q2308.77 1540.33 2308.77 1531.6 Q2308.77 1522.85 2311.83 1518.27 Q2314.91 1513.66 2320.72 1513.66 Z\" fill=\"#000000\" fill-rule=\"evenodd\" fill-opacity=\"1\" /><polyline clip-path=\"url(#clip262)\" style=\"stroke:#000000; stroke-linecap:butt; stroke-linejoin:round; stroke-width:2; stroke-opacity:0.1; fill:none\" points=\"\n  156.598,1201.62 2352.76,1201.62 \n  \"/>\n<polyline clip-path=\"url(#clip262)\" style=\"stroke:#000000; stroke-linecap:butt; stroke-linejoin:round; stroke-width:2; stroke-opacity:0.1; fill:none\" points=\"\n  156.598,894.575 2352.76,894.575 \n  \"/>\n<polyline clip-path=\"url(#clip262)\" style=\"stroke:#000000; stroke-linecap:butt; stroke-linejoin:round; stroke-width:2; stroke-opacity:0.1; fill:none\" points=\"\n  156.598,587.533 2352.76,587.533 \n  \"/>\n<polyline clip-path=\"url(#clip262)\" style=\"stroke:#000000; stroke-linecap:butt; stroke-linejoin:round; stroke-width:2; stroke-opacity:0.1; fill:none\" points=\"\n  156.598,280.492 2352.76,280.492 \n  \"/>\n<polyline clip-path=\"url(#clip260)\" style=\"stroke:#000000; stroke-linecap:butt; stroke-linejoin:round; stroke-width:4; stroke-opacity:1; fill:none\" points=\"\n  156.598,1486.45 156.598,47.2441 \n  \"/>\n<polyline clip-path=\"url(#clip260)\" style=\"stroke:#000000; stroke-linecap:butt; stroke-linejoin:round; stroke-width:4; stroke-opacity:1; fill:none\" points=\"\n  156.598,1201.62 175.496,1201.62 \n  \"/>\n<polyline clip-path=\"url(#clip260)\" style=\"stroke:#000000; stroke-linecap:butt; stroke-linejoin:round; stroke-width:4; stroke-opacity:1; fill:none\" points=\"\n  156.598,894.575 175.496,894.575 \n  \"/>\n<polyline clip-path=\"url(#clip260)\" style=\"stroke:#000000; stroke-linecap:butt; stroke-linejoin:round; stroke-width:4; stroke-opacity:1; fill:none\" points=\"\n  156.598,587.533 175.496,587.533 \n  \"/>\n<polyline clip-path=\"url(#clip260)\" style=\"stroke:#000000; stroke-linecap:butt; stroke-linejoin:round; stroke-width:4; stroke-opacity:1; fill:none\" points=\"\n  156.598,280.492 175.496,280.492 \n  \"/>\n<path clip-path=\"url(#clip260)\" d=\"M65.0198 1187.42 Q61.4087 1187.42 59.58 1190.98 Q57.7745 1194.52 57.7745 1201.65 Q57.7745 1208.76 59.58 1212.32 Q61.4087 1215.86 65.0198 1215.86 Q68.6541 1215.86 70.4596 1212.32 Q72.2883 1208.76 72.2883 1201.65 Q72.2883 1194.52 70.4596 1190.98 Q68.6541 1187.42 65.0198 1187.42 M65.0198 1183.71 Q70.83 1183.71 73.8855 1188.32 Q76.9642 1192.9 76.9642 1201.65 Q76.9642 1210.38 73.8855 1214.99 Q70.83 1219.57 65.0198 1219.57 Q59.2097 1219.57 56.131 1214.99 Q53.0754 1210.38 53.0754 1201.65 Q53.0754 1192.9 56.131 1188.32 Q59.2097 1183.71 65.0198 1183.71 Z\" fill=\"#000000\" fill-rule=\"evenodd\" fill-opacity=\"1\" /><path clip-path=\"url(#clip260)\" d=\"M85.1818 1213.02 L90.066 1213.02 L90.066 1218.9 L85.1818 1218.9 L85.1818 1213.02 Z\" fill=\"#000000\" fill-rule=\"evenodd\" fill-opacity=\"1\" /><path clip-path=\"url(#clip260)\" d=\"M104.279 1214.96 L120.598 1214.96 L120.598 1218.9 L98.6539 1218.9 L98.6539 1214.96 Q101.316 1212.21 105.899 1207.58 Q110.506 1202.93 111.686 1201.58 Q113.932 1199.06 114.811 1197.32 Q115.714 1195.56 115.714 1193.87 Q115.714 1191.12 113.77 1189.38 Q111.848 1187.65 108.746 1187.65 Q106.547 1187.65 104.094 1188.41 Q101.663 1189.18 98.8854 1190.73 L98.8854 1186 Q101.709 1184.87 104.163 1184.29 Q106.617 1183.71 108.654 1183.71 Q114.024 1183.71 117.219 1186.4 Q120.413 1189.08 120.413 1193.57 Q120.413 1195.7 119.603 1197.62 Q118.816 1199.52 116.709 1202.12 Q116.131 1202.79 113.029 1206 Q109.927 1209.2 104.279 1214.96 Z\" fill=\"#000000\" fill-rule=\"evenodd\" fill-opacity=\"1\" /><path clip-path=\"url(#clip260)\" d=\"M62.9365 880.374 Q59.3254 880.374 57.4967 883.939 Q55.6912 887.481 55.6912 894.61 Q55.6912 901.717 57.4967 905.281 Q59.3254 908.823 62.9365 908.823 Q66.5707 908.823 68.3763 905.281 Q70.205 901.717 70.205 894.61 Q70.205 887.481 68.3763 883.939 Q66.5707 880.374 62.9365 880.374 M62.9365 876.67 Q68.7467 876.67 71.8022 881.277 Q74.8809 885.86 74.8809 894.61 Q74.8809 903.337 71.8022 907.943 Q68.7467 912.527 62.9365 912.527 Q57.1264 912.527 54.0477 907.943 Q50.9921 903.337 50.9921 894.61 Q50.9921 885.86 54.0477 881.277 Q57.1264 876.67 62.9365 876.67 Z\" fill=\"#000000\" fill-rule=\"evenodd\" fill-opacity=\"1\" /><path clip-path=\"url(#clip260)\" d=\"M83.0984 905.976 L87.9827 905.976 L87.9827 911.855 L83.0984 911.855 L83.0984 905.976 Z\" fill=\"#000000\" fill-rule=\"evenodd\" fill-opacity=\"1\" /><path clip-path=\"url(#clip260)\" d=\"M111.015 881.369 L99.2095 899.818 L111.015 899.818 L111.015 881.369 M109.788 877.295 L115.668 877.295 L115.668 899.818 L120.598 899.818 L120.598 903.707 L115.668 903.707 L115.668 911.855 L111.015 911.855 L111.015 903.707 L95.4132 903.707 L95.4132 899.193 L109.788 877.295 Z\" fill=\"#000000\" fill-rule=\"evenodd\" fill-opacity=\"1\" /><path clip-path=\"url(#clip260)\" d=\"M63.2606 573.332 Q59.6495 573.332 57.8208 576.897 Q56.0152 580.439 56.0152 587.568 Q56.0152 594.675 57.8208 598.239 Q59.6495 601.781 63.2606 601.781 Q66.8948 601.781 68.7004 598.239 Q70.5291 594.675 70.5291 587.568 Q70.5291 580.439 68.7004 576.897 Q66.8948 573.332 63.2606 573.332 M63.2606 569.629 Q69.0707 569.629 72.1263 574.235 Q75.205 578.818 75.205 587.568 Q75.205 596.295 72.1263 600.901 Q69.0707 605.485 63.2606 605.485 Q57.4504 605.485 54.3717 600.901 Q51.3162 596.295 51.3162 587.568 Q51.3162 578.818 54.3717 574.235 Q57.4504 569.629 63.2606 569.629 Z\" fill=\"#000000\" fill-rule=\"evenodd\" fill-opacity=\"1\" /><path clip-path=\"url(#clip260)\" d=\"M83.4225 598.934 L88.3067 598.934 L88.3067 604.813 L83.4225 604.813 L83.4225 598.934 Z\" fill=\"#000000\" fill-rule=\"evenodd\" fill-opacity=\"1\" /><path clip-path=\"url(#clip260)\" d=\"M109.071 585.67 Q105.922 585.67 104.071 587.823 Q102.242 589.976 102.242 593.726 Q102.242 597.452 104.071 599.628 Q105.922 601.781 109.071 601.781 Q112.219 601.781 114.047 599.628 Q115.899 597.452 115.899 593.726 Q115.899 589.976 114.047 587.823 Q112.219 585.67 109.071 585.67 M118.353 571.017 L118.353 575.277 Q116.594 574.443 114.788 574.003 Q113.006 573.564 111.246 573.564 Q106.617 573.564 104.163 576.689 Q101.733 579.814 101.385 586.133 Q102.751 584.119 104.811 583.054 Q106.871 581.966 109.348 581.966 Q114.557 581.966 117.566 585.138 Q120.598 588.286 120.598 593.726 Q120.598 599.05 117.45 602.267 Q114.302 605.485 109.071 605.485 Q103.075 605.485 99.9039 600.901 Q96.7326 596.295 96.7326 587.568 Q96.7326 579.374 100.621 574.513 Q104.51 569.629 111.061 569.629 Q112.82 569.629 114.603 569.976 Q116.408 570.323 118.353 571.017 Z\" fill=\"#000000\" fill-rule=\"evenodd\" fill-opacity=\"1\" /><path clip-path=\"url(#clip260)\" d=\"M63.5152 266.29 Q59.9041 266.29 58.0754 269.855 Q56.2699 273.397 56.2699 280.526 Q56.2699 287.633 58.0754 291.198 Q59.9041 294.739 63.5152 294.739 Q67.1494 294.739 68.955 291.198 Q70.7837 287.633 70.7837 280.526 Q70.7837 273.397 68.955 269.855 Q67.1494 266.29 63.5152 266.29 M63.5152 262.587 Q69.3254 262.587 72.3809 267.193 Q75.4596 271.776 75.4596 280.526 Q75.4596 289.253 72.3809 293.86 Q69.3254 298.443 63.5152 298.443 Q57.7051 298.443 54.6264 293.86 Q51.5708 289.253 51.5708 280.526 Q51.5708 271.776 54.6264 267.193 Q57.7051 262.587 63.5152 262.587 Z\" fill=\"#000000\" fill-rule=\"evenodd\" fill-opacity=\"1\" /><path clip-path=\"url(#clip260)\" d=\"M83.6771 291.892 L88.5614 291.892 L88.5614 297.772 L83.6771 297.772 L83.6771 291.892 Z\" fill=\"#000000\" fill-rule=\"evenodd\" fill-opacity=\"1\" /><path clip-path=\"url(#clip260)\" d=\"M108.746 281.36 Q105.413 281.36 103.492 283.142 Q101.594 284.924 101.594 288.049 Q101.594 291.174 103.492 292.957 Q105.413 294.739 108.746 294.739 Q112.08 294.739 114.001 292.957 Q115.922 291.151 115.922 288.049 Q115.922 284.924 114.001 283.142 Q112.103 281.36 108.746 281.36 M104.071 279.369 Q101.061 278.628 99.3715 276.568 Q97.7048 274.508 97.7048 271.545 Q97.7048 267.401 100.645 264.994 Q103.608 262.587 108.746 262.587 Q113.908 262.587 116.848 264.994 Q119.788 267.401 119.788 271.545 Q119.788 274.508 118.098 276.568 Q116.432 278.628 113.445 279.369 Q116.825 280.156 118.7 282.448 Q120.598 284.739 120.598 288.049 Q120.598 293.073 117.52 295.758 Q114.464 298.443 108.746 298.443 Q103.029 298.443 99.9502 295.758 Q96.8947 293.073 96.8947 288.049 Q96.8947 284.739 98.7928 282.448 Q100.691 280.156 104.071 279.369 M102.358 271.985 Q102.358 274.67 104.024 276.174 Q105.714 277.679 108.746 277.679 Q111.756 277.679 113.445 276.174 Q115.158 274.67 115.158 271.985 Q115.158 269.299 113.445 267.795 Q111.756 266.29 108.746 266.29 Q105.714 266.29 104.024 267.795 Q102.358 269.299 102.358 271.985 Z\" fill=\"#000000\" fill-rule=\"evenodd\" fill-opacity=\"1\" /><polyline clip-path=\"url(#clip262)\" style=\"stroke:#009af9; stroke-linecap:butt; stroke-linejoin:round; stroke-width:4; stroke-opacity:1; fill:none\" points=\"\n  218.754,1445.72 287.815,1382.93 356.877,1265.48 425.938,1052.24 495,711.425 564.061,307.972 633.123,117.913 702.185,90.2791 771.246,94.2706 840.308,87.9763 \n  909.369,133.726 978.431,172.106 1047.49,207.262 1116.55,241.804 1185.62,275.272 1254.68,323.477 1323.74,385.039 1392.8,441.996 1461.86,498.491 1530.92,533.494 \n  1599.98,582.621 1669.05,648.942 1738.11,710.35 1807.17,817.815 1876.23,894.575 1945.29,940.939 2014.35,986.995 2083.42,1017.39 2152.48,1032.74 2221.54,1032.74 \n  2290.6,1048.1 \n  \"/>\n<path clip-path=\"url(#clip260)\" d=\"\nM1987.12 198.898 L2279.55 198.898 L2279.55 95.2176 L1987.12 95.2176  Z\n  \" fill=\"#ffffff\" fill-rule=\"evenodd\" fill-opacity=\"1\"/>\n<polyline clip-path=\"url(#clip260)\" style=\"stroke:#000000; stroke-linecap:butt; stroke-linejoin:round; stroke-width:4; stroke-opacity:1; fill:none\" points=\"\n  1987.12,198.898 2279.55,198.898 2279.55,95.2176 1987.12,95.2176 1987.12,198.898 \n  \"/>\n<polyline clip-path=\"url(#clip260)\" style=\"stroke:#009af9; stroke-linecap:butt; stroke-linejoin:round; stroke-width:4; stroke-opacity:1; fill:none\" points=\"\n  2011.12,147.058 2155.12,147.058 \n  \"/>\n<path clip-path=\"url(#clip260)\" d=\"M2192.96 166.745 Q2191.16 171.375 2189.44 172.787 Q2187.73 174.199 2184.86 174.199 L2181.46 174.199 L2181.46 170.634 L2183.96 170.634 Q2185.72 170.634 2186.69 169.8 Q2187.66 168.967 2188.84 165.865 L2189.61 163.921 L2179.12 138.412 L2183.63 138.412 L2191.74 158.689 L2199.84 138.412 L2204.35 138.412 L2192.96 166.745 Z\" fill=\"#000000\" fill-rule=\"evenodd\" fill-opacity=\"1\" /><path clip-path=\"url(#clip260)\" d=\"M2211.64 160.402 L2219.28 160.402 L2219.28 134.037 L2210.97 135.703 L2210.97 131.444 L2219.24 129.778 L2223.91 129.778 L2223.91 160.402 L2231.55 160.402 L2231.55 164.338 L2211.64 164.338 L2211.64 160.402 Z\" fill=\"#000000\" fill-rule=\"evenodd\" fill-opacity=\"1\" /></svg>\n",
      "text/html": [
       "<?xml version=\"1.0\" encoding=\"utf-8\"?>\n",
       "<svg xmlns=\"http://www.w3.org/2000/svg\" xmlns:xlink=\"http://www.w3.org/1999/xlink\" width=\"600\" height=\"400\" viewBox=\"0 0 2400 1600\">\n",
       "<defs>\n",
       "  <clipPath id=\"clip310\">\n",
       "    <rect x=\"0\" y=\"0\" width=\"2400\" height=\"1600\"/>\n",
       "  </clipPath>\n",
       "</defs>\n",
       "<path clip-path=\"url(#clip310)\" d=\"\n",
       "M0 1600 L2400 1600 L2400 0 L0 0  Z\n",
       "  \" fill=\"#ffffff\" fill-rule=\"evenodd\" fill-opacity=\"1\"/>\n",
       "<defs>\n",
       "  <clipPath id=\"clip311\">\n",
       "    <rect x=\"480\" y=\"0\" width=\"1681\" height=\"1600\"/>\n",
       "  </clipPath>\n",
       "</defs>\n",
       "<path clip-path=\"url(#clip310)\" d=\"\n",
       "M156.598 1486.45 L2352.76 1486.45 L2352.76 47.2441 L156.598 47.2441  Z\n",
       "  \" fill=\"#ffffff\" fill-rule=\"evenodd\" fill-opacity=\"1\"/>\n",
       "<defs>\n",
       "  <clipPath id=\"clip312\">\n",
       "    <rect x=\"156\" y=\"47\" width=\"2197\" height=\"1440\"/>\n",
       "  </clipPath>\n",
       "</defs>\n",
       "<polyline clip-path=\"url(#clip312)\" style=\"stroke:#000000; stroke-linecap:butt; stroke-linejoin:round; stroke-width:2; stroke-opacity:0.1; fill:none\" points=\"\n",
       "  218.754,1486.45 218.754,47.2441 \n",
       "  \"/>\n",
       "<polyline clip-path=\"url(#clip312)\" style=\"stroke:#000000; stroke-linecap:butt; stroke-linejoin:round; stroke-width:2; stroke-opacity:0.1; fill:none\" points=\"\n",
       "  564.061,1486.45 564.061,47.2441 \n",
       "  \"/>\n",
       "<polyline clip-path=\"url(#clip312)\" style=\"stroke:#000000; stroke-linecap:butt; stroke-linejoin:round; stroke-width:2; stroke-opacity:0.1; fill:none\" points=\"\n",
       "  909.369,1486.45 909.369,47.2441 \n",
       "  \"/>\n",
       "<polyline clip-path=\"url(#clip312)\" style=\"stroke:#000000; stroke-linecap:butt; stroke-linejoin:round; stroke-width:2; stroke-opacity:0.1; fill:none\" points=\"\n",
       "  1254.68,1486.45 1254.68,47.2441 \n",
       "  \"/>\n",
       "<polyline clip-path=\"url(#clip312)\" style=\"stroke:#000000; stroke-linecap:butt; stroke-linejoin:round; stroke-width:2; stroke-opacity:0.1; fill:none\" points=\"\n",
       "  1599.98,1486.45 1599.98,47.2441 \n",
       "  \"/>\n",
       "<polyline clip-path=\"url(#clip312)\" style=\"stroke:#000000; stroke-linecap:butt; stroke-linejoin:round; stroke-width:2; stroke-opacity:0.1; fill:none\" points=\"\n",
       "  1945.29,1486.45 1945.29,47.2441 \n",
       "  \"/>\n",
       "<polyline clip-path=\"url(#clip312)\" style=\"stroke:#000000; stroke-linecap:butt; stroke-linejoin:round; stroke-width:2; stroke-opacity:0.1; fill:none\" points=\"\n",
       "  2290.6,1486.45 2290.6,47.2441 \n",
       "  \"/>\n",
       "<polyline clip-path=\"url(#clip310)\" style=\"stroke:#000000; stroke-linecap:butt; stroke-linejoin:round; stroke-width:4; stroke-opacity:1; fill:none\" points=\"\n",
       "  156.598,1486.45 2352.76,1486.45 \n",
       "  \"/>\n",
       "<polyline clip-path=\"url(#clip310)\" style=\"stroke:#000000; stroke-linecap:butt; stroke-linejoin:round; stroke-width:4; stroke-opacity:1; fill:none\" points=\"\n",
       "  218.754,1486.45 218.754,1467.55 \n",
       "  \"/>\n",
       "<polyline clip-path=\"url(#clip310)\" style=\"stroke:#000000; stroke-linecap:butt; stroke-linejoin:round; stroke-width:4; stroke-opacity:1; fill:none\" points=\"\n",
       "  564.061,1486.45 564.061,1467.55 \n",
       "  \"/>\n",
       "<polyline clip-path=\"url(#clip310)\" style=\"stroke:#000000; stroke-linecap:butt; stroke-linejoin:round; stroke-width:4; stroke-opacity:1; fill:none\" points=\"\n",
       "  909.369,1486.45 909.369,1467.55 \n",
       "  \"/>\n",
       "<polyline clip-path=\"url(#clip310)\" style=\"stroke:#000000; stroke-linecap:butt; stroke-linejoin:round; stroke-width:4; stroke-opacity:1; fill:none\" points=\"\n",
       "  1254.68,1486.45 1254.68,1467.55 \n",
       "  \"/>\n",
       "<polyline clip-path=\"url(#clip310)\" style=\"stroke:#000000; stroke-linecap:butt; stroke-linejoin:round; stroke-width:4; stroke-opacity:1; fill:none\" points=\"\n",
       "  1599.98,1486.45 1599.98,1467.55 \n",
       "  \"/>\n",
       "<polyline clip-path=\"url(#clip310)\" style=\"stroke:#000000; stroke-linecap:butt; stroke-linejoin:round; stroke-width:4; stroke-opacity:1; fill:none\" points=\"\n",
       "  1945.29,1486.45 1945.29,1467.55 \n",
       "  \"/>\n",
       "<polyline clip-path=\"url(#clip310)\" style=\"stroke:#000000; stroke-linecap:butt; stroke-linejoin:round; stroke-width:4; stroke-opacity:1; fill:none\" points=\"\n",
       "  2290.6,1486.45 2290.6,1467.55 \n",
       "  \"/>\n",
       "<path clip-path=\"url(#clip310)\" d=\"M182.446 1544.91 L198.765 1544.91 L198.765 1548.85 L176.821 1548.85 L176.821 1544.91 Q179.483 1542.16 184.066 1537.53 Q188.673 1532.88 189.853 1531.53 Q192.099 1529.01 192.978 1527.27 Q193.881 1525.51 193.881 1523.82 Q193.881 1521.07 191.937 1519.33 Q190.015 1517.6 186.914 1517.6 Q184.714 1517.6 182.261 1518.36 Q179.83 1519.13 177.052 1520.68 L177.052 1515.95 Q179.877 1514.82 182.33 1514.24 Q184.784 1513.66 186.821 1513.66 Q192.191 1513.66 195.386 1516.35 Q198.58 1519.03 198.58 1523.52 Q198.58 1525.65 197.77 1527.57 Q196.983 1529.47 194.876 1532.07 Q194.298 1532.74 191.196 1535.95 Q188.094 1539.15 182.446 1544.91 Z\" fill=\"#000000\" fill-rule=\"evenodd\" fill-opacity=\"1\" /><path clip-path=\"url(#clip310)\" d=\"M218.58 1517.37 Q214.969 1517.37 213.14 1520.93 Q211.335 1524.47 211.335 1531.6 Q211.335 1538.71 213.14 1542.27 Q214.969 1545.82 218.58 1545.82 Q222.214 1545.82 224.02 1542.27 Q225.849 1538.71 225.849 1531.6 Q225.849 1524.47 224.02 1520.93 Q222.214 1517.37 218.58 1517.37 M218.58 1513.66 Q224.39 1513.66 227.446 1518.27 Q230.524 1522.85 230.524 1531.6 Q230.524 1540.33 227.446 1544.94 Q224.39 1549.52 218.58 1549.52 Q212.77 1549.52 209.691 1544.94 Q206.636 1540.33 206.636 1531.6 Q206.636 1522.85 209.691 1518.27 Q212.77 1513.66 218.58 1513.66 Z\" fill=\"#000000\" fill-rule=\"evenodd\" fill-opacity=\"1\" /><path clip-path=\"url(#clip310)\" d=\"M248.742 1517.37 Q245.131 1517.37 243.302 1520.93 Q241.497 1524.47 241.497 1531.6 Q241.497 1538.71 243.302 1542.27 Q245.131 1545.82 248.742 1545.82 Q252.376 1545.82 254.182 1542.27 Q256.01 1538.71 256.01 1531.6 Q256.01 1524.47 254.182 1520.93 Q252.376 1517.37 248.742 1517.37 M248.742 1513.66 Q254.552 1513.66 257.608 1518.27 Q260.686 1522.85 260.686 1531.6 Q260.686 1540.33 257.608 1544.94 Q254.552 1549.52 248.742 1549.52 Q242.932 1549.52 239.853 1544.94 Q236.798 1540.33 236.798 1531.6 Q236.798 1522.85 239.853 1518.27 Q242.932 1513.66 248.742 1513.66 Z\" fill=\"#000000\" fill-rule=\"evenodd\" fill-opacity=\"1\" /><path clip-path=\"url(#clip310)\" d=\"M537.823 1530.21 Q541.18 1530.93 543.055 1533.2 Q544.953 1535.47 544.953 1538.8 Q544.953 1543.92 541.434 1546.72 Q537.916 1549.52 531.434 1549.52 Q529.258 1549.52 526.944 1549.08 Q524.652 1548.66 522.198 1547.81 L522.198 1543.29 Q524.143 1544.43 526.457 1545.01 Q528.772 1545.58 531.295 1545.58 Q535.694 1545.58 537.985 1543.85 Q540.3 1542.11 540.3 1538.8 Q540.3 1535.75 538.147 1534.03 Q536.018 1532.3 532.198 1532.3 L528.17 1532.3 L528.17 1528.45 L532.383 1528.45 Q535.832 1528.45 537.661 1527.09 Q539.49 1525.7 539.49 1523.11 Q539.49 1520.45 537.592 1519.03 Q535.717 1517.6 532.198 1517.6 Q530.277 1517.6 528.078 1518.01 Q525.879 1518.43 523.24 1519.31 L523.24 1515.14 Q525.902 1514.4 528.217 1514.03 Q530.555 1513.66 532.615 1513.66 Q537.939 1513.66 541.041 1516.09 Q544.143 1518.5 544.143 1522.62 Q544.143 1525.49 542.499 1527.48 Q540.856 1529.45 537.823 1530.21 Z\" fill=\"#000000\" fill-rule=\"evenodd\" fill-opacity=\"1\" /><path clip-path=\"url(#clip310)\" d=\"M563.818 1517.37 Q560.207 1517.37 558.379 1520.93 Q556.573 1524.47 556.573 1531.6 Q556.573 1538.71 558.379 1542.27 Q560.207 1545.82 563.818 1545.82 Q567.453 1545.82 569.258 1542.27 Q571.087 1538.71 571.087 1531.6 Q571.087 1524.47 569.258 1520.93 Q567.453 1517.37 563.818 1517.37 M563.818 1513.66 Q569.629 1513.66 572.684 1518.27 Q575.763 1522.85 575.763 1531.6 Q575.763 1540.33 572.684 1544.94 Q569.629 1549.52 563.818 1549.52 Q558.008 1549.52 554.93 1544.94 Q551.874 1540.33 551.874 1531.6 Q551.874 1522.85 554.93 1518.27 Q558.008 1513.66 563.818 1513.66 Z\" fill=\"#000000\" fill-rule=\"evenodd\" fill-opacity=\"1\" /><path clip-path=\"url(#clip310)\" d=\"M593.98 1517.37 Q590.369 1517.37 588.54 1520.93 Q586.735 1524.47 586.735 1531.6 Q586.735 1538.71 588.54 1542.27 Q590.369 1545.82 593.98 1545.82 Q597.615 1545.82 599.42 1542.27 Q601.249 1538.71 601.249 1531.6 Q601.249 1524.47 599.42 1520.93 Q597.615 1517.37 593.98 1517.37 M593.98 1513.66 Q599.79 1513.66 602.846 1518.27 Q605.925 1522.85 605.925 1531.6 Q605.925 1540.33 602.846 1544.94 Q599.79 1549.52 593.98 1549.52 Q588.17 1549.52 585.091 1544.94 Q582.036 1540.33 582.036 1531.6 Q582.036 1522.85 585.091 1518.27 Q588.17 1513.66 593.98 1513.66 Z\" fill=\"#000000\" fill-rule=\"evenodd\" fill-opacity=\"1\" /><path clip-path=\"url(#clip310)\" d=\"M882.46 1518.36 L870.654 1536.81 L882.46 1536.81 L882.46 1518.36 M881.233 1514.29 L887.112 1514.29 L887.112 1536.81 L892.043 1536.81 L892.043 1540.7 L887.112 1540.7 L887.112 1548.85 L882.46 1548.85 L882.46 1540.7 L866.858 1540.7 L866.858 1536.19 L881.233 1514.29 Z\" fill=\"#000000\" fill-rule=\"evenodd\" fill-opacity=\"1\" /><path clip-path=\"url(#clip310)\" d=\"M909.774 1517.37 Q906.163 1517.37 904.335 1520.93 Q902.529 1524.47 902.529 1531.6 Q902.529 1538.71 904.335 1542.27 Q906.163 1545.82 909.774 1545.82 Q913.409 1545.82 915.214 1542.27 Q917.043 1538.71 917.043 1531.6 Q917.043 1524.47 915.214 1520.93 Q913.409 1517.37 909.774 1517.37 M909.774 1513.66 Q915.585 1513.66 918.64 1518.27 Q921.719 1522.85 921.719 1531.6 Q921.719 1540.33 918.64 1544.94 Q915.585 1549.52 909.774 1549.52 Q903.964 1549.52 900.886 1544.94 Q897.83 1540.33 897.83 1531.6 Q897.83 1522.85 900.886 1518.27 Q903.964 1513.66 909.774 1513.66 Z\" fill=\"#000000\" fill-rule=\"evenodd\" fill-opacity=\"1\" /><path clip-path=\"url(#clip310)\" d=\"M939.936 1517.37 Q936.325 1517.37 934.496 1520.93 Q932.691 1524.47 932.691 1531.6 Q932.691 1538.71 934.496 1542.27 Q936.325 1545.82 939.936 1545.82 Q943.57 1545.82 945.376 1542.27 Q947.205 1538.71 947.205 1531.6 Q947.205 1524.47 945.376 1520.93 Q943.57 1517.37 939.936 1517.37 M939.936 1513.66 Q945.746 1513.66 948.802 1518.27 Q951.881 1522.85 951.881 1531.6 Q951.881 1540.33 948.802 1544.94 Q945.746 1549.52 939.936 1549.52 Q934.126 1549.52 931.047 1544.94 Q927.992 1540.33 927.992 1531.6 Q927.992 1522.85 931.047 1518.27 Q934.126 1513.66 939.936 1513.66 Z\" fill=\"#000000\" fill-rule=\"evenodd\" fill-opacity=\"1\" /><path clip-path=\"url(#clip310)\" d=\"M1214.3 1514.29 L1232.65 1514.29 L1232.65 1518.22 L1218.58 1518.22 L1218.58 1526.7 Q1219.6 1526.35 1220.61 1526.19 Q1221.63 1526 1222.65 1526 Q1228.44 1526 1231.82 1529.17 Q1235.2 1532.34 1235.2 1537.76 Q1235.2 1543.34 1231.73 1546.44 Q1228.25 1549.52 1221.93 1549.52 Q1219.76 1549.52 1217.49 1549.15 Q1215.24 1548.78 1212.84 1548.04 L1212.84 1543.34 Q1214.92 1544.47 1217.14 1545.03 Q1219.36 1545.58 1221.84 1545.58 Q1225.85 1545.58 1228.18 1543.48 Q1230.52 1541.37 1230.52 1537.76 Q1230.52 1534.15 1228.18 1532.04 Q1225.85 1529.94 1221.84 1529.94 Q1219.97 1529.94 1218.09 1530.35 Q1216.24 1530.77 1214.3 1531.65 L1214.3 1514.29 Z\" fill=\"#000000\" fill-rule=\"evenodd\" fill-opacity=\"1\" /><path clip-path=\"url(#clip310)\" d=\"M1254.41 1517.37 Q1250.8 1517.37 1248.97 1520.93 Q1247.17 1524.47 1247.17 1531.6 Q1247.17 1538.71 1248.97 1542.27 Q1250.8 1545.82 1254.41 1545.82 Q1258.05 1545.82 1259.85 1542.27 Q1261.68 1538.71 1261.68 1531.6 Q1261.68 1524.47 1259.85 1520.93 Q1258.05 1517.37 1254.41 1517.37 M1254.41 1513.66 Q1260.22 1513.66 1263.28 1518.27 Q1266.36 1522.85 1266.36 1531.6 Q1266.36 1540.33 1263.28 1544.94 Q1260.22 1549.52 1254.41 1549.52 Q1248.6 1549.52 1245.52 1544.94 Q1242.47 1540.33 1242.47 1531.6 Q1242.47 1522.85 1245.52 1518.27 Q1248.6 1513.66 1254.41 1513.66 Z\" fill=\"#000000\" fill-rule=\"evenodd\" fill-opacity=\"1\" /><path clip-path=\"url(#clip310)\" d=\"M1284.57 1517.37 Q1280.96 1517.37 1279.13 1520.93 Q1277.33 1524.47 1277.33 1531.6 Q1277.33 1538.71 1279.13 1542.27 Q1280.96 1545.82 1284.57 1545.82 Q1288.21 1545.82 1290.01 1542.27 Q1291.84 1538.71 1291.84 1531.6 Q1291.84 1524.47 1290.01 1520.93 Q1288.21 1517.37 1284.57 1517.37 M1284.57 1513.66 Q1290.38 1513.66 1293.44 1518.27 Q1296.52 1522.85 1296.52 1531.6 Q1296.52 1540.33 1293.44 1544.94 Q1290.38 1549.52 1284.57 1549.52 Q1278.76 1549.52 1275.68 1544.94 Q1272.63 1540.33 1272.63 1531.6 Q1272.63 1522.85 1275.68 1518.27 Q1278.76 1513.66 1284.57 1513.66 Z\" fill=\"#000000\" fill-rule=\"evenodd\" fill-opacity=\"1\" /><path clip-path=\"url(#clip310)\" d=\"M1570.31 1529.7 Q1567.16 1529.7 1565.31 1531.86 Q1563.48 1534.01 1563.48 1537.76 Q1563.48 1541.49 1565.31 1543.66 Q1567.16 1545.82 1570.31 1545.82 Q1573.46 1545.82 1575.29 1543.66 Q1577.14 1541.49 1577.14 1537.76 Q1577.14 1534.01 1575.29 1531.86 Q1573.46 1529.7 1570.31 1529.7 M1579.59 1515.05 L1579.59 1519.31 Q1577.83 1518.48 1576.03 1518.04 Q1574.24 1517.6 1572.49 1517.6 Q1567.86 1517.6 1565.4 1520.72 Q1562.97 1523.85 1562.62 1530.17 Q1563.99 1528.15 1566.05 1527.09 Q1568.11 1526 1570.59 1526 Q1575.8 1526 1578.8 1529.17 Q1581.84 1532.32 1581.84 1537.76 Q1581.84 1543.08 1578.69 1546.3 Q1575.54 1549.52 1570.31 1549.52 Q1564.31 1549.52 1561.14 1544.94 Q1557.97 1540.33 1557.97 1531.6 Q1557.97 1523.41 1561.86 1518.55 Q1565.75 1513.66 1572.3 1513.66 Q1574.06 1513.66 1575.84 1514.01 Q1577.65 1514.36 1579.59 1515.05 Z\" fill=\"#000000\" fill-rule=\"evenodd\" fill-opacity=\"1\" /><path clip-path=\"url(#clip310)\" d=\"M1599.89 1517.37 Q1596.28 1517.37 1594.45 1520.93 Q1592.65 1524.47 1592.65 1531.6 Q1592.65 1538.71 1594.45 1542.27 Q1596.28 1545.82 1599.89 1545.82 Q1603.53 1545.82 1605.33 1542.27 Q1607.16 1538.71 1607.16 1531.6 Q1607.16 1524.47 1605.33 1520.93 Q1603.53 1517.37 1599.89 1517.37 M1599.89 1513.66 Q1605.7 1513.66 1608.76 1518.27 Q1611.84 1522.85 1611.84 1531.6 Q1611.84 1540.33 1608.76 1544.94 Q1605.7 1549.52 1599.89 1549.52 Q1594.08 1549.52 1591 1544.94 Q1587.95 1540.33 1587.95 1531.6 Q1587.95 1522.85 1591 1518.27 Q1594.08 1513.66 1599.89 1513.66 Z\" fill=\"#000000\" fill-rule=\"evenodd\" fill-opacity=\"1\" /><path clip-path=\"url(#clip310)\" d=\"M1630.05 1517.37 Q1626.44 1517.37 1624.61 1520.93 Q1622.81 1524.47 1622.81 1531.6 Q1622.81 1538.71 1624.61 1542.27 Q1626.44 1545.82 1630.05 1545.82 Q1633.69 1545.82 1635.49 1542.27 Q1637.32 1538.71 1637.32 1531.6 Q1637.32 1524.47 1635.49 1520.93 Q1633.69 1517.37 1630.05 1517.37 M1630.05 1513.66 Q1635.86 1513.66 1638.92 1518.27 Q1642 1522.85 1642 1531.6 Q1642 1540.33 1638.92 1544.94 Q1635.86 1549.52 1630.05 1549.52 Q1624.24 1549.52 1621.17 1544.94 Q1618.11 1540.33 1618.11 1531.6 Q1618.11 1522.85 1621.17 1518.27 Q1624.24 1513.66 1630.05 1513.66 Z\" fill=\"#000000\" fill-rule=\"evenodd\" fill-opacity=\"1\" /><path clip-path=\"url(#clip310)\" d=\"M1903.57 1514.29 L1925.79 1514.29 L1925.79 1516.28 L1913.24 1548.85 L1908.36 1548.85 L1920.17 1518.22 L1903.57 1518.22 L1903.57 1514.29 Z\" fill=\"#000000\" fill-rule=\"evenodd\" fill-opacity=\"1\" /><path clip-path=\"url(#clip310)\" d=\"M1944.91 1517.37 Q1941.3 1517.37 1939.47 1520.93 Q1937.67 1524.47 1937.67 1531.6 Q1937.67 1538.71 1939.47 1542.27 Q1941.3 1545.82 1944.91 1545.82 Q1948.54 1545.82 1950.35 1542.27 Q1952.18 1538.71 1952.18 1531.6 Q1952.18 1524.47 1950.35 1520.93 Q1948.54 1517.37 1944.91 1517.37 M1944.91 1513.66 Q1950.72 1513.66 1953.78 1518.27 Q1956.86 1522.85 1956.86 1531.6 Q1956.86 1540.33 1953.78 1544.94 Q1950.72 1549.52 1944.91 1549.52 Q1939.1 1549.52 1936.02 1544.94 Q1932.97 1540.33 1932.97 1531.6 Q1932.97 1522.85 1936.02 1518.27 Q1939.1 1513.66 1944.91 1513.66 Z\" fill=\"#000000\" fill-rule=\"evenodd\" fill-opacity=\"1\" /><path clip-path=\"url(#clip310)\" d=\"M1975.07 1517.37 Q1971.46 1517.37 1969.63 1520.93 Q1967.83 1524.47 1967.83 1531.6 Q1967.83 1538.71 1969.63 1542.27 Q1971.46 1545.82 1975.07 1545.82 Q1978.71 1545.82 1980.51 1542.27 Q1982.34 1538.71 1982.34 1531.6 Q1982.34 1524.47 1980.51 1520.93 Q1978.71 1517.37 1975.07 1517.37 M1975.07 1513.66 Q1980.88 1513.66 1983.94 1518.27 Q1987.02 1522.85 1987.02 1531.6 Q1987.02 1540.33 1983.94 1544.94 Q1980.88 1549.52 1975.07 1549.52 Q1969.26 1549.52 1966.18 1544.94 Q1963.13 1540.33 1963.13 1531.6 Q1963.13 1522.85 1966.18 1518.27 Q1969.26 1513.66 1975.07 1513.66 Z\" fill=\"#000000\" fill-rule=\"evenodd\" fill-opacity=\"1\" /><path clip-path=\"url(#clip310)\" d=\"M2260.39 1532.44 Q2257.06 1532.44 2255.14 1534.22 Q2253.24 1536 2253.24 1539.13 Q2253.24 1542.25 2255.14 1544.03 Q2257.06 1545.82 2260.39 1545.82 Q2263.73 1545.82 2265.65 1544.03 Q2267.57 1542.23 2267.57 1539.13 Q2267.57 1536 2265.65 1534.22 Q2263.75 1532.44 2260.39 1532.44 M2255.72 1530.45 Q2252.71 1529.7 2251.02 1527.64 Q2249.35 1525.58 2249.35 1522.62 Q2249.35 1518.48 2252.29 1516.07 Q2255.25 1513.66 2260.39 1513.66 Q2265.55 1513.66 2268.49 1516.07 Q2271.43 1518.48 2271.43 1522.62 Q2271.43 1525.58 2269.74 1527.64 Q2268.08 1529.7 2265.09 1530.45 Q2268.47 1531.23 2270.35 1533.52 Q2272.24 1535.82 2272.24 1539.13 Q2272.24 1544.15 2269.17 1546.83 Q2266.11 1549.52 2260.39 1549.52 Q2254.67 1549.52 2251.6 1546.83 Q2248.54 1544.15 2248.54 1539.13 Q2248.54 1535.82 2250.44 1533.52 Q2252.34 1531.23 2255.72 1530.45 M2254 1523.06 Q2254 1525.75 2255.67 1527.25 Q2257.36 1528.76 2260.39 1528.76 Q2263.4 1528.76 2265.09 1527.25 Q2266.8 1525.75 2266.8 1523.06 Q2266.8 1520.38 2265.09 1518.87 Q2263.4 1517.37 2260.39 1517.37 Q2257.36 1517.37 2255.67 1518.87 Q2254 1520.38 2254 1523.06 Z\" fill=\"#000000\" fill-rule=\"evenodd\" fill-opacity=\"1\" /><path clip-path=\"url(#clip310)\" d=\"M2290.55 1517.37 Q2286.94 1517.37 2285.11 1520.93 Q2283.31 1524.47 2283.31 1531.6 Q2283.31 1538.71 2285.11 1542.27 Q2286.94 1545.82 2290.55 1545.82 Q2294.19 1545.82 2295.99 1542.27 Q2297.82 1538.71 2297.82 1531.6 Q2297.82 1524.47 2295.99 1520.93 Q2294.19 1517.37 2290.55 1517.37 M2290.55 1513.66 Q2296.36 1513.66 2299.42 1518.27 Q2302.5 1522.85 2302.5 1531.6 Q2302.5 1540.33 2299.42 1544.94 Q2296.36 1549.52 2290.55 1549.52 Q2284.74 1549.52 2281.67 1544.94 Q2278.61 1540.33 2278.61 1531.6 Q2278.61 1522.85 2281.67 1518.27 Q2284.74 1513.66 2290.55 1513.66 Z\" fill=\"#000000\" fill-rule=\"evenodd\" fill-opacity=\"1\" /><path clip-path=\"url(#clip310)\" d=\"M2320.72 1517.37 Q2317.1 1517.37 2315.28 1520.93 Q2313.47 1524.47 2313.47 1531.6 Q2313.47 1538.71 2315.28 1542.27 Q2317.1 1545.82 2320.72 1545.82 Q2324.35 1545.82 2326.16 1542.27 Q2327.98 1538.71 2327.98 1531.6 Q2327.98 1524.47 2326.16 1520.93 Q2324.35 1517.37 2320.72 1517.37 M2320.72 1513.66 Q2326.53 1513.66 2329.58 1518.27 Q2332.66 1522.85 2332.66 1531.6 Q2332.66 1540.33 2329.58 1544.94 Q2326.53 1549.52 2320.72 1549.52 Q2314.91 1549.52 2311.83 1544.94 Q2308.77 1540.33 2308.77 1531.6 Q2308.77 1522.85 2311.83 1518.27 Q2314.91 1513.66 2320.72 1513.66 Z\" fill=\"#000000\" fill-rule=\"evenodd\" fill-opacity=\"1\" /><polyline clip-path=\"url(#clip312)\" style=\"stroke:#000000; stroke-linecap:butt; stroke-linejoin:round; stroke-width:2; stroke-opacity:0.1; fill:none\" points=\"\n",
       "  156.598,1201.62 2352.76,1201.62 \n",
       "  \"/>\n",
       "<polyline clip-path=\"url(#clip312)\" style=\"stroke:#000000; stroke-linecap:butt; stroke-linejoin:round; stroke-width:2; stroke-opacity:0.1; fill:none\" points=\"\n",
       "  156.598,894.575 2352.76,894.575 \n",
       "  \"/>\n",
       "<polyline clip-path=\"url(#clip312)\" style=\"stroke:#000000; stroke-linecap:butt; stroke-linejoin:round; stroke-width:2; stroke-opacity:0.1; fill:none\" points=\"\n",
       "  156.598,587.533 2352.76,587.533 \n",
       "  \"/>\n",
       "<polyline clip-path=\"url(#clip312)\" style=\"stroke:#000000; stroke-linecap:butt; stroke-linejoin:round; stroke-width:2; stroke-opacity:0.1; fill:none\" points=\"\n",
       "  156.598,280.492 2352.76,280.492 \n",
       "  \"/>\n",
       "<polyline clip-path=\"url(#clip310)\" style=\"stroke:#000000; stroke-linecap:butt; stroke-linejoin:round; stroke-width:4; stroke-opacity:1; fill:none\" points=\"\n",
       "  156.598,1486.45 156.598,47.2441 \n",
       "  \"/>\n",
       "<polyline clip-path=\"url(#clip310)\" style=\"stroke:#000000; stroke-linecap:butt; stroke-linejoin:round; stroke-width:4; stroke-opacity:1; fill:none\" points=\"\n",
       "  156.598,1201.62 175.496,1201.62 \n",
       "  \"/>\n",
       "<polyline clip-path=\"url(#clip310)\" style=\"stroke:#000000; stroke-linecap:butt; stroke-linejoin:round; stroke-width:4; stroke-opacity:1; fill:none\" points=\"\n",
       "  156.598,894.575 175.496,894.575 \n",
       "  \"/>\n",
       "<polyline clip-path=\"url(#clip310)\" style=\"stroke:#000000; stroke-linecap:butt; stroke-linejoin:round; stroke-width:4; stroke-opacity:1; fill:none\" points=\"\n",
       "  156.598,587.533 175.496,587.533 \n",
       "  \"/>\n",
       "<polyline clip-path=\"url(#clip310)\" style=\"stroke:#000000; stroke-linecap:butt; stroke-linejoin:round; stroke-width:4; stroke-opacity:1; fill:none\" points=\"\n",
       "  156.598,280.492 175.496,280.492 \n",
       "  \"/>\n",
       "<path clip-path=\"url(#clip310)\" d=\"M65.0198 1187.42 Q61.4087 1187.42 59.58 1190.98 Q57.7745 1194.52 57.7745 1201.65 Q57.7745 1208.76 59.58 1212.32 Q61.4087 1215.86 65.0198 1215.86 Q68.6541 1215.86 70.4596 1212.32 Q72.2883 1208.76 72.2883 1201.65 Q72.2883 1194.52 70.4596 1190.98 Q68.6541 1187.42 65.0198 1187.42 M65.0198 1183.71 Q70.83 1183.71 73.8855 1188.32 Q76.9642 1192.9 76.9642 1201.65 Q76.9642 1210.38 73.8855 1214.99 Q70.83 1219.57 65.0198 1219.57 Q59.2097 1219.57 56.131 1214.99 Q53.0754 1210.38 53.0754 1201.65 Q53.0754 1192.9 56.131 1188.32 Q59.2097 1183.71 65.0198 1183.71 Z\" fill=\"#000000\" fill-rule=\"evenodd\" fill-opacity=\"1\" /><path clip-path=\"url(#clip310)\" d=\"M85.1818 1213.02 L90.066 1213.02 L90.066 1218.9 L85.1818 1218.9 L85.1818 1213.02 Z\" fill=\"#000000\" fill-rule=\"evenodd\" fill-opacity=\"1\" /><path clip-path=\"url(#clip310)\" d=\"M104.279 1214.96 L120.598 1214.96 L120.598 1218.9 L98.6539 1218.9 L98.6539 1214.96 Q101.316 1212.21 105.899 1207.58 Q110.506 1202.93 111.686 1201.58 Q113.932 1199.06 114.811 1197.32 Q115.714 1195.56 115.714 1193.87 Q115.714 1191.12 113.77 1189.38 Q111.848 1187.65 108.746 1187.65 Q106.547 1187.65 104.094 1188.41 Q101.663 1189.18 98.8854 1190.73 L98.8854 1186 Q101.709 1184.87 104.163 1184.29 Q106.617 1183.71 108.654 1183.71 Q114.024 1183.71 117.219 1186.4 Q120.413 1189.08 120.413 1193.57 Q120.413 1195.7 119.603 1197.62 Q118.816 1199.52 116.709 1202.12 Q116.131 1202.79 113.029 1206 Q109.927 1209.2 104.279 1214.96 Z\" fill=\"#000000\" fill-rule=\"evenodd\" fill-opacity=\"1\" /><path clip-path=\"url(#clip310)\" d=\"M62.9365 880.374 Q59.3254 880.374 57.4967 883.939 Q55.6912 887.481 55.6912 894.61 Q55.6912 901.717 57.4967 905.281 Q59.3254 908.823 62.9365 908.823 Q66.5707 908.823 68.3763 905.281 Q70.205 901.717 70.205 894.61 Q70.205 887.481 68.3763 883.939 Q66.5707 880.374 62.9365 880.374 M62.9365 876.67 Q68.7467 876.67 71.8022 881.277 Q74.8809 885.86 74.8809 894.61 Q74.8809 903.337 71.8022 907.943 Q68.7467 912.527 62.9365 912.527 Q57.1264 912.527 54.0477 907.943 Q50.9921 903.337 50.9921 894.61 Q50.9921 885.86 54.0477 881.277 Q57.1264 876.67 62.9365 876.67 Z\" fill=\"#000000\" fill-rule=\"evenodd\" fill-opacity=\"1\" /><path clip-path=\"url(#clip310)\" d=\"M83.0984 905.976 L87.9827 905.976 L87.9827 911.855 L83.0984 911.855 L83.0984 905.976 Z\" fill=\"#000000\" fill-rule=\"evenodd\" fill-opacity=\"1\" /><path clip-path=\"url(#clip310)\" d=\"M111.015 881.369 L99.2095 899.818 L111.015 899.818 L111.015 881.369 M109.788 877.295 L115.668 877.295 L115.668 899.818 L120.598 899.818 L120.598 903.707 L115.668 903.707 L115.668 911.855 L111.015 911.855 L111.015 903.707 L95.4132 903.707 L95.4132 899.193 L109.788 877.295 Z\" fill=\"#000000\" fill-rule=\"evenodd\" fill-opacity=\"1\" /><path clip-path=\"url(#clip310)\" d=\"M63.2606 573.332 Q59.6495 573.332 57.8208 576.897 Q56.0152 580.439 56.0152 587.568 Q56.0152 594.675 57.8208 598.239 Q59.6495 601.781 63.2606 601.781 Q66.8948 601.781 68.7004 598.239 Q70.5291 594.675 70.5291 587.568 Q70.5291 580.439 68.7004 576.897 Q66.8948 573.332 63.2606 573.332 M63.2606 569.629 Q69.0707 569.629 72.1263 574.235 Q75.205 578.818 75.205 587.568 Q75.205 596.295 72.1263 600.901 Q69.0707 605.485 63.2606 605.485 Q57.4504 605.485 54.3717 600.901 Q51.3162 596.295 51.3162 587.568 Q51.3162 578.818 54.3717 574.235 Q57.4504 569.629 63.2606 569.629 Z\" fill=\"#000000\" fill-rule=\"evenodd\" fill-opacity=\"1\" /><path clip-path=\"url(#clip310)\" d=\"M83.4225 598.934 L88.3067 598.934 L88.3067 604.813 L83.4225 604.813 L83.4225 598.934 Z\" fill=\"#000000\" fill-rule=\"evenodd\" fill-opacity=\"1\" /><path clip-path=\"url(#clip310)\" d=\"M109.071 585.67 Q105.922 585.67 104.071 587.823 Q102.242 589.976 102.242 593.726 Q102.242 597.452 104.071 599.628 Q105.922 601.781 109.071 601.781 Q112.219 601.781 114.047 599.628 Q115.899 597.452 115.899 593.726 Q115.899 589.976 114.047 587.823 Q112.219 585.67 109.071 585.67 M118.353 571.017 L118.353 575.277 Q116.594 574.443 114.788 574.003 Q113.006 573.564 111.246 573.564 Q106.617 573.564 104.163 576.689 Q101.733 579.814 101.385 586.133 Q102.751 584.119 104.811 583.054 Q106.871 581.966 109.348 581.966 Q114.557 581.966 117.566 585.138 Q120.598 588.286 120.598 593.726 Q120.598 599.05 117.45 602.267 Q114.302 605.485 109.071 605.485 Q103.075 605.485 99.9039 600.901 Q96.7326 596.295 96.7326 587.568 Q96.7326 579.374 100.621 574.513 Q104.51 569.629 111.061 569.629 Q112.82 569.629 114.603 569.976 Q116.408 570.323 118.353 571.017 Z\" fill=\"#000000\" fill-rule=\"evenodd\" fill-opacity=\"1\" /><path clip-path=\"url(#clip310)\" d=\"M63.5152 266.29 Q59.9041 266.29 58.0754 269.855 Q56.2699 273.397 56.2699 280.526 Q56.2699 287.633 58.0754 291.198 Q59.9041 294.739 63.5152 294.739 Q67.1494 294.739 68.955 291.198 Q70.7837 287.633 70.7837 280.526 Q70.7837 273.397 68.955 269.855 Q67.1494 266.29 63.5152 266.29 M63.5152 262.587 Q69.3254 262.587 72.3809 267.193 Q75.4596 271.776 75.4596 280.526 Q75.4596 289.253 72.3809 293.86 Q69.3254 298.443 63.5152 298.443 Q57.7051 298.443 54.6264 293.86 Q51.5708 289.253 51.5708 280.526 Q51.5708 271.776 54.6264 267.193 Q57.7051 262.587 63.5152 262.587 Z\" fill=\"#000000\" fill-rule=\"evenodd\" fill-opacity=\"1\" /><path clip-path=\"url(#clip310)\" d=\"M83.6771 291.892 L88.5614 291.892 L88.5614 297.772 L83.6771 297.772 L83.6771 291.892 Z\" fill=\"#000000\" fill-rule=\"evenodd\" fill-opacity=\"1\" /><path clip-path=\"url(#clip310)\" d=\"M108.746 281.36 Q105.413 281.36 103.492 283.142 Q101.594 284.924 101.594 288.049 Q101.594 291.174 103.492 292.957 Q105.413 294.739 108.746 294.739 Q112.08 294.739 114.001 292.957 Q115.922 291.151 115.922 288.049 Q115.922 284.924 114.001 283.142 Q112.103 281.36 108.746 281.36 M104.071 279.369 Q101.061 278.628 99.3715 276.568 Q97.7048 274.508 97.7048 271.545 Q97.7048 267.401 100.645 264.994 Q103.608 262.587 108.746 262.587 Q113.908 262.587 116.848 264.994 Q119.788 267.401 119.788 271.545 Q119.788 274.508 118.098 276.568 Q116.432 278.628 113.445 279.369 Q116.825 280.156 118.7 282.448 Q120.598 284.739 120.598 288.049 Q120.598 293.073 117.52 295.758 Q114.464 298.443 108.746 298.443 Q103.029 298.443 99.9502 295.758 Q96.8947 293.073 96.8947 288.049 Q96.8947 284.739 98.7928 282.448 Q100.691 280.156 104.071 279.369 M102.358 271.985 Q102.358 274.67 104.024 276.174 Q105.714 277.679 108.746 277.679 Q111.756 277.679 113.445 276.174 Q115.158 274.67 115.158 271.985 Q115.158 269.299 113.445 267.795 Q111.756 266.29 108.746 266.29 Q105.714 266.29 104.024 267.795 Q102.358 269.299 102.358 271.985 Z\" fill=\"#000000\" fill-rule=\"evenodd\" fill-opacity=\"1\" /><polyline clip-path=\"url(#clip312)\" style=\"stroke:#009af9; stroke-linecap:butt; stroke-linejoin:round; stroke-width:4; stroke-opacity:1; fill:none\" points=\"\n",
       "  218.754,1445.72 287.815,1382.93 356.877,1265.48 425.938,1052.24 495,711.425 564.061,307.972 633.123,117.913 702.185,90.2791 771.246,94.2706 840.308,87.9763 \n",
       "  909.369,133.726 978.431,172.106 1047.49,207.262 1116.55,241.804 1185.62,275.272 1254.68,323.477 1323.74,385.039 1392.8,441.996 1461.86,498.491 1530.92,533.494 \n",
       "  1599.98,582.621 1669.05,648.942 1738.11,710.35 1807.17,817.815 1876.23,894.575 1945.29,940.939 2014.35,986.995 2083.42,1017.39 2152.48,1032.74 2221.54,1032.74 \n",
       "  2290.6,1048.1 \n",
       "  \"/>\n",
       "<path clip-path=\"url(#clip310)\" d=\"\n",
       "M1987.12 198.898 L2279.55 198.898 L2279.55 95.2176 L1987.12 95.2176  Z\n",
       "  \" fill=\"#ffffff\" fill-rule=\"evenodd\" fill-opacity=\"1\"/>\n",
       "<polyline clip-path=\"url(#clip310)\" style=\"stroke:#000000; stroke-linecap:butt; stroke-linejoin:round; stroke-width:4; stroke-opacity:1; fill:none\" points=\"\n",
       "  1987.12,198.898 2279.55,198.898 2279.55,95.2176 1987.12,95.2176 1987.12,198.898 \n",
       "  \"/>\n",
       "<polyline clip-path=\"url(#clip310)\" style=\"stroke:#009af9; stroke-linecap:butt; stroke-linejoin:round; stroke-width:4; stroke-opacity:1; fill:none\" points=\"\n",
       "  2011.12,147.058 2155.12,147.058 \n",
       "  \"/>\n",
       "<path clip-path=\"url(#clip310)\" d=\"M2192.96 166.745 Q2191.16 171.375 2189.44 172.787 Q2187.73 174.199 2184.86 174.199 L2181.46 174.199 L2181.46 170.634 L2183.96 170.634 Q2185.72 170.634 2186.69 169.8 Q2187.66 168.967 2188.84 165.865 L2189.61 163.921 L2179.12 138.412 L2183.63 138.412 L2191.74 158.689 L2199.84 138.412 L2204.35 138.412 L2192.96 166.745 Z\" fill=\"#000000\" fill-rule=\"evenodd\" fill-opacity=\"1\" /><path clip-path=\"url(#clip310)\" d=\"M2211.64 160.402 L2219.28 160.402 L2219.28 134.037 L2210.97 135.703 L2210.97 131.444 L2219.24 129.778 L2223.91 129.778 L2223.91 160.402 L2231.55 160.402 L2231.55 164.338 L2211.64 164.338 L2211.64 160.402 Z\" fill=\"#000000\" fill-rule=\"evenodd\" fill-opacity=\"1\" /></svg>\n"
      ]
     },
     "metadata": {},
     "output_type": "display_data"
    }
   ],
   "source": [
    "wl=200.0:20:800.0\n",
    "plot(wl, LaserLab.lmu_40x_nuv_transmission.(wl*nm))"
   ]
  },
  {
   "cell_type": "markdown",
   "id": "c8d00191",
   "metadata": {},
   "source": [
    "\tstruct PulsedLaser\n",
    "\n",
    "Simple representation of a pulsed laser\n",
    "\n",
    "#### Fields\n",
    "- `λ::Unitful.Length`  : Laser wavelength\n",
    "- `Pk::Unitful.Power`  : peak Power\n",
    "- `P::Unitful.Power`  : average power\n",
    "- `f::Unitful.Frequency`  : laser frequency\n",
    "- `w::Unitful.Time` : pulse width "
   ]
  },
  {
   "cell_type": "code",
   "execution_count": 26,
   "id": "b5c2e523",
   "metadata": {},
   "outputs": [
    {
     "data": {
      "text/plain": [
       "Main.LaserLab.PulsedLaser(375.0 nm, 140.0 mW, 1.0 MHz, 0.0091 mW, 65.0 ps)"
      ]
     },
     "metadata": {},
     "output_type": "display_data"
    }
   ],
   "source": [
    "epl375 = LaserLab.PulsedLaser(375.0nm, 140.0mW, 1.0MHz, 65.0ps)"
   ]
  },
  {
   "cell_type": "code",
   "execution_count": 30,
   "id": "c8fb16e7",
   "metadata": {},
   "outputs": [
    {
     "data": {
      "text/plain": [
       "Main.LaserLab.Objective(\"LMU-40X-NUV\", 0.48113207547169806, 40.0, 5.3 mm, 5.1 mm)"
      ]
     },
     "metadata": {},
     "output_type": "display_data"
    }
   ],
   "source": [
    "lmu_40x_nuv = LaserLab.Objective(\"LMU-40X-NUV\", 5.3mm, 5.1mm, 40.0)"
   ]
  },
  {
   "cell_type": "code",
   "execution_count": 44,
   "id": "f5079c99",
   "metadata": {},
   "outputs": [
    {
     "data": {
      "text/plain": [
       "\u001b[32m\u001b[1mTest Passed\u001b[22m\u001b[39m"
      ]
     },
     "metadata": {},
     "output_type": "display_data"
    }
   ],
   "source": [
    "@test lmu_40x_nuv.NA  ≈ lmu_40x_nuv.d / (2.0*lmu_40x_nuv.f)"
   ]
  },
  {
   "cell_type": "code",
   "execution_count": 45,
   "id": "9874bea4",
   "metadata": {},
   "outputs": [
    {
     "data": {
      "text/plain": [
       "\u001b[32m\u001b[1mTest Passed\u001b[22m\u001b[39m"
      ]
     },
     "metadata": {},
     "output_type": "display_data"
    }
   ],
   "source": [
    "@test epl375.P == epl375.Pk * epl375.w * epl375.f"
   ]
  },
  {
   "cell_type": "markdown",
   "id": "312358a1",
   "metadata": {},
   "source": [
    "### Gaussian Laser"
   ]
  },
  {
   "cell_type": "markdown",
   "id": "bc1a9a35",
   "metadata": {},
   "source": [
    "    w0_large_zr(laser::Laser, obj::Objective)\n",
    "\n",
    "returns w0 in the limit of large zr. \n",
    "This applies to a (gaussian) laser filling the back lens of a microscope objective.  \n",
    " \n",
    "#### Fields\n",
    "\n",
    "- `laser::Laser` : A laser, filling the back lens of a microscope objective\n",
    "- `obj::Objective` : The microscope objective  "
   ]
  },
  {
   "cell_type": "code",
   "execution_count": 46,
   "id": "ad336fcf",
   "metadata": {},
   "outputs": [
    {
     "data": {
      "text/plain": [
       "248.09447011383688 nm"
      ]
     },
     "metadata": {},
     "output_type": "display_data"
    }
   ],
   "source": [
    "w0 = LaserLab.w0_large_zr(epl375, lmu_40x_nuv) "
   ]
  },
  {
   "cell_type": "code",
   "execution_count": 49,
   "id": "315c41c8",
   "metadata": {},
   "outputs": [
    {
     "data": {
      "text/plain": [
       "\u001b[32m\u001b[1mTest Passed\u001b[22m\u001b[39m"
      ]
     },
     "metadata": {},
     "output_type": "display_data"
    }
   ],
   "source": [
    "@test w0 ≈ epl375.λ/(π * lmu_40x_nuv.NA)\n",
    "\t\n"
   ]
  },
  {
   "cell_type": "markdown",
   "id": "9a1c067e",
   "metadata": {},
   "source": [
    "\n",
    "\tGaussianLaser\n",
    "\n",
    "Representation of a Gaussian laser defined by a laser and a waist  \n",
    "\n",
    "#### Fields\n",
    "- `laser::Laser`       : A Laser \n",
    "- `w0::Unitful.Length` : Waist of laser \n",
    "\n"
   ]
  },
  {
   "cell_type": "code",
   "execution_count": 50,
   "id": "b9d8dcc3",
   "metadata": {},
   "outputs": [
    {
     "data": {
      "text/plain": [
       "Main.LaserLab.GaussianLaser(Main.LaserLab.PulsedLaser(375.0 nm, 140.0 mW, 1.0 MHz, 0.0091 mW, 65.0 ps), 248.09447011383688 nm)"
      ]
     },
     "metadata": {},
     "output_type": "display_data"
    }
   ],
   "source": [
    "gepl375 = LaserLab.GaussianLaser(epl375, w0)"
   ]
  },
  {
   "cell_type": "code",
   "execution_count": 53,
   "id": "ebc9d631",
   "metadata": {},
   "outputs": [
    {
     "data": {
      "text/plain": [
       "\u001b[32m\u001b[1mTest Passed\u001b[22m\u001b[39m"
      ]
     },
     "metadata": {},
     "output_type": "display_data"
    }
   ],
   "source": [
    "@test gepl375.w0 ≈ w0\n",
    "@test gepl375.laser.P ≈ epl375.P"
   ]
  },
  {
   "cell_type": "code",
   "execution_count": 52,
   "id": "6dbfb3a9",
   "metadata": {},
   "outputs": [
    {
     "data": {
      "text/plain": [
       "\u001b[32m\u001b[1mTest Passed\u001b[22m\u001b[39m"
      ]
     },
     "metadata": {},
     "output_type": "display_data"
    }
   ],
   "source": []
  },
  {
   "cell_type": "markdown",
   "id": "81a31032",
   "metadata": {},
   "source": [
    "\n",
    "\tgzr(gl::GaussianLaser)\n",
    "\n",
    "returns zr =  π * w0^2/λ, \n",
    "\n",
    "this is the zr that corresponds to the beam waist w0.\n",
    "\n",
    "This applies only to a free Gaussian Laser, not to a Gaussian Laser focused on an \n",
    "objective (in this case zr is assumed to be very large) \n",
    "\n"
   ]
  },
  {
   "cell_type": "code",
   "execution_count": 56,
   "id": "28e5f6b6",
   "metadata": {},
   "outputs": [
    {
     "data": {
      "text/plain": [
       "\u001b[32m\u001b[1mTest Passed\u001b[22m\u001b[39m"
      ]
     },
     "metadata": {},
     "output_type": "display_data"
    }
   ],
   "source": [
    "    @test LaserLab.gzr(gepl375) ≈ π * gepl375.w0^2/gepl375.laser.λ"
   ]
  },
  {
   "cell_type": "code",
   "execution_count": 205,
   "id": "122d883b",
   "metadata": {},
   "outputs": [
    {
     "name": "stdout",
     "output_type": "stream",
     "text": [
      "λ = 375.0 nm P =   9.1 mW, w0 = 248.1 μm, I(0,0) = 9.4e+06 mW/cm2 ρ(0,0) = 8.9e+21 Hz/cm2"
     ]
    }
   ],
   "source": [
    "\n",
    "gzr(gl::GaussianLaser)  = π * gl.w0^2/gl.laser.λ"
   ]
  },
  {
   "cell_type": "code",
   "execution_count": 206,
   "id": "742f4ea1",
   "metadata": {},
   "outputs": [
    {
     "data": {
      "text/plain": [
       "\u001b[32m\u001b[1mTest Passed\u001b[22m\u001b[39m"
      ]
     },
     "execution_count": 206,
     "metadata": {},
     "output_type": "execute_result"
    }
   ],
   "source": [
    "@test gl.w0 ≈ luv.λ/(π * lmu_40x_nuv.NA)"
   ]
  },
  {
   "cell_type": "code",
   "execution_count": 207,
   "id": "09cee211",
   "metadata": {},
   "outputs": [
    {
     "data": {
      "text/plain": [
       "Main.LaserLab.GaussianLaser(Main.LaserLab.PulsedLaser(375.0 nm, 140.0 mW, 1.0 MHz, 0.0091 mW, 65.0 ps), Main.LaserLab.Objective(\"LMU-40X-NUV\", 0.48113207547169806, 40.0, 5.3 mm, 5.1 mm), 248.09447011383688 nm, 9.41211764434409e6 mW cm⁻², 8.884068256697559e21 Hz cm⁻²)"
      ]
     },
     "execution_count": 207,
     "metadata": {},
     "output_type": "execute_result"
    }
   ],
   "source": [
    "fov = LaserLab.Fov(1.0mm,1.0mm)\n",
    "luv = LaserLab.CLaser(375.0nm, 1.0μW)\n",
    "obj = LaserLab.Objective(\"Generic\", 0.5, 40.0)\n",
    "obj2 = LaserLab.Objective(\"Generic\", 5.0mm, 5.0mm, 40.0)\n",
    "    \n",
    "epl375 = LaserLab.PulsedLaser(375.0nm, 140.0mW, 1.0MHz, 65.0ps)\n",
    "lmu_40x_nuv = LaserLab.Objective(\"LMU-40X-NUV\", 5.3mm, 5.1mm, 40.0)\n",
    "gl  = LaserLab.GaussianLaser(epl375,lmu_40x_nuv)"
   ]
  },
  {
   "cell_type": "code",
   "execution_count": 187,
   "id": "289dc398",
   "metadata": {},
   "outputs": [
    {
     "data": {
      "text/plain": [
       "hnu_eV (generic function with 1 method)"
      ]
     },
     "execution_count": 187,
     "metadata": {},
     "output_type": "execute_result"
    }
   ],
   "source": [
    "function hnu_eV(lambda_nm)\n",
    "    return 1240.0 * (1.0/lambda_nm)\n",
    "end"
   ]
  },
  {
   "cell_type": "code",
   "execution_count": null,
   "id": "e3713e52",
   "metadata": {},
   "outputs": [],
   "source": []
  },
  {
   "cell_type": "code",
   "execution_count": 210,
   "id": "7ac38fbd",
   "metadata": {},
   "outputs": [
    {
     "data": {
      "text/plain": [
       "\u001b[32m\u001b[1mTest Passed\u001b[22m\u001b[39m"
      ]
     },
     "execution_count": 210,
     "metadata": {},
     "output_type": "execute_result"
    }
   ],
   "source": [
    "@test LaserLab.lmu_40x_nuv_transmission(0.500μm) ==LaserLab.lmu_40x_nuv_transmission(500nm)\n",
    "@test fov.a ≈ π * (fov.d/2.)^2 \n",
    "@test obj2.NA ≈ 0.5\n",
    "@test fov.v ≈ fov.a * fov.z\n",
    "@test gl.w0 ≈ luv.λ/(π * lmu_40x_nuv.NA)\n",
    "@test isapprox(LaserLab.photon_energy(500.0nm)/eV, hnu_eV(500.0), rtol=0.01)\n",
    "@test uconvert(J, LaserLab.delivered_energy(luv, 1*s)) ≈ 1.0μJ\n",
    "@test LaserLab.n_photons(luv) ≈ LaserLab.n_photons(375.0nm, 1.0μW)\n",
    "@test LaserLab.n_photons(luv) ≈ LaserLab.n_photons(375.0nm, 1.0μW)\n",
    "@test LaserLab.n_photons_int(luv, 1.0s) ≈ LaserLab.n_photons(luv)/Hz\n",
    "@test LaserLab.photon_density(375.0nm, 1.0μW, fov.a) ≈ LaserLab.photon_density(luv, fov)"
   ]
  },
  {
   "cell_type": "markdown",
   "id": "7d7d6567",
   "metadata": {},
   "source": [
    "\n",
    "\tphoton_energy(λ::Unitful.Length)\n",
    "\n",
    "Given wavelength of photon return its energy.\n",
    "#### Fields\n",
    "\n",
    "- `λ::Unitful.Length`  : Photon wavelength\n"
   ]
  },
  {
   "cell_type": "code",
   "execution_count": 25,
   "id": "ea146d06",
   "metadata": {},
   "outputs": [
    {
     "data": {
      "text/plain": [
       "2.4796839686640055 eV"
      ]
     },
     "metadata": {},
     "output_type": "display_data"
    }
   ],
   "source": [
    "LaserLab.photon_energy(500.0nm)"
   ]
  },
  {
   "cell_type": "code",
   "execution_count": 27,
   "id": "a557eab8",
   "metadata": {},
   "outputs": [
    {
     "data": {
      "text/plain": [
       "hnu_eV (generic function with 1 method)"
      ]
     },
     "metadata": {},
     "output_type": "display_data"
    }
   ],
   "source": [
    "function hnu_eV(lambda_nm)\n",
    "    return 1240.0 * (1.0/lambda_nm)\n",
    "end\n"
   ]
  },
  {
   "cell_type": "code",
   "execution_count": 39,
   "id": "fcbb999b",
   "metadata": {},
   "outputs": [
    {
     "data": {
      "text/plain": [
       "\u001b[32m\u001b[1mTest Passed\u001b[22m\u001b[39m"
      ]
     },
     "metadata": {},
     "output_type": "display_data"
    }
   ],
   "source": [
    "@test isapprox(LaserLab.photon_energy(500.0nm)/eV, hnu_eV(500.0), rtol=0.01)"
   ]
  },
  {
   "cell_type": "markdown",
   "id": "ceab17c6",
   "metadata": {},
   "source": [
    "\tdelivered_energy(laser::Laser, t::Unitful.Time)\n",
    "\n",
    "Delivered energy of a laser in a given time.\n",
    "#### Fields\n",
    "\n",
    "- `laser::Laser`     : Laser\n",
    "- `t::Unitful.Time`  : Time in which target is illuminated\n"
   ]
  },
  {
   "cell_type": "code",
   "execution_count": 43,
   "metadata": {},
   "outputs": [
    {
     "data": {
      "text/plain": [
       "true"
      ]
     },
     "metadata": {},
     "output_type": "display_data"
    }
   ],
   "source": [
    "uconvert(J, LaserLab.delivered_energy(luv, 1*s)) ≈ 1.0μJ"
   ]
  },
  {
   "cell_type": "markdown",
   "id": "9bef163e",
   "metadata": {},
   "source": [
    "\tn_photons(laser::Laser)\n",
    "\n",
    "Rate of photons (number of photons per unit time) produced by a laser\n",
    "#### Fields\n",
    "\n",
    "- `laser::Laser`     : Laser\n",
    "- `t::Unitful.Time`  : Time in which target is illuminated\n"
   ]
  },
  {
   "cell_type": "code",
   "execution_count": 45,
   "id": "698309c6",
   "metadata": {},
   "outputs": [
    {
     "data": {
      "text/plain": [
       "1.8877937128285164e12 Hz"
      ]
     },
     "metadata": {},
     "output_type": "display_data"
    }
   ],
   "source": [
    "LaserLab.n_photons(luv)"
   ]
  },
  {
   "cell_type": "markdown",
   "id": "c60055e8",
   "metadata": {},
   "source": [
    "    n_photons(λ::Unitful.Length, p::Unitful.Power)\n",
    "\n",
    "Rate of photons (number of photons per unit time) corresponding to a wavelength\n",
    "λ and a power P\n",
    "\n",
    "#### Fields\n",
    "\n",
    "- `λ::Unitful.Length` : photon wavelength\n",
    "- `p::Unitful.Power`  : Power"
   ]
  },
  {
   "cell_type": "code",
   "execution_count": 46,
   "id": "40c3dc28",
   "metadata": {},
   "outputs": [
    {
     "data": {
      "text/plain": [
       "true"
      ]
     },
     "metadata": {},
     "output_type": "display_data"
    }
   ],
   "source": [
    "LaserLab.n_photons(luv) ≈ LaserLab.n_photons(375.0nm, 1.0μW)"
   ]
  },
  {
   "cell_type": "markdown",
   "id": "73b67983",
   "metadata": {},
   "source": [
    "\tn_photons_int(laser::Laser, t::Unitful.Time)\n",
    "\n",
    "Integrated number of photons in a given time emitted by a laser\n",
    "\n",
    "#### Fields\n",
    "\n",
    "- `laser::Laser`    : Laser\n",
    "- `t::Unitful.Time` : time of measurement"
   ]
  },
  {
   "cell_type": "code",
   "execution_count": 48,
   "id": "033efea9",
   "metadata": {},
   "outputs": [
    {
     "data": {
      "text/plain": [
       "true"
      ]
     },
     "metadata": {},
     "output_type": "display_data"
    }
   ],
   "source": [
    "LaserLab.n_photons_int(luv, 1.0s) ≈ LaserLab.n_photons(luv)/Hz"
   ]
  },
  {
   "cell_type": "markdown",
   "id": "19b959b2",
   "metadata": {},
   "source": [
    "    photon_density(λ::Unitful.Length, p::Unitful.Power, a::Unitful.Area)\n",
    "\n",
    "number of photons per unit time per unit area\n",
    "\n",
    "#### Fields\n",
    "\n",
    "- `λ::Unitful.Length` : photon wavelength\n",
    "- `p::Unitful.Power`  : Power\n",
    "- `a::Unitful.Area`   : Area"
   ]
  },
  {
   "cell_type": "code",
   "execution_count": 50,
   "id": "5883e388",
   "metadata": {},
   "outputs": [
    {
     "data": {
      "text/plain": [
       "2.4036136074756826e12 Hz mm⁻²"
      ]
     },
     "metadata": {},
     "output_type": "display_data"
    }
   ],
   "source": [
    "LaserLab.photon_density(375.0nm, 1.0μW, fov.a)"
   ]
  },
  {
   "cell_type": "markdown",
   "id": "ba2411c4",
   "metadata": {},
   "source": [
    "\tphoton_density(l::Laser, fov::Fov)\n",
    "\n",
    "number of photons per unit time per unit area, in a Fov illuminated by a laser\n",
    "\n",
    "#### Fields\n",
    "\n",
    "- `laser::Laser` : Laser\n",
    "- `fov::Fov`     : Field of view\n"
   ]
  },
  {
   "cell_type": "code",
   "execution_count": 51,
   "metadata": {},
   "outputs": [
    {
     "data": {
      "text/plain": [
       "true"
      ]
     },
     "metadata": {},
     "output_type": "display_data"
    }
   ],
   "source": [
    "LaserLab.photon_density(375.0nm, 1.0μW, fov.a) ≈ LaserLab.photon_density(luv, fov)"
   ]
  },
  {
   "cell_type": "markdown",
   "id": "be080ec3",
   "metadata": {},
   "source": [
    "\n",
    "\tw(gl::GaussianLaser, z::Unitful.Length)\n",
    "\n",
    "Waist of a laser at length z\n",
    "\n",
    "#### Fields\n",
    "\n",
    "- `gl::GaussianLaser`  : A gaussian laser\n",
    "- `z::Unitful.Length`  : z distance from focusing point\n"
   ]
  },
  {
   "cell_type": "code",
   "execution_count": 52,
   "id": "bfeae5bf",
   "metadata": {},
   "outputs": [
    {
     "data": {
      "text/plain": [
       "337.6186185589148 nm"
      ]
     },
     "metadata": {},
     "output_type": "display_data"
    }
   ],
   "source": [
    "LaserLab.w(gl, gl.zr)"
   ]
  },
  {
   "cell_type": "code",
   "execution_count": 420,
   "metadata": {},
   "outputs": [
    {
     "data": {
      "image/svg+xml": "<?xml version=\"1.0\" encoding=\"utf-8\"?>\n<svg xmlns=\"http://www.w3.org/2000/svg\" xmlns:xlink=\"http://www.w3.org/1999/xlink\" width=\"600\" height=\"400\" viewBox=\"0 0 2400 1600\">\n<defs>\n  <clipPath id=\"clip820\">\n    <rect x=\"0\" y=\"0\" width=\"2400\" height=\"1600\"/>\n  </clipPath>\n</defs>\n<path clip-path=\"url(#clip820)\" d=\"\nM0 1600 L2400 1600 L2400 0 L0 0  Z\n  \" fill=\"#ffffff\" fill-rule=\"evenodd\" fill-opacity=\"1\"/>\n<defs>\n  <clipPath id=\"clip821\">\n    <rect x=\"480\" y=\"0\" width=\"1681\" height=\"1600\"/>\n  </clipPath>\n</defs>\n<path clip-path=\"url(#clip820)\" d=\"\nM235.283 1423.18 L2352.76 1423.18 L2352.76 47.2441 L235.283 47.2441  Z\n  \" fill=\"#ffffff\" fill-rule=\"evenodd\" fill-opacity=\"1\"/>\n<defs>\n  <clipPath id=\"clip822\">\n    <rect x=\"235\" y=\"47\" width=\"2118\" height=\"1377\"/>\n  </clipPath>\n</defs>\n<polyline clip-path=\"url(#clip822)\" style=\"stroke:#000000; stroke-linecap:butt; stroke-linejoin:round; stroke-width:2; stroke-opacity:0.1; fill:none\" points=\"\n  295.211,1423.18 295.211,47.2441 \n  \"/>\n<polyline clip-path=\"url(#clip822)\" style=\"stroke:#000000; stroke-linecap:butt; stroke-linejoin:round; stroke-width:2; stroke-opacity:0.1; fill:none\" points=\"\n  794.615,1423.18 794.615,47.2441 \n  \"/>\n<polyline clip-path=\"url(#clip822)\" style=\"stroke:#000000; stroke-linecap:butt; stroke-linejoin:round; stroke-width:2; stroke-opacity:0.1; fill:none\" points=\"\n  1294.02,1423.18 1294.02,47.2441 \n  \"/>\n<polyline clip-path=\"url(#clip822)\" style=\"stroke:#000000; stroke-linecap:butt; stroke-linejoin:round; stroke-width:2; stroke-opacity:0.1; fill:none\" points=\"\n  1793.42,1423.18 1793.42,47.2441 \n  \"/>\n<polyline clip-path=\"url(#clip822)\" style=\"stroke:#000000; stroke-linecap:butt; stroke-linejoin:round; stroke-width:2; stroke-opacity:0.1; fill:none\" points=\"\n  2292.83,1423.18 2292.83,47.2441 \n  \"/>\n<polyline clip-path=\"url(#clip820)\" style=\"stroke:#000000; stroke-linecap:butt; stroke-linejoin:round; stroke-width:4; stroke-opacity:1; fill:none\" points=\"\n  235.283,1423.18 2352.76,1423.18 \n  \"/>\n<polyline clip-path=\"url(#clip820)\" style=\"stroke:#000000; stroke-linecap:butt; stroke-linejoin:round; stroke-width:4; stroke-opacity:1; fill:none\" points=\"\n  295.211,1423.18 295.211,1406.67 \n  \"/>\n<polyline clip-path=\"url(#clip820)\" style=\"stroke:#000000; stroke-linecap:butt; stroke-linejoin:round; stroke-width:4; stroke-opacity:1; fill:none\" points=\"\n  794.615,1423.18 794.615,1406.67 \n  \"/>\n<polyline clip-path=\"url(#clip820)\" style=\"stroke:#000000; stroke-linecap:butt; stroke-linejoin:round; stroke-width:4; stroke-opacity:1; fill:none\" points=\"\n  1294.02,1423.18 1294.02,1406.67 \n  \"/>\n<polyline clip-path=\"url(#clip820)\" style=\"stroke:#000000; stroke-linecap:butt; stroke-linejoin:round; stroke-width:4; stroke-opacity:1; fill:none\" points=\"\n  1793.42,1423.18 1793.42,1406.67 \n  \"/>\n<polyline clip-path=\"url(#clip820)\" style=\"stroke:#000000; stroke-linecap:butt; stroke-linejoin:round; stroke-width:4; stroke-opacity:1; fill:none\" points=\"\n  2292.83,1423.18 2292.83,1406.67 \n  \"/>\n<path clip-path=\"url(#clip820)\" d=\"M272.596 1452.37 Q268.985 1452.37 267.156 1455.94 Q265.35 1459.48 265.35 1466.61 Q265.35 1473.71 267.156 1477.28 Q268.985 1480.82 272.596 1480.82 Q276.23 1480.82 278.035 1477.28 Q279.864 1473.71 279.864 1466.61 Q279.864 1459.48 278.035 1455.94 Q276.23 1452.37 272.596 1452.37 M272.596 1448.67 Q278.406 1448.67 281.461 1453.27 Q284.54 1457.86 284.54 1466.61 Q284.54 1475.33 281.461 1479.94 Q278.406 1484.52 272.596 1484.52 Q266.786 1484.52 263.707 1479.94 Q260.651 1475.33 260.651 1466.61 Q260.651 1457.86 263.707 1453.27 Q266.786 1448.67 272.596 1448.67 Z\" fill=\"#000000\" fill-rule=\"evenodd\" fill-opacity=\"1\" /><path clip-path=\"url(#clip820)\" d=\"M292.758 1477.97 L297.642 1477.97 L297.642 1483.85 L292.758 1483.85 L292.758 1477.97 Z\" fill=\"#000000\" fill-rule=\"evenodd\" fill-opacity=\"1\" /><path clip-path=\"url(#clip820)\" d=\"M317.827 1452.37 Q314.216 1452.37 312.387 1455.94 Q310.582 1459.48 310.582 1466.61 Q310.582 1473.71 312.387 1477.28 Q314.216 1480.82 317.827 1480.82 Q321.461 1480.82 323.267 1477.28 Q325.095 1473.71 325.095 1466.61 Q325.095 1459.48 323.267 1455.94 Q321.461 1452.37 317.827 1452.37 M317.827 1448.67 Q323.637 1448.67 326.693 1453.27 Q329.771 1457.86 329.771 1466.61 Q329.771 1475.33 326.693 1479.94 Q323.637 1484.52 317.827 1484.52 Q312.017 1484.52 308.938 1479.94 Q305.883 1475.33 305.883 1466.61 Q305.883 1457.86 308.938 1453.27 Q312.017 1448.67 317.827 1448.67 Z\" fill=\"#000000\" fill-rule=\"evenodd\" fill-opacity=\"1\" /><path clip-path=\"url(#clip820)\" d=\"M766.352 1479.92 L782.671 1479.92 L782.671 1483.85 L760.727 1483.85 L760.727 1479.92 Q763.389 1477.16 767.972 1472.53 Q772.578 1467.88 773.759 1466.54 Q776.004 1464.01 776.884 1462.28 Q777.787 1460.52 777.787 1458.83 Q777.787 1456.07 775.842 1454.34 Q773.921 1452.6 770.819 1452.6 Q768.62 1452.6 766.166 1453.37 Q763.736 1454.13 760.958 1455.68 L760.958 1450.96 Q763.782 1449.82 766.236 1449.25 Q768.69 1448.67 770.727 1448.67 Q776.097 1448.67 779.291 1451.35 Q782.486 1454.04 782.486 1458.53 Q782.486 1460.66 781.676 1462.58 Q780.889 1464.48 778.782 1467.07 Q778.203 1467.74 775.102 1470.96 Q772 1474.15 766.352 1479.92 Z\" fill=\"#000000\" fill-rule=\"evenodd\" fill-opacity=\"1\" /><path clip-path=\"url(#clip820)\" d=\"M792.486 1477.97 L797.37 1477.97 L797.37 1483.85 L792.486 1483.85 L792.486 1477.97 Z\" fill=\"#000000\" fill-rule=\"evenodd\" fill-opacity=\"1\" /><path clip-path=\"url(#clip820)\" d=\"M807.601 1449.29 L825.958 1449.29 L825.958 1453.23 L811.884 1453.23 L811.884 1461.7 Q812.902 1461.35 813.921 1461.19 Q814.939 1461 815.958 1461 Q821.745 1461 825.124 1464.18 Q828.504 1467.35 828.504 1472.76 Q828.504 1478.34 825.032 1481.44 Q821.56 1484.52 815.24 1484.52 Q813.064 1484.52 810.796 1484.15 Q808.55 1483.78 806.143 1483.04 L806.143 1478.34 Q808.226 1479.48 810.449 1480.03 Q812.671 1480.59 815.148 1480.59 Q819.152 1480.59 821.49 1478.48 Q823.828 1476.38 823.828 1472.76 Q823.828 1469.15 821.49 1467.05 Q819.152 1464.94 815.148 1464.94 Q813.273 1464.94 811.398 1465.36 Q809.546 1465.77 807.601 1466.65 L807.601 1449.29 Z\" fill=\"#000000\" fill-rule=\"evenodd\" fill-opacity=\"1\" /><path clip-path=\"url(#clip820)\" d=\"M1261.18 1449.29 L1279.54 1449.29 L1279.54 1453.23 L1265.47 1453.23 L1265.47 1461.7 Q1266.48 1461.35 1267.5 1461.19 Q1268.52 1461 1269.54 1461 Q1275.33 1461 1278.71 1464.18 Q1282.09 1467.35 1282.09 1472.76 Q1282.09 1478.34 1278.61 1481.44 Q1275.14 1484.52 1268.82 1484.52 Q1266.65 1484.52 1264.38 1484.15 Q1262.13 1483.78 1259.73 1483.04 L1259.73 1478.34 Q1261.81 1479.48 1264.03 1480.03 Q1266.25 1480.59 1268.73 1480.59 Q1272.73 1480.59 1275.07 1478.48 Q1277.41 1476.38 1277.41 1472.76 Q1277.41 1469.15 1275.07 1467.05 Q1272.73 1464.94 1268.73 1464.94 Q1266.86 1464.94 1264.98 1465.36 Q1263.13 1465.77 1261.18 1466.65 L1261.18 1449.29 Z\" fill=\"#000000\" fill-rule=\"evenodd\" fill-opacity=\"1\" /><path clip-path=\"url(#clip820)\" d=\"M1291.3 1477.97 L1296.18 1477.97 L1296.18 1483.85 L1291.3 1483.85 L1291.3 1477.97 Z\" fill=\"#000000\" fill-rule=\"evenodd\" fill-opacity=\"1\" /><path clip-path=\"url(#clip820)\" d=\"M1316.37 1452.37 Q1312.76 1452.37 1310.93 1455.94 Q1309.12 1459.48 1309.12 1466.61 Q1309.12 1473.71 1310.93 1477.28 Q1312.76 1480.82 1316.37 1480.82 Q1320 1480.82 1321.81 1477.28 Q1323.64 1473.71 1323.64 1466.61 Q1323.64 1459.48 1321.81 1455.94 Q1320 1452.37 1316.37 1452.37 M1316.37 1448.67 Q1322.18 1448.67 1325.23 1453.27 Q1328.31 1457.86 1328.31 1466.61 Q1328.31 1475.33 1325.23 1479.94 Q1322.18 1484.52 1316.37 1484.52 Q1310.56 1484.52 1307.48 1479.94 Q1304.42 1475.33 1304.42 1466.61 Q1304.42 1457.86 1307.48 1453.27 Q1310.56 1448.67 1316.37 1448.67 Z\" fill=\"#000000\" fill-rule=\"evenodd\" fill-opacity=\"1\" /><path clip-path=\"url(#clip820)\" d=\"M1759.74 1449.29 L1781.97 1449.29 L1781.97 1451.28 L1769.42 1483.85 L1764.53 1483.85 L1776.34 1453.23 L1759.74 1453.23 L1759.74 1449.29 Z\" fill=\"#000000\" fill-rule=\"evenodd\" fill-opacity=\"1\" /><path clip-path=\"url(#clip820)\" d=\"M1791.09 1477.97 L1795.97 1477.97 L1795.97 1483.85 L1791.09 1483.85 L1791.09 1477.97 Z\" fill=\"#000000\" fill-rule=\"evenodd\" fill-opacity=\"1\" /><path clip-path=\"url(#clip820)\" d=\"M1806.2 1449.29 L1824.56 1449.29 L1824.56 1453.23 L1810.48 1453.23 L1810.48 1461.7 Q1811.5 1461.35 1812.52 1461.19 Q1813.54 1461 1814.56 1461 Q1820.34 1461 1823.72 1464.18 Q1827.1 1467.35 1827.1 1472.76 Q1827.1 1478.34 1823.63 1481.44 Q1820.16 1484.52 1813.84 1484.52 Q1811.66 1484.52 1809.4 1484.15 Q1807.15 1483.78 1804.74 1483.04 L1804.74 1478.34 Q1806.83 1479.48 1809.05 1480.03 Q1811.27 1480.59 1813.75 1480.59 Q1817.75 1480.59 1820.09 1478.48 Q1822.43 1476.38 1822.43 1472.76 Q1822.43 1469.15 1820.09 1467.05 Q1817.75 1464.94 1813.75 1464.94 Q1811.87 1464.94 1810 1465.36 Q1808.15 1465.77 1806.2 1466.65 L1806.2 1449.29 Z\" fill=\"#000000\" fill-rule=\"evenodd\" fill-opacity=\"1\" /><path clip-path=\"url(#clip820)\" d=\"M2244.9 1479.92 L2252.54 1479.92 L2252.54 1453.55 L2244.23 1455.22 L2244.23 1450.96 L2252.49 1449.29 L2257.17 1449.29 L2257.17 1479.92 L2264.81 1479.92 L2264.81 1483.85 L2244.9 1483.85 L2244.9 1479.92 Z\" fill=\"#000000\" fill-rule=\"evenodd\" fill-opacity=\"1\" /><path clip-path=\"url(#clip820)\" d=\"M2284.25 1452.37 Q2280.64 1452.37 2278.81 1455.94 Q2277.01 1459.48 2277.01 1466.61 Q2277.01 1473.71 2278.81 1477.28 Q2280.64 1480.82 2284.25 1480.82 Q2287.89 1480.82 2289.69 1477.28 Q2291.52 1473.71 2291.52 1466.61 Q2291.52 1459.48 2289.69 1455.94 Q2287.89 1452.37 2284.25 1452.37 M2284.25 1448.67 Q2290.06 1448.67 2293.12 1453.27 Q2296.2 1457.86 2296.2 1466.61 Q2296.2 1475.33 2293.12 1479.94 Q2290.06 1484.52 2284.25 1484.52 Q2278.44 1484.52 2275.36 1479.94 Q2272.31 1475.33 2272.31 1466.61 Q2272.31 1457.86 2275.36 1453.27 Q2278.44 1448.67 2284.25 1448.67 Z\" fill=\"#000000\" fill-rule=\"evenodd\" fill-opacity=\"1\" /><path clip-path=\"url(#clip820)\" d=\"M2304.41 1477.97 L2309.3 1477.97 L2309.3 1483.85 L2304.41 1483.85 L2304.41 1477.97 Z\" fill=\"#000000\" fill-rule=\"evenodd\" fill-opacity=\"1\" /><path clip-path=\"url(#clip820)\" d=\"M2329.48 1452.37 Q2325.87 1452.37 2324.04 1455.94 Q2322.24 1459.48 2322.24 1466.61 Q2322.24 1473.71 2324.04 1477.28 Q2325.87 1480.82 2329.48 1480.82 Q2333.12 1480.82 2334.92 1477.28 Q2336.75 1473.71 2336.75 1466.61 Q2336.75 1459.48 2334.92 1455.94 Q2333.12 1452.37 2329.48 1452.37 M2329.48 1448.67 Q2335.29 1448.67 2338.35 1453.27 Q2341.43 1457.86 2341.43 1466.61 Q2341.43 1475.33 2338.35 1479.94 Q2335.29 1484.52 2329.48 1484.52 Q2323.67 1484.52 2320.59 1479.94 Q2317.54 1475.33 2317.54 1466.61 Q2317.54 1457.86 2320.59 1453.27 Q2323.67 1448.67 2329.48 1448.67 Z\" fill=\"#000000\" fill-rule=\"evenodd\" fill-opacity=\"1\" /><path clip-path=\"url(#clip820)\" d=\"M1310.63 1532.4 L1297.74 1549.74 L1311.3 1568.04 L1304.4 1568.04 L1294.02 1554.04 L1283.64 1568.04 L1276.74 1568.04 L1290.58 1549.39 L1277.91 1532.4 L1284.82 1532.4 L1294.27 1545.1 L1303.73 1532.4 L1310.63 1532.4 Z\" fill=\"#000000\" fill-rule=\"evenodd\" fill-opacity=\"1\" /><polyline clip-path=\"url(#clip822)\" style=\"stroke:#000000; stroke-linecap:butt; stroke-linejoin:round; stroke-width:2; stroke-opacity:0.1; fill:none\" points=\"\n  235.283,1391.22 2352.76,1391.22 \n  \"/>\n<polyline clip-path=\"url(#clip822)\" style=\"stroke:#000000; stroke-linecap:butt; stroke-linejoin:round; stroke-width:2; stroke-opacity:0.1; fill:none\" points=\"\n  235.283,1112.07 2352.76,1112.07 \n  \"/>\n<polyline clip-path=\"url(#clip822)\" style=\"stroke:#000000; stroke-linecap:butt; stroke-linejoin:round; stroke-width:2; stroke-opacity:0.1; fill:none\" points=\"\n  235.283,832.915 2352.76,832.915 \n  \"/>\n<polyline clip-path=\"url(#clip822)\" style=\"stroke:#000000; stroke-linecap:butt; stroke-linejoin:round; stroke-width:2; stroke-opacity:0.1; fill:none\" points=\"\n  235.283,553.764 2352.76,553.764 \n  \"/>\n<polyline clip-path=\"url(#clip822)\" style=\"stroke:#000000; stroke-linecap:butt; stroke-linejoin:round; stroke-width:2; stroke-opacity:0.1; fill:none\" points=\"\n  235.283,274.613 2352.76,274.613 \n  \"/>\n<polyline clip-path=\"url(#clip820)\" style=\"stroke:#000000; stroke-linecap:butt; stroke-linejoin:round; stroke-width:4; stroke-opacity:1; fill:none\" points=\"\n  235.283,1423.18 235.283,47.2441 \n  \"/>\n<polyline clip-path=\"url(#clip820)\" style=\"stroke:#000000; stroke-linecap:butt; stroke-linejoin:round; stroke-width:4; stroke-opacity:1; fill:none\" points=\"\n  235.283,1391.22 260.693,1391.22 \n  \"/>\n<polyline clip-path=\"url(#clip820)\" style=\"stroke:#000000; stroke-linecap:butt; stroke-linejoin:round; stroke-width:4; stroke-opacity:1; fill:none\" points=\"\n  235.283,1112.07 260.693,1112.07 \n  \"/>\n<polyline clip-path=\"url(#clip820)\" style=\"stroke:#000000; stroke-linecap:butt; stroke-linejoin:round; stroke-width:4; stroke-opacity:1; fill:none\" points=\"\n  235.283,832.915 260.693,832.915 \n  \"/>\n<polyline clip-path=\"url(#clip820)\" style=\"stroke:#000000; stroke-linecap:butt; stroke-linejoin:round; stroke-width:4; stroke-opacity:1; fill:none\" points=\"\n  235.283,553.764 260.693,553.764 \n  \"/>\n<polyline clip-path=\"url(#clip820)\" style=\"stroke:#000000; stroke-linecap:butt; stroke-linejoin:round; stroke-width:4; stroke-opacity:1; fill:none\" points=\"\n  235.283,274.613 260.693,274.613 \n  \"/>\n<path clip-path=\"url(#clip820)\" d=\"M187.338 1377.02 Q183.727 1377.02 181.899 1380.58 Q180.093 1384.12 180.093 1391.25 Q180.093 1398.36 181.899 1401.92 Q183.727 1405.46 187.338 1405.46 Q190.973 1405.46 192.778 1401.92 Q194.607 1398.36 194.607 1391.25 Q194.607 1384.12 192.778 1380.58 Q190.973 1377.02 187.338 1377.02 M187.338 1373.31 Q193.149 1373.31 196.204 1377.92 Q199.283 1382.5 199.283 1391.25 Q199.283 1399.98 196.204 1404.59 Q193.149 1409.17 187.338 1409.17 Q181.528 1409.17 178.45 1404.59 Q175.394 1399.98 175.394 1391.25 Q175.394 1382.5 178.45 1377.92 Q181.528 1373.31 187.338 1373.31 Z\" fill=\"#000000\" fill-rule=\"evenodd\" fill-opacity=\"1\" /><path clip-path=\"url(#clip820)\" d=\"M121.043 1125.41 L137.362 1125.41 L137.362 1129.35 L115.418 1129.35 L115.418 1125.41 Q118.08 1122.66 122.663 1118.03 Q127.269 1113.37 128.45 1112.03 Q130.695 1109.51 131.575 1107.77 Q132.478 1106.01 132.478 1104.32 Q132.478 1101.57 130.533 1099.83 Q128.612 1098.1 125.51 1098.1 Q123.311 1098.1 120.857 1098.86 Q118.427 1099.62 115.649 1101.17 L115.649 1096.45 Q118.473 1095.32 120.927 1094.74 Q123.38 1094.16 125.418 1094.16 Q130.788 1094.16 133.982 1096.85 Q137.177 1099.53 137.177 1104.02 Q137.177 1106.15 136.367 1108.07 Q135.579 1109.97 133.473 1112.56 Q132.894 1113.23 129.792 1116.45 Q126.691 1119.65 121.043 1125.41 Z\" fill=\"#000000\" fill-rule=\"evenodd\" fill-opacity=\"1\" /><path clip-path=\"url(#clip820)\" d=\"M157.177 1097.86 Q153.566 1097.86 151.737 1101.43 Q149.931 1104.97 149.931 1112.1 Q149.931 1119.21 151.737 1122.77 Q153.566 1126.31 157.177 1126.31 Q160.811 1126.31 162.616 1122.77 Q164.445 1119.21 164.445 1112.1 Q164.445 1104.97 162.616 1101.43 Q160.811 1097.86 157.177 1097.86 M157.177 1094.16 Q162.987 1094.16 166.042 1098.77 Q169.121 1103.35 169.121 1112.1 Q169.121 1120.83 166.042 1125.43 Q162.987 1130.02 157.177 1130.02 Q151.366 1130.02 148.288 1125.43 Q145.232 1120.83 145.232 1112.1 Q145.232 1103.35 148.288 1098.77 Q151.366 1094.16 157.177 1094.16 Z\" fill=\"#000000\" fill-rule=\"evenodd\" fill-opacity=\"1\" /><path clip-path=\"url(#clip820)\" d=\"M187.338 1097.86 Q183.727 1097.86 181.899 1101.43 Q180.093 1104.97 180.093 1112.1 Q180.093 1119.21 181.899 1122.77 Q183.727 1126.31 187.338 1126.31 Q190.973 1126.31 192.778 1122.77 Q194.607 1119.21 194.607 1112.1 Q194.607 1104.97 192.778 1101.43 Q190.973 1097.86 187.338 1097.86 M187.338 1094.16 Q193.149 1094.16 196.204 1098.77 Q199.283 1103.35 199.283 1112.1 Q199.283 1120.83 196.204 1125.43 Q193.149 1130.02 187.338 1130.02 Q181.528 1130.02 178.45 1125.43 Q175.394 1120.83 175.394 1112.1 Q175.394 1103.35 178.45 1098.77 Q181.528 1094.16 187.338 1094.16 Z\" fill=\"#000000\" fill-rule=\"evenodd\" fill-opacity=\"1\" /><path clip-path=\"url(#clip820)\" d=\"M129.862 819.709 L118.056 838.158 L129.862 838.158 L129.862 819.709 M128.635 815.635 L134.515 815.635 L134.515 838.158 L139.445 838.158 L139.445 842.047 L134.515 842.047 L134.515 850.195 L129.862 850.195 L129.862 842.047 L114.26 842.047 L114.26 837.533 L128.635 815.635 Z\" fill=\"#000000\" fill-rule=\"evenodd\" fill-opacity=\"1\" /><path clip-path=\"url(#clip820)\" d=\"M157.177 818.714 Q153.566 818.714 151.737 822.278 Q149.931 825.82 149.931 832.95 Q149.931 840.056 151.737 843.621 Q153.566 847.162 157.177 847.162 Q160.811 847.162 162.616 843.621 Q164.445 840.056 164.445 832.95 Q164.445 825.82 162.616 822.278 Q160.811 818.714 157.177 818.714 M157.177 815.01 Q162.987 815.01 166.042 819.616 Q169.121 824.2 169.121 832.95 Q169.121 841.676 166.042 846.283 Q162.987 850.866 157.177 850.866 Q151.366 850.866 148.288 846.283 Q145.232 841.676 145.232 832.95 Q145.232 824.2 148.288 819.616 Q151.366 815.01 157.177 815.01 Z\" fill=\"#000000\" fill-rule=\"evenodd\" fill-opacity=\"1\" /><path clip-path=\"url(#clip820)\" d=\"M187.338 818.714 Q183.727 818.714 181.899 822.278 Q180.093 825.82 180.093 832.95 Q180.093 840.056 181.899 843.621 Q183.727 847.162 187.338 847.162 Q190.973 847.162 192.778 843.621 Q194.607 840.056 194.607 832.95 Q194.607 825.82 192.778 822.278 Q190.973 818.714 187.338 818.714 M187.338 815.01 Q193.149 815.01 196.204 819.616 Q199.283 824.2 199.283 832.95 Q199.283 841.676 196.204 846.283 Q193.149 850.866 187.338 850.866 Q181.528 850.866 178.45 846.283 Q175.394 841.676 175.394 832.95 Q175.394 824.2 178.45 819.616 Q181.528 815.01 187.338 815.01 Z\" fill=\"#000000\" fill-rule=\"evenodd\" fill-opacity=\"1\" /><path clip-path=\"url(#clip820)\" d=\"M127.593 551.9 Q124.445 551.9 122.593 554.053 Q120.765 556.206 120.765 559.956 Q120.765 563.683 122.593 565.859 Q124.445 568.011 127.593 568.011 Q130.742 568.011 132.57 565.859 Q134.422 563.683 134.422 559.956 Q134.422 556.206 132.57 554.053 Q130.742 551.9 127.593 551.9 M136.876 537.248 L136.876 541.507 Q135.117 540.674 133.311 540.234 Q131.529 539.794 129.769 539.794 Q125.14 539.794 122.686 542.919 Q120.255 546.044 119.908 552.363 Q121.274 550.349 123.334 549.285 Q125.394 548.197 127.871 548.197 Q133.08 548.197 136.089 551.368 Q139.121 554.516 139.121 559.956 Q139.121 565.28 135.973 568.497 Q132.825 571.715 127.593 571.715 Q121.598 571.715 118.427 567.132 Q115.256 562.525 115.256 553.798 Q115.256 545.604 119.144 540.743 Q123.033 535.859 129.584 535.859 Q131.343 535.859 133.126 536.206 Q134.931 536.553 136.876 537.248 Z\" fill=\"#000000\" fill-rule=\"evenodd\" fill-opacity=\"1\" /><path clip-path=\"url(#clip820)\" d=\"M157.177 539.562 Q153.566 539.562 151.737 543.127 Q149.931 546.669 149.931 553.798 Q149.931 560.905 151.737 564.47 Q153.566 568.011 157.177 568.011 Q160.811 568.011 162.616 564.47 Q164.445 560.905 164.445 553.798 Q164.445 546.669 162.616 543.127 Q160.811 539.562 157.177 539.562 M157.177 535.859 Q162.987 535.859 166.042 540.465 Q169.121 545.049 169.121 553.798 Q169.121 562.525 166.042 567.132 Q162.987 571.715 157.177 571.715 Q151.366 571.715 148.288 567.132 Q145.232 562.525 145.232 553.798 Q145.232 545.049 148.288 540.465 Q151.366 535.859 157.177 535.859 Z\" fill=\"#000000\" fill-rule=\"evenodd\" fill-opacity=\"1\" /><path clip-path=\"url(#clip820)\" d=\"M187.338 539.562 Q183.727 539.562 181.899 543.127 Q180.093 546.669 180.093 553.798 Q180.093 560.905 181.899 564.47 Q183.727 568.011 187.338 568.011 Q190.973 568.011 192.778 564.47 Q194.607 560.905 194.607 553.798 Q194.607 546.669 192.778 543.127 Q190.973 539.562 187.338 539.562 M187.338 535.859 Q193.149 535.859 196.204 540.465 Q199.283 545.049 199.283 553.798 Q199.283 562.525 196.204 567.132 Q193.149 571.715 187.338 571.715 Q181.528 571.715 178.45 567.132 Q175.394 562.525 175.394 553.798 Q175.394 545.049 178.45 540.465 Q181.528 535.859 187.338 535.859 Z\" fill=\"#000000\" fill-rule=\"evenodd\" fill-opacity=\"1\" /><path clip-path=\"url(#clip820)\" d=\"M127.015 275.481 Q123.681 275.481 121.76 277.263 Q119.862 279.046 119.862 282.17 Q119.862 285.295 121.76 287.078 Q123.681 288.86 127.015 288.86 Q130.348 288.86 132.269 287.078 Q134.191 285.272 134.191 282.17 Q134.191 279.046 132.269 277.263 Q130.371 275.481 127.015 275.481 M122.339 273.49 Q119.33 272.749 117.64 270.689 Q115.973 268.629 115.973 265.666 Q115.973 261.522 118.913 259.115 Q121.876 256.708 127.015 256.708 Q132.177 256.708 135.117 259.115 Q138.056 261.522 138.056 265.666 Q138.056 268.629 136.367 270.689 Q134.7 272.749 131.714 273.49 Q135.093 274.277 136.968 276.569 Q138.867 278.86 138.867 282.17 Q138.867 287.194 135.788 289.879 Q132.732 292.564 127.015 292.564 Q121.297 292.564 118.218 289.879 Q115.163 287.194 115.163 282.17 Q115.163 278.86 117.061 276.569 Q118.959 274.277 122.339 273.49 M120.626 266.106 Q120.626 268.791 122.293 270.296 Q123.982 271.8 127.015 271.8 Q130.024 271.8 131.714 270.296 Q133.427 268.791 133.427 266.106 Q133.427 263.421 131.714 261.916 Q130.024 260.411 127.015 260.411 Q123.982 260.411 122.293 261.916 Q120.626 263.421 120.626 266.106 Z\" fill=\"#000000\" fill-rule=\"evenodd\" fill-opacity=\"1\" /><path clip-path=\"url(#clip820)\" d=\"M157.177 260.411 Q153.566 260.411 151.737 263.976 Q149.931 267.518 149.931 274.647 Q149.931 281.754 151.737 285.319 Q153.566 288.86 157.177 288.86 Q160.811 288.86 162.616 285.319 Q164.445 281.754 164.445 274.647 Q164.445 267.518 162.616 263.976 Q160.811 260.411 157.177 260.411 M157.177 256.708 Q162.987 256.708 166.042 261.314 Q169.121 265.897 169.121 274.647 Q169.121 283.374 166.042 287.981 Q162.987 292.564 157.177 292.564 Q151.366 292.564 148.288 287.981 Q145.232 283.374 145.232 274.647 Q145.232 265.897 148.288 261.314 Q151.366 256.708 157.177 256.708 Z\" fill=\"#000000\" fill-rule=\"evenodd\" fill-opacity=\"1\" /><path clip-path=\"url(#clip820)\" d=\"M187.338 260.411 Q183.727 260.411 181.899 263.976 Q180.093 267.518 180.093 274.647 Q180.093 281.754 181.899 285.319 Q183.727 288.86 187.338 288.86 Q190.973 288.86 192.778 285.319 Q194.607 281.754 194.607 274.647 Q194.607 267.518 192.778 263.976 Q190.973 260.411 187.338 260.411 M187.338 256.708 Q193.149 256.708 196.204 261.314 Q199.283 265.897 199.283 274.647 Q199.283 283.374 196.204 287.981 Q193.149 292.564 187.338 292.564 Q181.528 292.564 178.45 287.981 Q175.394 283.374 175.394 274.647 Q175.394 265.897 178.45 261.314 Q181.528 256.708 187.338 256.708 Z\" fill=\"#000000\" fill-rule=\"evenodd\" fill-opacity=\"1\" /><path clip-path=\"url(#clip820)\" d=\"M67.3143 733.525 Q73.68 736.008 75.6216 738.363 Q77.5631 740.718 77.5631 744.665 L77.5631 749.344 L72.6615 749.344 L72.6615 745.906 Q72.6615 743.487 71.5157 742.151 Q70.3699 740.814 66.1048 739.191 L63.4312 738.14 L28.3562 752.559 L28.3562 746.352 L56.238 735.212 L28.3562 724.072 L28.3562 717.865 L67.3143 733.525 Z\" fill=\"#000000\" fill-rule=\"evenodd\" fill-opacity=\"1\" /><polyline clip-path=\"url(#clip822)\" style=\"stroke:#009af9; stroke-linecap:butt; stroke-linejoin:round; stroke-width:4; stroke-opacity:1; fill:none\" points=\"\n  295.211,1384.24 315.389,1383.79 335.567,1383.3 355.745,1382.75 375.923,1382.14 396.101,1381.45 416.279,1380.7 436.457,1379.86 456.635,1378.94 476.813,1377.91 \n  496.991,1376.79 517.169,1375.57 537.347,1374.22 557.525,1372.76 577.702,1371.17 597.88,1369.45 618.058,1367.58 638.236,1365.57 658.414,1363.41 678.592,1361.09 \n  698.77,1358.6 718.948,1355.94 739.126,1353.11 759.304,1350.08 779.482,1346.87 799.66,1343.46 819.838,1339.84 840.016,1336.01 860.194,1331.97 880.372,1327.7 \n  900.55,1323.2 920.727,1318.46 940.905,1313.48 961.083,1308.25 981.261,1302.76 1001.44,1297.01 1021.62,1290.99 1041.8,1284.7 1061.97,1278.12 1082.15,1271.26 \n  1102.33,1264.09 1122.51,1256.63 1142.68,1248.86 1162.86,1240.78 1183.04,1232.37 1203.22,1223.64 1223.4,1214.57 1243.57,1205.16 1263.75,1195.41 1283.93,1185.3 \n  1304.11,1174.83 1324.29,1163.99 1344.46,1152.79 1364.64,1141.2 1384.82,1129.23 1405,1116.86 1425.18,1104.1 1445.35,1090.93 1465.53,1077.35 1485.71,1063.35 \n  1505.89,1048.93 1526.07,1034.07 1546.24,1018.78 1566.42,1003.04 1586.6,986.856 1606.78,970.212 1626.96,953.105 1647.13,935.528 1667.31,917.474 1687.49,898.937 \n  1707.67,879.911 1727.85,860.39 1748.02,840.366 1768.2,819.833 1788.38,798.784 1808.56,777.215 1828.73,755.116 1848.91,732.484 1869.09,709.31 1889.27,685.588 \n  1909.45,661.312 1929.62,636.476 1949.8,611.073 1969.98,585.096 1990.16,558.539 2010.34,531.396 2030.51,503.66 2050.69,475.324 2070.87,446.382 2091.05,416.829 \n  2111.23,386.656 2131.4,355.858 2151.58,324.428 2171.76,292.36 2191.94,259.647 2212.12,226.283 2232.29,192.261 2252.47,157.576 2272.65,122.219 2292.83,86.1857 \n  \n  \"/>\n<path clip-path=\"url(#clip820)\" d=\"\nM1234.19 214.069 L2282.17 214.069 L2282.17 93.1086 L1234.19 93.1086  Z\n  \" fill=\"#ffffff\" fill-rule=\"evenodd\" fill-opacity=\"1\"/>\n<polyline clip-path=\"url(#clip820)\" style=\"stroke:#000000; stroke-linecap:butt; stroke-linejoin:round; stroke-width:4; stroke-opacity:1; fill:none\" points=\"\n  1234.19,214.069 2282.17,214.069 2282.17,93.1086 1234.19,93.1086 1234.19,214.069 \n  \"/>\n<polyline clip-path=\"url(#clip820)\" style=\"stroke:#009af9; stroke-linecap:butt; stroke-linejoin:round; stroke-width:4; stroke-opacity:1; fill:none\" points=\"\n  1257.72,153.589 1398.89,153.589 \n  \"/>\n<path clip-path=\"url(#clip820)\" d=\"M1436.26 173.276 Q1434.45 177.906 1432.74 179.318 Q1431.03 180.73 1428.16 180.73 L1424.75 180.73 L1424.75 177.165 L1427.25 177.165 Q1429.01 177.165 1429.98 176.332 Q1430.96 175.498 1432.14 172.396 L1432.9 170.452 L1422.41 144.943 L1426.93 144.943 L1435.03 165.221 L1443.13 144.943 L1447.65 144.943 L1436.26 173.276 Z\" fill=\"#000000\" fill-rule=\"evenodd\" fill-opacity=\"1\" /><path clip-path=\"url(#clip820)\" d=\"M1469.15 149.341 L1498.83 149.341 L1498.83 153.23 L1469.15 153.23 L1469.15 149.341 M1469.15 158.785 L1498.83 158.785 L1498.83 162.721 L1469.15 162.721 L1469.15 158.785 Z\" fill=\"#000000\" fill-rule=\"evenodd\" fill-opacity=\"1\" /><path clip-path=\"url(#clip820)\" d=\"M1524.03 136.309 L1542.39 136.309 L1542.39 140.244 L1528.32 140.244 L1528.32 148.716 Q1529.34 148.369 1530.35 148.207 Q1531.37 148.022 1532.39 148.022 Q1538.18 148.022 1541.56 151.193 Q1544.94 154.364 1544.94 159.781 Q1544.94 165.359 1541.46 168.461 Q1537.99 171.54 1531.67 171.54 Q1529.5 171.54 1527.23 171.17 Q1524.98 170.799 1522.58 170.058 L1522.58 165.359 Q1524.66 166.494 1526.88 167.049 Q1529.1 167.605 1531.58 167.605 Q1535.59 167.605 1537.92 165.498 Q1540.26 163.392 1540.26 159.781 Q1540.26 156.17 1537.92 154.063 Q1535.59 151.957 1531.58 151.957 Q1529.71 151.957 1527.83 152.373 Q1525.98 152.79 1524.03 153.67 L1524.03 136.309 Z\" fill=\"#000000\" fill-rule=\"evenodd\" fill-opacity=\"1\" /><path clip-path=\"url(#clip820)\" d=\"M1585.96 141.147 L1585.96 154.04 L1598.85 154.04 L1598.85 157.975 L1585.96 157.975 L1585.96 170.869 L1582.07 170.869 L1582.07 157.975 L1569.17 157.975 L1569.17 154.04 L1582.07 154.04 L1582.07 141.147 L1585.96 141.147 Z\" fill=\"#000000\" fill-rule=\"evenodd\" fill-opacity=\"1\" /><path clip-path=\"url(#clip820)\" d=\"M1638.18 152.234 Q1641.53 152.952 1643.41 155.221 Q1645.31 157.489 1645.31 160.822 Q1645.31 165.938 1641.79 168.739 Q1638.27 171.54 1631.79 171.54 Q1629.61 171.54 1627.3 171.1 Q1625.01 170.683 1622.55 169.827 L1622.55 165.313 Q1624.5 166.447 1626.81 167.026 Q1629.13 167.605 1631.65 167.605 Q1636.05 167.605 1638.34 165.869 Q1640.65 164.133 1640.65 160.822 Q1640.65 157.767 1638.5 156.054 Q1636.37 154.318 1632.55 154.318 L1628.52 154.318 L1628.52 150.475 L1632.74 150.475 Q1636.19 150.475 1638.02 149.109 Q1639.84 147.721 1639.84 145.128 Q1639.84 142.466 1637.95 141.054 Q1636.07 139.619 1632.55 139.619 Q1630.63 139.619 1628.43 140.035 Q1626.23 140.452 1623.59 141.332 L1623.59 137.165 Q1626.26 136.424 1628.57 136.054 Q1630.91 135.684 1632.97 135.684 Q1638.29 135.684 1641.39 138.114 Q1644.5 140.522 1644.5 144.642 Q1644.5 147.512 1642.85 149.503 Q1641.21 151.471 1638.18 152.234 Z\" fill=\"#000000\" fill-rule=\"evenodd\" fill-opacity=\"1\" /><path clip-path=\"url(#clip820)\" d=\"M1690.19 144.943 L1680.82 157.559 L1690.68 170.869 L1685.65 170.869 L1678.11 160.683 L1670.56 170.869 L1665.54 170.869 L1675.61 157.304 L1666.39 144.943 L1671.42 144.943 L1678.29 154.179 L1685.17 144.943 L1690.19 144.943 Z\" fill=\"#000000\" fill-rule=\"evenodd\" fill-opacity=\"1\" /><path clip-path=\"url(#clip820)\" d=\"M1729.1 141.147 L1729.1 154.04 L1742 154.04 L1742 157.975 L1729.1 157.975 L1729.1 170.869 L1725.21 170.869 L1725.21 157.975 L1712.32 157.975 L1712.32 154.04 L1725.21 154.04 L1725.21 141.147 L1729.1 141.147 Z\" fill=\"#000000\" fill-rule=\"evenodd\" fill-opacity=\"1\" /><path clip-path=\"url(#clip820)\" d=\"M1767.97 166.933 L1775.61 166.933 L1775.61 140.568 L1767.3 142.235 L1767.3 137.975 L1775.56 136.309 L1780.24 136.309 L1780.24 166.933 L1787.88 166.933 L1787.88 170.869 L1767.97 170.869 L1767.97 166.933 Z\" fill=\"#000000\" fill-rule=\"evenodd\" fill-opacity=\"1\" /><path clip-path=\"url(#clip820)\" d=\"M1797.32 164.989 L1802.2 164.989 L1802.2 170.869 L1797.32 170.869 L1797.32 164.989 Z\" fill=\"#000000\" fill-rule=\"evenodd\" fill-opacity=\"1\" /><path clip-path=\"url(#clip820)\" d=\"M1812.44 136.309 L1830.79 136.309 L1830.79 140.244 L1816.72 140.244 L1816.72 148.716 Q1817.74 148.369 1818.76 148.207 Q1819.77 148.022 1820.79 148.022 Q1826.58 148.022 1829.96 151.193 Q1833.34 154.364 1833.34 159.781 Q1833.34 165.359 1829.87 168.461 Q1826.39 171.54 1820.07 171.54 Q1817.9 171.54 1815.63 171.17 Q1813.38 170.799 1810.98 170.058 L1810.98 165.359 Q1813.06 166.494 1815.28 167.049 Q1817.51 167.605 1819.98 167.605 Q1823.99 167.605 1826.32 165.498 Q1828.66 163.392 1828.66 159.781 Q1828.66 156.17 1826.32 154.063 Q1823.99 151.957 1819.98 151.957 Q1818.11 151.957 1816.23 152.373 Q1814.38 152.79 1812.44 153.67 L1812.44 136.309 Z\" fill=\"#000000\" fill-rule=\"evenodd\" fill-opacity=\"1\" /><path clip-path=\"url(#clip820)\" d=\"M1878.57 144.943 L1869.19 157.559 L1879.06 170.869 L1874.03 170.869 L1866.49 160.683 L1858.94 170.869 L1853.92 170.869 L1863.99 157.304 L1854.77 144.943 L1859.8 144.943 L1866.67 154.179 L1873.55 144.943 L1878.57 144.943 Z\" fill=\"#000000\" fill-rule=\"evenodd\" fill-opacity=\"1\" /><path clip-path=\"url(#clip820)\" d=\"M1902.74 136.309 L1915.31 149.202 L1910.65 149.202 L1900.47 140.059 L1890.28 149.202 L1885.63 149.202 L1898.2 136.309 L1902.74 136.309 Z\" fill=\"#000000\" fill-rule=\"evenodd\" fill-opacity=\"1\" /><path clip-path=\"url(#clip820)\" d=\"M1929.43 166.933 L1945.75 166.933 L1945.75 170.869 L1923.8 170.869 L1923.8 166.933 Q1926.46 164.179 1931.05 159.549 Q1935.65 154.896 1936.83 153.554 Q1939.08 151.031 1939.96 149.295 Q1940.86 147.535 1940.86 145.846 Q1940.86 143.091 1938.92 141.355 Q1937 139.619 1933.89 139.619 Q1931.69 139.619 1929.24 140.383 Q1926.81 141.147 1924.03 142.697 L1924.03 137.975 Q1926.86 136.841 1929.31 136.262 Q1931.76 135.684 1933.8 135.684 Q1939.17 135.684 1942.37 138.369 Q1945.56 141.054 1945.56 145.545 Q1945.56 147.674 1944.75 149.596 Q1943.96 151.494 1941.86 154.086 Q1941.28 154.758 1938.18 157.975 Q1935.07 161.17 1929.43 166.933 Z\" fill=\"#000000\" fill-rule=\"evenodd\" fill-opacity=\"1\" /><path clip-path=\"url(#clip820)\" d=\"M1987.37 141.147 L1987.37 154.04 L2000.26 154.04 L2000.26 157.975 L1987.37 157.975 L1987.37 170.869 L1983.48 170.869 L1983.48 157.975 L1970.58 157.975 L1970.58 154.04 L1983.48 154.04 L1983.48 141.147 L1987.37 141.147 Z\" fill=\"#000000\" fill-rule=\"evenodd\" fill-opacity=\"1\" /><path clip-path=\"url(#clip820)\" d=\"M2035.42 139.387 Q2031.81 139.387 2029.98 142.952 Q2028.18 146.494 2028.18 153.623 Q2028.18 160.73 2029.98 164.295 Q2031.81 167.836 2035.42 167.836 Q2039.05 167.836 2040.86 164.295 Q2042.69 160.73 2042.69 153.623 Q2042.69 146.494 2040.86 142.952 Q2039.05 139.387 2035.42 139.387 M2035.42 135.684 Q2041.23 135.684 2044.29 140.29 Q2047.36 144.873 2047.36 153.623 Q2047.36 162.35 2044.29 166.957 Q2041.23 171.54 2035.42 171.54 Q2029.61 171.54 2026.53 166.957 Q2023.48 162.35 2023.48 153.623 Q2023.48 144.873 2026.53 140.29 Q2029.61 135.684 2035.42 135.684 Z\" fill=\"#000000\" fill-rule=\"evenodd\" fill-opacity=\"1\" /><path clip-path=\"url(#clip820)\" d=\"M2055.58 164.989 L2060.47 164.989 L2060.47 170.869 L2055.58 170.869 L2055.58 164.989 Z\" fill=\"#000000\" fill-rule=\"evenodd\" fill-opacity=\"1\" /><path clip-path=\"url(#clip820)\" d=\"M2069.47 136.309 L2091.69 136.309 L2091.69 138.299 L2079.15 170.869 L2074.26 170.869 L2086.07 140.244 L2069.47 140.244 L2069.47 136.309 Z\" fill=\"#000000\" fill-rule=\"evenodd\" fill-opacity=\"1\" /><path clip-path=\"url(#clip820)\" d=\"M2100.86 136.309 L2119.22 136.309 L2119.22 140.244 L2105.14 140.244 L2105.14 148.716 Q2106.16 148.369 2107.18 148.207 Q2108.2 148.022 2109.22 148.022 Q2115 148.022 2118.38 151.193 Q2121.76 154.364 2121.76 159.781 Q2121.76 165.359 2118.29 168.461 Q2114.82 171.54 2108.5 171.54 Q2106.32 171.54 2104.05 171.17 Q2101.81 170.799 2099.4 170.058 L2099.4 165.359 Q2101.48 166.494 2103.71 167.049 Q2105.93 167.605 2108.41 167.605 Q2112.41 167.605 2114.75 165.498 Q2117.09 163.392 2117.09 159.781 Q2117.09 156.17 2114.75 154.063 Q2112.41 151.957 2108.41 151.957 Q2106.53 151.957 2104.66 152.373 Q2102.8 152.79 2100.86 153.67 L2100.86 136.309 Z\" fill=\"#000000\" fill-rule=\"evenodd\" fill-opacity=\"1\" /><path clip-path=\"url(#clip820)\" d=\"M2166.99 144.943 L2157.62 157.559 L2167.48 170.869 L2162.46 170.869 L2154.91 160.683 L2147.36 170.869 L2142.34 170.869 L2152.41 157.304 L2143.2 144.943 L2148.22 144.943 L2155.1 154.179 L2161.97 144.943 L2166.99 144.943 Z\" fill=\"#000000\" fill-rule=\"evenodd\" fill-opacity=\"1\" /><path clip-path=\"url(#clip820)\" d=\"M2191.16 136.309 L2203.73 149.202 L2199.08 149.202 L2188.89 140.059 L2178.71 149.202 L2174.05 149.202 L2186.62 136.309 L2191.16 136.309 Z\" fill=\"#000000\" fill-rule=\"evenodd\" fill-opacity=\"1\" /><path clip-path=\"url(#clip820)\" d=\"M2227.99 152.234 Q2231.35 152.952 2233.22 155.221 Q2235.12 157.489 2235.12 160.822 Q2235.12 165.938 2231.6 168.739 Q2228.08 171.54 2221.6 171.54 Q2219.42 171.54 2217.11 171.1 Q2214.82 170.683 2212.36 169.827 L2212.36 165.313 Q2214.31 166.447 2216.62 167.026 Q2218.94 167.605 2221.46 167.605 Q2225.86 167.605 2228.15 165.869 Q2230.47 164.133 2230.47 160.822 Q2230.47 157.767 2228.31 156.054 Q2226.18 154.318 2222.36 154.318 L2218.34 154.318 L2218.34 150.475 L2222.55 150.475 Q2226 150.475 2227.83 149.109 Q2229.66 147.721 2229.66 145.128 Q2229.66 142.466 2227.76 141.054 Q2225.88 139.619 2222.36 139.619 Q2220.44 139.619 2218.24 140.035 Q2216.04 140.452 2213.41 141.332 L2213.41 137.165 Q2216.07 136.424 2218.38 136.054 Q2220.72 135.684 2222.78 135.684 Q2228.1 135.684 2231.21 138.114 Q2234.31 140.522 2234.31 144.642 Q2234.31 147.512 2232.66 149.503 Q2231.02 151.471 2227.99 152.234 Z\" fill=\"#000000\" fill-rule=\"evenodd\" fill-opacity=\"1\" /></svg>\n"
     },
     "execution_count": 420,
     "metadata": {},
     "output_type": "execute_result"
    }
   ],
   "source": [
    "pol3(x, a, b, c, d) = a + b*x + c*x^2 + d*x^3\n",
    "x=collect(LinRange(0., 10., 100))\n",
    "y = pol3.(x,(5.0,), (3.0,), (1.5,),(0.75,),)\n",
    "plot(x,y, label=\"y = 5 + 3 x + 1.5 x^2 + 0.75 x^3\")\n",
    "xlabel!(\"x\")\n",
    "ylabel!(\"y\")  "
   ]
  }
 ],
 "metadata": {
  "kernelspec": {
   "display_name": "Julia 1.6.1",
   "language": "julia",
   "name": "julia-1.6"
  },
  "language_info": {
   "file_extension": ".jl",
   "mimetype": "application/julia",
   "name": "julia",
   "version": "1.6.1"
  }
 },
 "nbformat": 4,
 "nbformat_minor": 5
}
