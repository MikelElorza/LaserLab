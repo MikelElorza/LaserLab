{
 "cells": [
  {
   "cell_type": "code",
   "execution_count": 19,
   "metadata": {},
   "outputs": [],
   "source": [
    "using Test\n",
    "using Plots\n",
    "using Printf\n",
    "using Unitful"
   ]
  },
  {
   "cell_type": "code",
   "execution_count": 2,
   "id": "6679c7f3",
   "metadata": {},
   "outputs": [],
   "source": [
    "import Unitful:\n",
    "    nm, μm, mm, cm, m, km,\n",
    "    mg, g, kg,\n",
    "    ns, μs, ms, s, minute, hr, d, yr, Hz,\n",
    "    eV,\n",
    "    μJ, mJ, J,\n",
    "\tμW, mW, W"
   ]
  },
  {
   "cell_type": "code",
   "execution_count": 36,
   "metadata": {},
   "outputs": [
    {
     "name": "stderr",
     "output_type": "stream",
     "text": [
      "WARNING: replacing module LaserLab.\n"
     ]
    },
    {
     "data": {
      "text/plain": [
       "Main.LaserLab"
      ]
     },
     "execution_count": 36,
     "metadata": {},
     "output_type": "execute_result"
    }
   ],
   "source": [
    "include(\"../src/LaserLab.jl\")"
   ]
  },
  {
   "cell_type": "markdown",
   "metadata": {},
   "source": [
    "# Gaussian Laser"
   ]
  },
  {
   "cell_type": "markdown",
   "id": "b8ac2e9b",
   "metadata": {},
   "source": [
    "### Gaussian beam formulas\n",
    "\n",
    "$g(r,z) = e^{-2(r/w(z))^2}$\n",
    "\n",
    "$w(z) = w_0 \\sqrt{1 + (\\frac{z}{z_r})^2}$\n",
    "\n",
    "$I(r,z) = I_0 [\\frac{w_0}{w(z)}]^2 g(r,z)$\n",
    "\n",
    "$z_r = \\pi  \\frac{w_0^2}{\\lambda}$\n",
    "\n",
    "The formulas verify the following limits:\n",
    "\n",
    "$I(r, 0) = I_0 e^{-2(r/w_0)^2}$\n",
    "\n",
    "$I(0, z) = I_0 [\\frac{w_0}{w(z)}]^2 = \\frac{I_0}{1 + (z/z_r)^2}$\n",
    "\n",
    "Which has maximum value ($I_0$) at $z=0$ and then decreases as z increases. For $z=z_r$ the intensity along the axis is reduced by half. \n",
    "\n",
    "for $z << z_r, w(z) = w_0$, and:\n",
    "\n",
    "$I(0, z) = I_0$\n",
    "\n",
    "$I(r, z) = I_0 e^{-2(r/w_0)^2}$\n",
    "\n",
    "\n",
    "Thus, the beam intensity falls exponentially with the radius r and is a constant ($I_0$) along the longitudinal axis, for $r=0$.\n",
    "\n",
    "The beam power is obtained integrating the irradiance at any transverse plane. For simplicity we can choose $z=0$:\n",
    "\n",
    "$P = \\int_0^\\infty I(r,0) 2 \\pi r dr = 2 \\pi I_0 \\int e^{-2(r/w_0)^2} r dr$ \n",
    "\n",
    "Define $y = \\frac{2 r^2}{w_0^2}$. Then $dy = \\frac{4 r}{w_0^2} dr$, $dr = \\frac{w_0^2}{4 r} dy$ and:\n",
    "\n",
    "$P = 2 \\pi I_0 \\frac{w_0^2}{4} \\int_0^\\infty e^{-y} dy$ \n",
    "\n",
    "Since $\\int_0^\\infty e^-y dy = 1$, we find:\n",
    "\n",
    "$P = I_0 \\frac{\\pi w_0^2}{2}$\n",
    "\n",
    "or:\n",
    "\n",
    "$I_0 = \\frac{2 P}{\\pi w_0^2}$ \n"
   ]
  },
  {
   "cell_type": "markdown",
   "id": "255b7c47",
   "metadata": {},
   "source": [
    "### Define laser and objective "
   ]
  },
  {
   "cell_type": "code",
   "execution_count": 47,
   "id": "c5ae71f4",
   "metadata": {},
   "outputs": [
    {
     "data": {
      "text/plain": [
       "Main.LaserLab.Objective(\"LMU-40X-NUV\", 0.48113207547169806, 40.0, 5.3 mm, 5.1 mm)"
      ]
     },
     "execution_count": 47,
     "metadata": {},
     "output_type": "execute_result"
    }
   ],
   "source": [
    "luv = LaserLab.Laser(375.0nm, 1.0μW)\n",
    "lmu_40x_nuv = LaserLab.Objective(\"LMU-40X-NUV\", 5.3mm, 5.1mm, 40.0)\n"
   ]
  },
  {
   "cell_type": "markdown",
   "id": "e7425461",
   "metadata": {},
   "source": [
    "\tGLaser\n",
    "\n",
    "Representation of a Gaussian laser\n",
    "\n",
    "### Fields\n",
    "- `λ::typeof(1.0nm)`       : Laser wavelength\n",
    "- `P::typeof(1.0mW)`       : Power\n",
    "- `w0::typeof(1.0nm)`      : Waist of laser at focusing point\n",
    "- `zr::typeof(1.0nm)`      : Rayleigh length\n",
    "- `I0::typeof(1.0mW/cm^2)` : Intensity at r = 0, z= 0\n",
    "- `ρ0::typeof(1.0Hz/cm^2)` : Photon density at r = 0, z= 0"
   ]
  },
  {
   "cell_type": "code",
   "execution_count": 48,
   "id": "04600961",
   "metadata": {},
   "outputs": [
    {
     "name": "stdout",
     "output_type": "stream",
     "text": [
      "λ = 375.0 nm P =   1.0 mW, w0 = 248.1 μm, I(0,0) = 1e+06 mW/cm2 ρ(0,0) = 9.8e+20 Hz/cm2"
     ]
    }
   ],
   "source": [
    "gl  = LaserLab.GaussianLaser(luv,lmu_40x_nuv)\n",
    "@printf(\"λ = %5.1f nm P = %5.1f mW, w0 = %5.1f μm, I(0,0) = %5.2g mW/cm2 ρ(0,0) = %5.2g Hz/cm2\", \n",
    "        uconvert(nm, gl.laser.λ)/nm, \n",
    "        uconvert(μW, gl.laser.P)/μW, \n",
    "        uconvert(nm, gl.w0)/nm, gl.I0/(mW*cm^-2), gl.ρ0/(Hz*cm^-2))\n"
   ]
  },
  {
   "cell_type": "code",
   "execution_count": 49,
   "id": "2179ea34",
   "metadata": {},
   "outputs": [
    {
     "data": {
      "text/plain": [
       "515.6473300405238 nm"
      ]
     },
     "execution_count": 49,
     "metadata": {},
     "output_type": "execute_result"
    }
   ],
   "source": [
    "gl.zr"
   ]
  },
  {
   "cell_type": "markdown",
   "id": "697fe78c",
   "metadata": {},
   "source": [
    "### Calibration setup\n",
    "\n",
    "Consider now the problem of calibrating the TOPATU setup using a fluorescent solution of known fluorophores cross section (σ) and quantum yield (Q), with a given concentration (C). The solution is contained in a vial of quartz. The laser beam is collimated to a waist of $(gl.w0)$ and crosses the vial, which has a thickness $(lz)$. A CCD/PMT with a lens of diameter $d_l$ located at a position $x_l$, with respect to the vial, along the z axis, records the photons emitted by the solution. \n",
    "\n",
    "For a waist of $(gl.w0)$, $gl.zr$ = $(lti.LabTools.to_fstr(gl.zr/mm,\"%5.2g\")) and thus any point in the vial has a small z compared with zr. Therefore:\n",
    "\n",
    "$w(z) = w_0$\n",
    "\n",
    "$I(r, z) = I_0 e^{-2(r/w_0)^2}$\n",
    "\n",
    "When the beam crosses the vial it iluminates all the fluorophores. The emitted rate of photons is found by integrating the irradiance and multiplying by the cross section, the quantum yield and the concentration:\n",
    "\n",
    "$N = \\sigma\\, Q\\, C \\int_z \\int_r I(r) 2 \\pi r dr$\n",
    "\n",
    "The integral in $z$ is trivial and yields the thickness of the vial, $t$. The integral in $r$ can be precisely approximated by the integral to all the space, since the dimensions in r of the vial are much larger than the beam spread. Thus:\n",
    "\n",
    "$N = I_0\\, \\sigma\\, Q\\, C\\, t\\, 2 \\pi \\int e^{-2(r/w_0)^2} r dr$\n",
    "\n",
    "$N =  \\frac{ I_0\\, \\sigma\\, Q\\, C\\, t\\, \\pi w_0^2}{2}$\n",
    "\n",
    "For a gaussian beam > 99.9 % of the power is contained in a radius $\\rho = 2 w(z)$. In our case $w(z) \\sim w_0$, and thus all the beam power is contained in $2 w_0$. Thus:\n",
    "\n",
    "- Beam power contained in $(2*gl.w0)\n",
    "\n",
    "This means that the photons are emitted along a \"wire\" of $(2*gl.w0) mm diameter and  $lz length. The dimensions of the fluorescent volume are small compared with the solid angle, since the CCD is at a distance d = $dccd mm much larger than t = $lz mm. Therefore, we can approximate that the emission occurs from a single point located in the center of the vase. \n",
    "\n",
    "The geometrical acceptance is: \n",
    "\n",
    "$A = \\frac{1}{2}(1 - \\frac{d}{\\sqrt{(d^2 + (D/2)^2}})$\n",
    "\n",
    "where $D$ is the aperture of the CCD and $d$ is the distance to the interaction point."
   ]
  },
  {
   "cell_type": "code",
   "execution_count": null,
   "id": "a9ee3ed9",
   "metadata": {},
   "outputs": [],
   "source": []
  },
  {
   "cell_type": "code",
   "execution_count": null,
   "metadata": {},
   "outputs": [],
   "source": [
    "@test fov.a ≈ π * (fov.d/2.)^2 \n",
    "@test fov.v ≈ fov.a * fov.z"
   ]
  },
  {
   "cell_type": "markdown",
   "id": "382fd409",
   "metadata": {},
   "source": [
    "\tstruct Laser\n",
    "\n",
    "Simple representation of a laser\n",
    "\n",
    "#### Fields\n",
    "- `λ::typeof(1.0nm)`  : Laser wavelength\n",
    "- `P::typeof(1.0mW)`  : Power"
   ]
  },
  {
   "cell_type": "code",
   "execution_count": null,
   "id": "51800f8f",
   "metadata": {},
   "outputs": [],
   "source": [
    "luv = LaserLab.Laser(375.0nm, 1.0μW)"
   ]
  },
  {
   "cell_type": "markdown",
   "id": "baccb9d0",
   "metadata": {},
   "source": [
    "\tObjective\n",
    "\n",
    "Simple representation of a microscope objective\n",
    "\n",
    "#### Fields\n",
    "- `name::String` : identifies the objective\n",
    "- `NA::Float64`  : Numerical aperture\n",
    "- `M::Float64`   : Magnification"
   ]
  },
  {
   "cell_type": "code",
   "execution_count": null,
   "id": "b9acd30d",
   "metadata": {},
   "outputs": [],
   "source": [
    "obj = LaserLab.Objective(\"Generic\", 0.5, 40.0)"
   ]
  },
  {
   "cell_type": "markdown",
   "id": "9a1c067e",
   "metadata": {},
   "source": [
    "\tGaussianLaser\n",
    "\n",
    "Representation of a Gaussian laser\n",
    "\n",
    "#### Fields\n",
    "- `laser::Laser`       : A laser type\n",
    "- `obj::Objective`     : An objective type\n",
    "- `w0::typeof(1.0nm)`  : Waist of laser at focusing point\n",
    "- `zr::typeof(1.0nm)`  : z of laser at focusing point"
   ]
  },
  {
   "cell_type": "code",
   "execution_count": null,
   "id": "23857d2a",
   "metadata": {},
   "outputs": [],
   "source": [
    "gl = LaserLab.GaussianLaser(luv,obj)"
   ]
  },
  {
   "cell_type": "code",
   "execution_count": null,
   "id": "742f4ea1",
   "metadata": {},
   "outputs": [],
   "source": [
    "@test gl.w0 ≈ luv.λ/(π * obj.NA)\n",
    "@test gl.zr ≈ luv.λ/(π * obj.NA^2)"
   ]
  },
  {
   "cell_type": "markdown",
   "id": "7d7d6567",
   "metadata": {},
   "source": [
    "\n",
    "\tphoton_energy(λ::Unitful.Length)\n",
    "\n",
    "Given wavelength of photon return its energy.\n",
    "#### Fields\n",
    "\n",
    "- `λ::Unitful.Length`  : Photon wavelength\n"
   ]
  },
  {
   "cell_type": "code",
   "execution_count": null,
   "id": "ea146d06",
   "metadata": {},
   "outputs": [],
   "source": [
    "LaserLab.photon_energy(500.0nm)"
   ]
  },
  {
   "cell_type": "code",
   "execution_count": null,
   "id": "a557eab8",
   "metadata": {},
   "outputs": [],
   "source": [
    "function hnu_eV(lambda_nm)\n",
    "    return 1240.0 * (1.0/lambda_nm)\n",
    "end\n"
   ]
  },
  {
   "cell_type": "code",
   "execution_count": null,
   "id": "fcbb999b",
   "metadata": {},
   "outputs": [],
   "source": [
    "@test isapprox(LaserLab.photon_energy(500.0nm)/eV, hnu_eV(500.0), rtol=0.01)"
   ]
  },
  {
   "cell_type": "markdown",
   "id": "ceab17c6",
   "metadata": {},
   "source": [
    "\tdelivered_energy(laser::Laser, t::Unitful.Time)\n",
    "\n",
    "Delivered energy of a laser in a given time.\n",
    "#### Fields\n",
    "\n",
    "- `laser::Laser`     : Laser\n",
    "- `t::Unitful.Time`  : Time in which target is illuminated\n"
   ]
  },
  {
   "cell_type": "code",
   "execution_count": null,
   "metadata": {},
   "outputs": [],
   "source": [
    "uconvert(J, LaserLab.delivered_energy(luv, 1*s)) ≈ 1.0μJ"
   ]
  },
  {
   "cell_type": "markdown",
   "id": "9bef163e",
   "metadata": {},
   "source": [
    "\tn_photons(laser::Laser)\n",
    "\n",
    "Rate of photons (number of photons per unit time) produced by a laser\n",
    "#### Fields\n",
    "\n",
    "- `laser::Laser`     : Laser\n",
    "- `t::Unitful.Time`  : Time in which target is illuminated\n"
   ]
  },
  {
   "cell_type": "code",
   "execution_count": null,
   "id": "698309c6",
   "metadata": {},
   "outputs": [],
   "source": [
    "LaserLab.n_photons(luv)"
   ]
  },
  {
   "cell_type": "markdown",
   "id": "c60055e8",
   "metadata": {},
   "source": [
    "    n_photons(λ::Unitful.Length, p::Unitful.Power)\n",
    "\n",
    "Rate of photons (number of photons per unit time) corresponding to a wavelength\n",
    "λ and a power P\n",
    "\n",
    "#### Fields\n",
    "\n",
    "- `λ::Unitful.Length` : photon wavelength\n",
    "- `p::Unitful.Power`  : Power"
   ]
  },
  {
   "cell_type": "code",
   "execution_count": null,
   "id": "40c3dc28",
   "metadata": {},
   "outputs": [],
   "source": [
    "LaserLab.n_photons(luv) ≈ LaserLab.n_photons(375.0nm, 1.0μW)"
   ]
  },
  {
   "cell_type": "markdown",
   "id": "73b67983",
   "metadata": {},
   "source": [
    "\tn_photons_int(laser::Laser, t::Unitful.Time)\n",
    "\n",
    "Integrated number of photons in a given time emitted by a laser\n",
    "\n",
    "#### Fields\n",
    "\n",
    "- `laser::Laser`    : Laser\n",
    "- `t::Unitful.Time` : time of measurement"
   ]
  },
  {
   "cell_type": "code",
   "execution_count": null,
   "id": "033efea9",
   "metadata": {},
   "outputs": [],
   "source": [
    "LaserLab.n_photons_int(luv, 1.0s) ≈ LaserLab.n_photons(luv)/Hz"
   ]
  },
  {
   "cell_type": "markdown",
   "id": "19b959b2",
   "metadata": {},
   "source": [
    "    photon_density(λ::Unitful.Length, p::Unitful.Power, a::Unitful.Area)\n",
    "\n",
    "number of photons per unit time per unit area\n",
    "\n",
    "#### Fields\n",
    "\n",
    "- `λ::Unitful.Length` : photon wavelength\n",
    "- `p::Unitful.Power`  : Power\n",
    "- `a::Unitful.Area`   : Area"
   ]
  },
  {
   "cell_type": "code",
   "execution_count": null,
   "id": "5883e388",
   "metadata": {},
   "outputs": [],
   "source": [
    "LaserLab.photon_density(375.0nm, 1.0μW, fov.a)"
   ]
  },
  {
   "cell_type": "markdown",
   "id": "ba2411c4",
   "metadata": {},
   "source": [
    "\tphoton_density(l::Laser, fov::Fov)\n",
    "\n",
    "number of photons per unit time per unit area, in a Fov illuminated by a laser\n",
    "\n",
    "#### Fields\n",
    "\n",
    "- `laser::Laser` : Laser\n",
    "- `fov::Fov`     : Field of view\n"
   ]
  },
  {
   "cell_type": "code",
   "execution_count": null,
   "metadata": {},
   "outputs": [],
   "source": [
    "LaserLab.photon_density(375.0nm, 1.0μW, fov.a) ≈ LaserLab.photon_density(luv, fov)"
   ]
  },
  {
   "cell_type": "markdown",
   "id": "be080ec3",
   "metadata": {},
   "source": [
    "\n",
    "\tw(gl::GaussianLaser, z::Unitful.Length)\n",
    "\n",
    "Waist of a laser at length z\n",
    "\n",
    "#### Fields\n",
    "\n",
    "- `gl::GaussianLaser`  : A gaussian laser\n",
    "- `z::Unitful.Length`  : z distance from focusing point\n"
   ]
  },
  {
   "cell_type": "code",
   "execution_count": null,
   "id": "bfeae5bf",
   "metadata": {},
   "outputs": [],
   "source": [
    "LaserLab.w(gl, gl.zr)"
   ]
  },
  {
   "cell_type": "code",
   "execution_count": null,
   "metadata": {},
   "outputs": [],
   "source": [
    "pol3(x, a, b, c, d) = a + b*x + c*x^2 + d*x^3\n",
    "x=collect(LinRange(0., 10., 100))\n",
    "y = pol3.(x,(5.0,), (3.0,), (1.5,),(0.75,),)\n",
    "plot(x,y, label=\"y = 5 + 3 x + 1.5 x^2 + 0.75 x^3\")\n",
    "xlabel!(\"x\")\n",
    "ylabel!(\"y\")  "
   ]
  }
 ],
 "metadata": {
  "kernelspec": {
   "display_name": "Julia 1.6.1",
   "language": "julia",
   "name": "julia-1.6"
  },
  "language_info": {
   "file_extension": ".jl",
   "mimetype": "application/julia",
   "name": "julia",
   "version": "1.6.1"
  }
 },
 "nbformat": 4,
 "nbformat_minor": 5
}
